{
 "cells": [
  {
   "cell_type": "markdown",
   "id": "3a19c5a9",
   "metadata": {},
   "source": [
    "# Working with Pandas Series"
   ]
  },
  {
   "cell_type": "markdown",
   "id": "f74b42f4",
   "metadata": {},
   "source": [
    "* Practioner: Cleiber Garcia\n",
    "* Date: 15 of January, 2023\n",
    "* Objective: Practice working with Series data type\n",
    "\n",
    "This notebook is based on the notebook written by Boris Pashkaver for the Course Data Analysis with Pandas and Python (Section 3: Series), offered at Udemy. Although the degree of similarity between both notebooks is almost 100%, I built this notebook step by step.\n",
    "\n",
    "Link: https://www.udemy.com/course/data-analysis-with-pandas/\n",
    "\n",
    "For more information feel free to contact me at cleiber.garcia@gmail.com"
   ]
  },
  {
   "cell_type": "code",
   "execution_count": 1,
   "id": "d9d02369",
   "metadata": {},
   "outputs": [],
   "source": [
    "import pandas as pd"
   ]
  },
  {
   "cell_type": "code",
   "execution_count": 2,
   "id": "f8aabe0d",
   "metadata": {},
   "outputs": [],
   "source": [
    "# Below, we have a list of delicious tortilla chip flavors\n",
    "flavors = [\"Spicy Sweet Chili\", \"Cool Ranch\", \"Nacho Cheese\", \"Salsa Verde\"]"
   ]
  },
  {
   "cell_type": "code",
   "execution_count": 3,
   "id": "8c749b50",
   "metadata": {},
   "outputs": [
    {
     "data": {
      "text/plain": [
       "['Spicy Sweet Chili', 'Cool Ranch', 'Nacho Cheese', 'Salsa Verde']"
      ]
     },
     "execution_count": 3,
     "metadata": {},
     "output_type": "execute_result"
    }
   ],
   "source": [
    "flavors"
   ]
  },
  {
   "cell_type": "code",
   "execution_count": 4,
   "id": "112f2b5f",
   "metadata": {},
   "outputs": [
    {
     "data": {
      "text/plain": [
       "list"
      ]
     },
     "execution_count": 4,
     "metadata": {},
     "output_type": "execute_result"
    }
   ],
   "source": [
    "type(flavors)"
   ]
  },
  {
   "cell_type": "code",
   "execution_count": 5,
   "id": "ea93964e",
   "metadata": {},
   "outputs": [],
   "source": [
    "doritos = pd.Series(flavors)"
   ]
  },
  {
   "cell_type": "code",
   "execution_count": 6,
   "id": "c5e473b1",
   "metadata": {},
   "outputs": [
    {
     "data": {
      "text/plain": [
       "0    Spicy Sweet Chili\n",
       "1           Cool Ranch\n",
       "2         Nacho Cheese\n",
       "3          Salsa Verde\n",
       "dtype: object"
      ]
     },
     "execution_count": 6,
     "metadata": {},
     "output_type": "execute_result"
    }
   ],
   "source": [
    "doritos"
   ]
  },
  {
   "cell_type": "code",
   "execution_count": 7,
   "id": "e3988cd9",
   "metadata": {},
   "outputs": [
    {
     "data": {
      "text/plain": [
       "pandas.core.series.Series"
      ]
     },
     "execution_count": 7,
     "metadata": {},
     "output_type": "execute_result"
    }
   ],
   "source": [
    "type(doritos)"
   ]
  },
  {
   "cell_type": "code",
   "execution_count": 8,
   "id": "242c58a8",
   "metadata": {},
   "outputs": [
    {
     "data": {
      "text/plain": [
       "0    Spicy Sweet Chili\n",
       "1           Cool Ranch\n",
       "2         Nacho Cheese\n",
       "3          Salsa Verde\n",
       "dtype: object"
      ]
     },
     "execution_count": 8,
     "metadata": {},
     "output_type": "execute_result"
    }
   ],
   "source": [
    "doritos"
   ]
  },
  {
   "cell_type": "code",
   "execution_count": 9,
   "id": "d501867d",
   "metadata": {},
   "outputs": [],
   "source": [
    "sorted_doritos = doritos.sort_values(ascending=False)"
   ]
  },
  {
   "cell_type": "code",
   "execution_count": 12,
   "id": "0cb1d311",
   "metadata": {},
   "outputs": [
    {
     "data": {
      "text/plain": [
       "0    Spicy Sweet Chili\n",
       "3          Salsa Verde\n",
       "2         Nacho Cheese\n",
       "1           Cool Ranch\n",
       "dtype: object"
      ]
     },
     "execution_count": 12,
     "metadata": {},
     "output_type": "execute_result"
    }
   ],
   "source": [
    "sorted_doritos"
   ]
  },
  {
   "cell_type": "code",
   "execution_count": 10,
   "id": "d6c377c1",
   "metadata": {},
   "outputs": [],
   "source": [
    "# Dictionary mapping guitar types to their colors\n",
    "guitars_dict = {\n",
    "    \"Fender Telecaster\": \"Baby Blue\",\n",
    "    \"Gibson Les Paul\": \"Sunburst\",\n",
    "    \"ESP Eclipse\": \"Dark Green\"}"
   ]
  },
  {
   "cell_type": "code",
   "execution_count": 11,
   "id": "d1140f6a",
   "metadata": {},
   "outputs": [],
   "source": [
    "guitars = pd.Series(guitars_dict)"
   ]
  },
  {
   "cell_type": "code",
   "execution_count": 12,
   "id": "d9de6665",
   "metadata": {},
   "outputs": [
    {
     "data": {
      "text/plain": [
       "{'Fender Telecaster': 'Baby Blue',\n",
       " 'Gibson Les Paul': 'Sunburst',\n",
       " 'ESP Eclipse': 'Dark Green'}"
      ]
     },
     "execution_count": 12,
     "metadata": {},
     "output_type": "execute_result"
    }
   ],
   "source": [
    "guitars_dict"
   ]
  },
  {
   "cell_type": "code",
   "execution_count": 13,
   "id": "8243c0ad",
   "metadata": {},
   "outputs": [
    {
     "data": {
      "text/plain": [
       "Fender Telecaster     Baby Blue\n",
       "Gibson Les Paul        Sunburst\n",
       "ESP Eclipse          Dark Green\n",
       "dtype: object"
      ]
     },
     "execution_count": 13,
     "metadata": {},
     "output_type": "execute_result"
    }
   ],
   "source": [
    "guitars"
   ]
  },
  {
   "cell_type": "code",
   "execution_count": 14,
   "id": "a4ef6793",
   "metadata": {},
   "outputs": [
    {
     "data": {
      "text/plain": [
       "'Baby Blue'"
      ]
     },
     "execution_count": 14,
     "metadata": {},
     "output_type": "execute_result"
    }
   ],
   "source": [
    "guitars[0]"
   ]
  },
  {
   "cell_type": "code",
   "execution_count": 15,
   "id": "8242785f",
   "metadata": {},
   "outputs": [],
   "source": [
    "gibson_color = guitars[\"Gibson Les Paul\"]"
   ]
  },
  {
   "cell_type": "code",
   "execution_count": 16,
   "id": "62f31fe0",
   "metadata": {},
   "outputs": [
    {
     "data": {
      "text/plain": [
       "'Sunburst'"
      ]
     },
     "execution_count": 16,
     "metadata": {},
     "output_type": "execute_result"
    }
   ],
   "source": [
    "gibson_color"
   ]
  },
  {
   "cell_type": "code",
   "execution_count": 17,
   "id": "59792e2e",
   "metadata": {},
   "outputs": [
    {
     "name": "stdout",
     "output_type": "stream",
     "text": [
      "Fender Telecaster   Baby Blue\n",
      "Gibson Les Paul   Sunburst\n",
      "ESP Eclipse   Dark Green\n"
     ]
    }
   ],
   "source": [
    "for i in [0,1,2]:\n",
    "    print(guitars.index[i], \" \", guitars.values[i])"
   ]
  },
  {
   "cell_type": "code",
   "execution_count": 21,
   "id": "7617a4fc",
   "metadata": {},
   "outputs": [
    {
     "data": {
      "text/html": [
       "<div>\n",
       "<style scoped>\n",
       "    .dataframe tbody tr th:only-of-type {\n",
       "        vertical-align: middle;\n",
       "    }\n",
       "\n",
       "    .dataframe tbody tr th {\n",
       "        vertical-align: top;\n",
       "    }\n",
       "\n",
       "    .dataframe thead th {\n",
       "        text-align: right;\n",
       "    }\n",
       "</style>\n",
       "<table border=\"1\" class=\"dataframe\">\n",
       "  <thead>\n",
       "    <tr style=\"text-align: right;\">\n",
       "      <th></th>\n",
       "      <th>First Name</th>\n",
       "      <th>Gender</th>\n",
       "      <th>Salary</th>\n",
       "    </tr>\n",
       "  </thead>\n",
       "  <tbody>\n",
       "    <tr>\n",
       "      <th>0</th>\n",
       "      <td>Douglas</td>\n",
       "      <td>Male</td>\n",
       "      <td>97308</td>\n",
       "    </tr>\n",
       "    <tr>\n",
       "      <th>1</th>\n",
       "      <td>Thomas</td>\n",
       "      <td>Male</td>\n",
       "      <td>61933</td>\n",
       "    </tr>\n",
       "    <tr>\n",
       "      <th>2</th>\n",
       "      <td>Maria</td>\n",
       "      <td>Female</td>\n",
       "      <td>130590</td>\n",
       "    </tr>\n",
       "    <tr>\n",
       "      <th>3</th>\n",
       "      <td>Jerry</td>\n",
       "      <td>Male</td>\n",
       "      <td>138705</td>\n",
       "    </tr>\n",
       "    <tr>\n",
       "      <th>4</th>\n",
       "      <td>Larry</td>\n",
       "      <td>Male</td>\n",
       "      <td>101004</td>\n",
       "    </tr>\n",
       "    <tr>\n",
       "      <th>...</th>\n",
       "      <td>...</td>\n",
       "      <td>...</td>\n",
       "      <td>...</td>\n",
       "    </tr>\n",
       "    <tr>\n",
       "      <th>995</th>\n",
       "      <td>Henry</td>\n",
       "      <td>NaN</td>\n",
       "      <td>132483</td>\n",
       "    </tr>\n",
       "    <tr>\n",
       "      <th>996</th>\n",
       "      <td>Phillip</td>\n",
       "      <td>Male</td>\n",
       "      <td>42392</td>\n",
       "    </tr>\n",
       "    <tr>\n",
       "      <th>997</th>\n",
       "      <td>Russell</td>\n",
       "      <td>Male</td>\n",
       "      <td>96914</td>\n",
       "    </tr>\n",
       "    <tr>\n",
       "      <th>998</th>\n",
       "      <td>Larry</td>\n",
       "      <td>Male</td>\n",
       "      <td>60500</td>\n",
       "    </tr>\n",
       "    <tr>\n",
       "      <th>999</th>\n",
       "      <td>Albert</td>\n",
       "      <td>Male</td>\n",
       "      <td>129949</td>\n",
       "    </tr>\n",
       "  </tbody>\n",
       "</table>\n",
       "<p>1000 rows × 3 columns</p>\n",
       "</div>"
      ],
      "text/plain": [
       "    First Name  Gender  Salary\n",
       "0      Douglas    Male   97308\n",
       "1       Thomas    Male   61933\n",
       "2        Maria  Female  130590\n",
       "3        Jerry    Male  138705\n",
       "4        Larry    Male  101004\n",
       "..         ...     ...     ...\n",
       "995      Henry     NaN  132483\n",
       "996    Phillip    Male   42392\n",
       "997    Russell    Male   96914\n",
       "998      Larry    Male   60500\n",
       "999     Albert    Male  129949\n",
       "\n",
       "[1000 rows x 3 columns]"
      ]
     },
     "execution_count": 21,
     "metadata": {},
     "output_type": "execute_result"
    }
   ],
   "source": [
    "employees_df = pd.read_csv(\"../pandas_datasets/employees.csv\", usecols=[\"First Name\", \"Gender\", \"Salary\"])\n",
    "employees_df"
   ]
  },
  {
   "cell_type": "code",
   "execution_count": 22,
   "id": "dcb56aff",
   "metadata": {},
   "outputs": [
    {
     "data": {
      "text/plain": [
       "pandas.core.frame.DataFrame"
      ]
     },
     "execution_count": 22,
     "metadata": {},
     "output_type": "execute_result"
    }
   ],
   "source": [
    "type(employees_df)"
   ]
  },
  {
   "cell_type": "code",
   "execution_count": 23,
   "id": "37d59894",
   "metadata": {},
   "outputs": [
    {
     "data": {
      "text/html": [
       "<div>\n",
       "<style scoped>\n",
       "    .dataframe tbody tr th:only-of-type {\n",
       "        vertical-align: middle;\n",
       "    }\n",
       "\n",
       "    .dataframe tbody tr th {\n",
       "        vertical-align: top;\n",
       "    }\n",
       "\n",
       "    .dataframe thead th {\n",
       "        text-align: right;\n",
       "    }\n",
       "</style>\n",
       "<table border=\"1\" class=\"dataframe\">\n",
       "  <thead>\n",
       "    <tr style=\"text-align: right;\">\n",
       "      <th></th>\n",
       "      <th>First Name</th>\n",
       "      <th>Gender</th>\n",
       "      <th>Salary</th>\n",
       "    </tr>\n",
       "  </thead>\n",
       "  <tbody>\n",
       "    <tr>\n",
       "      <th>0</th>\n",
       "      <td>Douglas</td>\n",
       "      <td>Male</td>\n",
       "      <td>97308</td>\n",
       "    </tr>\n",
       "    <tr>\n",
       "      <th>1</th>\n",
       "      <td>Thomas</td>\n",
       "      <td>Male</td>\n",
       "      <td>61933</td>\n",
       "    </tr>\n",
       "    <tr>\n",
       "      <th>2</th>\n",
       "      <td>Maria</td>\n",
       "      <td>Female</td>\n",
       "      <td>130590</td>\n",
       "    </tr>\n",
       "    <tr>\n",
       "      <th>3</th>\n",
       "      <td>Jerry</td>\n",
       "      <td>Male</td>\n",
       "      <td>138705</td>\n",
       "    </tr>\n",
       "    <tr>\n",
       "      <th>4</th>\n",
       "      <td>Larry</td>\n",
       "      <td>Male</td>\n",
       "      <td>101004</td>\n",
       "    </tr>\n",
       "    <tr>\n",
       "      <th>...</th>\n",
       "      <td>...</td>\n",
       "      <td>...</td>\n",
       "      <td>...</td>\n",
       "    </tr>\n",
       "    <tr>\n",
       "      <th>995</th>\n",
       "      <td>Henry</td>\n",
       "      <td>NaN</td>\n",
       "      <td>132483</td>\n",
       "    </tr>\n",
       "    <tr>\n",
       "      <th>996</th>\n",
       "      <td>Phillip</td>\n",
       "      <td>Male</td>\n",
       "      <td>42392</td>\n",
       "    </tr>\n",
       "    <tr>\n",
       "      <th>997</th>\n",
       "      <td>Russell</td>\n",
       "      <td>Male</td>\n",
       "      <td>96914</td>\n",
       "    </tr>\n",
       "    <tr>\n",
       "      <th>998</th>\n",
       "      <td>Larry</td>\n",
       "      <td>Male</td>\n",
       "      <td>60500</td>\n",
       "    </tr>\n",
       "    <tr>\n",
       "      <th>999</th>\n",
       "      <td>Albert</td>\n",
       "      <td>Male</td>\n",
       "      <td>129949</td>\n",
       "    </tr>\n",
       "  </tbody>\n",
       "</table>\n",
       "<p>1000 rows × 3 columns</p>\n",
       "</div>"
      ],
      "text/plain": [
       "    First Name  Gender  Salary\n",
       "0      Douglas    Male   97308\n",
       "1       Thomas    Male   61933\n",
       "2        Maria  Female  130590\n",
       "3        Jerry    Male  138705\n",
       "4        Larry    Male  101004\n",
       "..         ...     ...     ...\n",
       "995      Henry     NaN  132483\n",
       "996    Phillip    Male   42392\n",
       "997    Russell    Male   96914\n",
       "998      Larry    Male   60500\n",
       "999     Albert    Male  129949\n",
       "\n",
       "[1000 rows x 3 columns]"
      ]
     },
     "execution_count": 23,
     "metadata": {},
     "output_type": "execute_result"
    }
   ],
   "source": [
    "employees_series = employees_df.squeeze(\"columns\")\n",
    "employees_series"
   ]
  },
  {
   "cell_type": "code",
   "execution_count": 24,
   "id": "8c96984c",
   "metadata": {},
   "outputs": [
    {
     "data": {
      "text/plain": [
       "pandas.core.frame.DataFrame"
      ]
     },
     "execution_count": 24,
     "metadata": {},
     "output_type": "execute_result"
    }
   ],
   "source": [
    "type(employees_series)"
   ]
  },
  {
   "cell_type": "code",
   "execution_count": 25,
   "id": "e6daf119",
   "metadata": {},
   "outputs": [],
   "source": [
    "import pandas as pd"
   ]
  },
  {
   "cell_type": "code",
   "execution_count": 26,
   "id": "80c98f93",
   "metadata": {},
   "outputs": [],
   "source": [
    "hot_dogs = pd.read_csv(\"hot_dogs_championship.csv\", usecols=[\"Winner\"]).squeeze(\"columns\")"
   ]
  },
  {
   "cell_type": "code",
   "execution_count": 27,
   "id": "aa07000c",
   "metadata": {},
   "outputs": [
    {
     "data": {
      "text/plain": [
       "0         Joey Chestnut\n",
       "1         Joey Chestnut\n",
       "2         Joey Chestnut\n",
       "3         Joey Chestnut\n",
       "4         Joey Chestnut\n",
       "5         Joey Chestnut\n",
       "6           Matt Stonie\n",
       "7         Joey Chestnut\n",
       "8         Joey Chestnut\n",
       "9         Joey Chestnut\n",
       "10        Joey Chestnut\n",
       "11        Joey Chestnut\n",
       "12        Joey Chestnut\n",
       "13        Joey Chestnut\n",
       "14        Joey Chestnut\n",
       "15     Takeru Kobayashi\n",
       "16     Takeru Kobayashi\n",
       "17     Takeru Kobayashi\n",
       "18     Takeru Kobayashi\n",
       "19     Takeru Kobayashi\n",
       "20     Takeru Kobayashi\n",
       "21        Kazutoyo Arai\n",
       "22         Steve Keiner\n",
       "23    Hirofumi Nakajima\n",
       "24    Hirofumi Nakajima\n",
       "25    Hirofumi Nakajima\n",
       "26           Ed Krachie\n",
       "27           Ed Krachie\n",
       "28          Mike DeVito\n",
       "29          Mike DeVito\n",
       "30          Mike DeVito\n",
       "31    Frankie Dellarosa\n",
       "32    Frankie Dellarosa\n",
       "33          Mike DeVito\n",
       "34            Jay Green\n",
       "35            Jay Green\n",
       "36          Don Wolfman\n",
       "37          Mark Heller\n",
       "38     Hiroaki Tominaga\n",
       "39      Oscar Rodriguez\n",
       "40        Birgit Felden\n",
       "41           Emil Gomez\n",
       "42        Steven Abrams\n",
       "43       Thomas DeBerry\n",
       "44          Joe Baldini\n",
       "45          Jim Mattner\n",
       "46     Manel Hollenback\n",
       "47         Lonnie Brown\n",
       "48       Roberto Muriel\n",
       "49        John Connolly\n",
       "50              Unknown\n",
       "51              Unknown\n",
       "52      Melody Andorfer\n",
       "53      Jason Schechter\n",
       "54          Walter Paul\n",
       "Name: Winner, dtype: object"
      ]
     },
     "execution_count": 27,
     "metadata": {},
     "output_type": "execute_result"
    }
   ],
   "source": [
    "hot_dogs"
   ]
  },
  {
   "cell_type": "code",
   "execution_count": 28,
   "id": "92259576",
   "metadata": {},
   "outputs": [
    {
     "data": {
      "text/plain": [
       "(55,)"
      ]
     },
     "execution_count": 28,
     "metadata": {},
     "output_type": "execute_result"
    }
   ],
   "source": [
    "hot_dogs.shape"
   ]
  },
  {
   "cell_type": "code",
   "execution_count": 29,
   "id": "8d885393",
   "metadata": {},
   "outputs": [
    {
     "data": {
      "text/plain": [
       "55"
      ]
     },
     "execution_count": 29,
     "metadata": {},
     "output_type": "execute_result"
    }
   ],
   "source": [
    "hot_dogs.size"
   ]
  },
  {
   "cell_type": "code",
   "execution_count": 32,
   "id": "3b54130b",
   "metadata": {},
   "outputs": [
    {
     "name": "stdout",
     "output_type": "stream",
     "text": [
      "<class 'pandas.core.series.Series'>\n",
      "RangeIndex: 55 entries, 0 to 54\n",
      "Series name: Winner\n",
      "Non-Null Count  Dtype \n",
      "--------------  ----- \n",
      "55 non-null     object\n",
      "dtypes: object(1)\n",
      "memory usage: 568.0+ bytes\n"
     ]
    }
   ],
   "source": [
    "hot_dogs.info()"
   ]
  },
  {
   "cell_type": "code",
   "execution_count": 58,
   "id": "b45c15f6",
   "metadata": {},
   "outputs": [
    {
     "data": {
      "text/plain": [
       "0         Joey Chestnut\n",
       "1         Joey Chestnut\n",
       "2         Joey Chestnut\n",
       "3         Joey Chestnut\n",
       "4         Joey Chestnut\n",
       "5         Joey Chestnut\n",
       "6           Matt Stonie\n",
       "7         Joey Chestnut\n",
       "8         Joey Chestnut\n",
       "9         Joey Chestnut\n",
       "10        Joey Chestnut\n",
       "11        Joey Chestnut\n",
       "12        Joey Chestnut\n",
       "13        Joey Chestnut\n",
       "14        Joey Chestnut\n",
       "15     Takeru Kobayashi\n",
       "16     Takeru Kobayashi\n",
       "17     Takeru Kobayashi\n",
       "18     Takeru Kobayashi\n",
       "19     Takeru Kobayashi\n",
       "20     Takeru Kobayashi\n",
       "21        Kazutoyo Arai\n",
       "22         Steve Keiner\n",
       "23    Hirofumi Nakajima\n",
       "24    Hirofumi Nakajima\n",
       "25    Hirofumi Nakajima\n",
       "26           Ed Krachie\n",
       "27           Ed Krachie\n",
       "28          Mike DeVito\n",
       "29          Mike DeVito\n",
       "30          Mike DeVito\n",
       "31    Frankie Dellarosa\n",
       "32    Frankie Dellarosa\n",
       "33          Mike DeVito\n",
       "34            Jay Green\n",
       "35            Jay Green\n",
       "36          Don Wolfman\n",
       "37          Mark Heller\n",
       "38     Hiroaki Tominaga\n",
       "39      Oscar Rodriguez\n",
       "40        Birgit Felden\n",
       "41           Emil Gomez\n",
       "42        Steven Abrams\n",
       "43       Thomas DeBerry\n",
       "44          Joe Baldini\n",
       "45          Jim Mattner\n",
       "46     Manel Hollenback\n",
       "47         Lonnie Brown\n",
       "48       Roberto Muriel\n",
       "49        John Connolly\n",
       "50              Unknown\n",
       "51              Unknown\n",
       "52      Melody Andorfer\n",
       "53      Jason Schechter\n",
       "54          Walter Paul\n",
       "Name: Winner, dtype: object"
      ]
     },
     "execution_count": 58,
     "metadata": {},
     "output_type": "execute_result"
    }
   ],
   "source": [
    "hot_dogs"
   ]
  },
  {
   "cell_type": "code",
   "execution_count": 62,
   "id": "b5a00414",
   "metadata": {},
   "outputs": [
    {
     "data": {
      "text/plain": [
       "Joey Chestnut        14\n",
       "Takeru Kobayashi      6\n",
       "Mike DeVito           4\n",
       "Hirofumi Nakajima     3\n",
       "Unknown               2\n",
       "Jay Green             2\n",
       "Frankie Dellarosa     2\n",
       "Ed Krachie            2\n",
       "Thomas DeBerry        1\n",
       "Melody Andorfer       1\n",
       "Jason Schechter       1\n",
       "John Connolly         1\n",
       "Roberto Muriel        1\n",
       "Lonnie Brown          1\n",
       "Manel Hollenback      1\n",
       "Jim Mattner           1\n",
       "Joe Baldini           1\n",
       "Birgit Felden         1\n",
       "Steven Abrams         1\n",
       "Emil Gomez            1\n",
       "Matt Stonie           1\n",
       "Oscar Rodriguez       1\n",
       "Hiroaki Tominaga      1\n",
       "Mark Heller           1\n",
       "Don Wolfman           1\n",
       "Steve Keiner          1\n",
       "Kazutoyo Arai         1\n",
       "Walter Paul           1\n",
       "Name: Winner, dtype: int64"
      ]
     },
     "execution_count": 62,
     "metadata": {},
     "output_type": "execute_result"
    }
   ],
   "source": [
    "hot_dogs.value_counts()"
   ]
  },
  {
   "cell_type": "code",
   "execution_count": null,
   "id": "a36ff8b7",
   "metadata": {},
   "outputs": [],
   "source": []
  }
 ],
 "metadata": {
  "kernelspec": {
   "display_name": "Python 3 (ipykernel)",
   "language": "python",
   "name": "python3"
  },
  "language_info": {
   "codemirror_mode": {
    "name": "ipython",
    "version": 3
   },
   "file_extension": ".py",
   "mimetype": "text/x-python",
   "name": "python",
   "nbconvert_exporter": "python",
   "pygments_lexer": "ipython3",
   "version": "3.9.12"
  }
 },
 "nbformat": 4,
 "nbformat_minor": 5
}
