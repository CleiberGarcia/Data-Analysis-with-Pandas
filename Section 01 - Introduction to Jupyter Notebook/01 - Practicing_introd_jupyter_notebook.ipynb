{
 "cells": [
  {
   "cell_type": "markdown",
   "id": "da4375e1",
   "metadata": {},
   "source": [
    "# 01 - Practice - Working with Jypyter Notebook"
   ]
  },
  {
   "cell_type": "markdown",
   "id": "d9d49f73",
   "metadata": {},
   "source": [
    "* Practioner: Cleiber Garcia\n",
    "* Date: 18 of November, 2022\n",
    "* Objective: Practicing working with data aggregation\n",
    "\n",
    "This notebook is based on the notebook written by Boris Pashkaver for the Course Data Analysis with Pandas and Python (Section 1.13: Introduction to the Jupyter Notebook), offered at Udemy. Although the degree of similarity between both notebooks is almost 100%, I built this notebook step by step.\n",
    "\n",
    "Link: https://www.udemy.com/course/data-analysis-with-pandas/\n",
    "\n",
    "For more information feel free to contact me at cleiber.garcia@gmail.com"
   ]
  },
  {
   "cell_type": "code",
   "execution_count": 52,
   "id": "ce29e7cd",
   "metadata": {},
   "outputs": [
    {
     "data": {
      "text/plain": [
       "8"
      ]
     },
     "execution_count": 52,
     "metadata": {},
     "output_type": "execute_result"
    }
   ],
   "source": [
    "3+5"
   ]
  },
  {
   "cell_type": "code",
   "execution_count": 4,
   "id": "8ba8db1e",
   "metadata": {},
   "outputs": [
    {
     "data": {
      "text/plain": [
       "9"
      ]
     },
     "execution_count": 4,
     "metadata": {},
     "output_type": "execute_result"
    }
   ],
   "source": [
    "4+5"
   ]
  },
  {
   "cell_type": "code",
   "execution_count": 6,
   "id": "77a6d434",
   "metadata": {},
   "outputs": [
    {
     "data": {
      "text/plain": [
       "1"
      ]
     },
     "execution_count": 6,
     "metadata": {},
     "output_type": "execute_result"
    }
   ],
   "source": [
    "9-8"
   ]
  },
  {
   "cell_type": "code",
   "execution_count": 7,
   "id": "82c3b374",
   "metadata": {},
   "outputs": [
    {
     "data": {
      "text/plain": [
       "1"
      ]
     },
     "execution_count": 7,
     "metadata": {},
     "output_type": "execute_result"
    }
   ],
   "source": [
    "3-2"
   ]
  },
  {
   "cell_type": "code",
   "execution_count": 3,
   "id": "57049de0",
   "metadata": {},
   "outputs": [
    {
     "data": {
      "text/plain": [
       "123"
      ]
     },
     "execution_count": 3,
     "metadata": {},
     "output_type": "execute_result"
    }
   ],
   "source": [
    "123"
   ]
  },
  {
   "cell_type": "code",
   "execution_count": 6,
   "id": "c5cf4bed",
   "metadata": {},
   "outputs": [
    {
     "data": {
      "text/plain": [
       "'home'"
      ]
     },
     "execution_count": 6,
     "metadata": {},
     "output_type": "execute_result"
    }
   ],
   "source": [
    "'home'"
   ]
  },
  {
   "cell_type": "code",
   "execution_count": 7,
   "id": "97f5a3e6",
   "metadata": {},
   "outputs": [
    {
     "data": {
      "text/plain": [
       "'street'"
      ]
     },
     "execution_count": 7,
     "metadata": {},
     "output_type": "execute_result"
    }
   ],
   "source": [
    "\"street\""
   ]
  },
  {
   "cell_type": "code",
   "execution_count": 14,
   "id": "56e3312e",
   "metadata": {},
   "outputs": [],
   "source": [
    "# Importing packages Pandas and NumPy\n",
    "import pandas as pd\n",
    "import numpy as np"
   ]
  },
  {
   "cell_type": "code",
   "execution_count": 15,
   "id": "0f6a61b7",
   "metadata": {},
   "outputs": [
    {
     "data": {
      "text/plain": [
       "'1.4.2'"
      ]
     },
     "execution_count": 15,
     "metadata": {},
     "output_type": "execute_result"
    }
   ],
   "source": [
    "pd.__version__ .strip()"
   ]
  },
  {
   "cell_type": "code",
   "execution_count": 1,
   "id": "e5f6420d",
   "metadata": {},
   "outputs": [
    {
     "data": {
      "text/plain": [
       "'  peter   the Great'"
      ]
     },
     "execution_count": 1,
     "metadata": {},
     "output_type": "execute_result"
    }
   ],
   "source": [
    "def do_stuff(name):\n",
    "   return name.lower() + \" the Great\"\n",
    " \n",
    "do_stuff(\"  Peter  \")"
   ]
  },
  {
   "cell_type": "code",
   "execution_count": 19,
   "id": "4c5a4cb1",
   "metadata": {},
   "outputs": [
    {
     "name": "stdout",
     "output_type": "stream",
     "text": [
      "of all fruits banana is my favorite\n"
     ]
    }
   ],
   "source": [
    "txt = \"     banana     \"\n",
    "\n",
    "x = txt.strip()\n",
    "\n",
    "print(\"of all fruits\", x, \"is my favorite\")"
   ]
  },
  {
   "cell_type": "code",
   "execution_count": 8,
   "id": "cbebadd8",
   "metadata": {},
   "outputs": [
    {
     "data": {
      "text/plain": [
       "'peter the Great'"
      ]
     },
     "execution_count": 8,
     "metadata": {},
     "output_type": "execute_result"
    }
   ],
   "source": [
    "def do_stuff(name):\n",
    "   return name.lower().strip() + \" the Great\"\n",
    " \n",
    "do_stuff(\"  Peter  \")"
   ]
  },
  {
   "cell_type": "code",
   "execution_count": 18,
   "id": "65cdcfb2",
   "metadata": {},
   "outputs": [],
   "source": [
    "name = 'cleiber garcia'"
   ]
  },
  {
   "cell_type": "code",
   "execution_count": 23,
   "id": "5435a498",
   "metadata": {},
   "outputs": [
    {
     "data": {
      "text/plain": [
       "'cleiber garcia'"
      ]
     },
     "execution_count": 23,
     "metadata": {},
     "output_type": "execute_result"
    }
   ],
   "source": [
    "name"
   ]
  },
  {
   "cell_type": "code",
   "execution_count": 24,
   "id": "bc54f2cb",
   "metadata": {},
   "outputs": [
    {
     "data": {
      "text/plain": [
       "'CLEIBER GARCIA'"
      ]
     },
     "execution_count": 24,
     "metadata": {},
     "output_type": "execute_result"
    }
   ],
   "source": [
    "name.upper()"
   ]
  },
  {
   "cell_type": "code",
   "execution_count": 25,
   "id": "ad519423",
   "metadata": {},
   "outputs": [
    {
     "data": {
      "text/plain": [
       "'Cleiber garcia'"
      ]
     },
     "execution_count": 25,
     "metadata": {},
     "output_type": "execute_result"
    }
   ],
   "source": [
    "name.capitalize()"
   ]
  },
  {
   "cell_type": "code",
   "execution_count": 26,
   "id": "d7f9daa9",
   "metadata": {},
   "outputs": [
    {
     "name": "stdout",
     "output_type": "stream",
     "text": [
      "cleiber garcia\n"
     ]
    }
   ],
   "source": [
    "print(name)"
   ]
  },
  {
   "cell_type": "code",
   "execution_count": 28,
   "id": "8fed9f45",
   "metadata": {},
   "outputs": [
    {
     "data": {
      "text/plain": [
       "'CLEIBER GARCIA'"
      ]
     },
     "execution_count": 28,
     "metadata": {},
     "output_type": "execute_result"
    }
   ],
   "source": [
    "name.swapcase()"
   ]
  },
  {
   "cell_type": "code",
   "execution_count": 29,
   "id": "8d676270",
   "metadata": {},
   "outputs": [
    {
     "data": {
      "text/plain": [
       "'CLEIBER GARCIA'"
      ]
     },
     "execution_count": 29,
     "metadata": {},
     "output_type": "execute_result"
    }
   ],
   "source": [
    "name.upper()"
   ]
  },
  {
   "cell_type": "code",
   "execution_count": 30,
   "id": "b4efb082",
   "metadata": {},
   "outputs": [
    {
     "data": {
      "text/plain": [
       "'Cleiber garcia'"
      ]
     },
     "execution_count": 30,
     "metadata": {},
     "output_type": "execute_result"
    }
   ],
   "source": [
    "name.capitalize()"
   ]
  },
  {
   "cell_type": "code",
   "execution_count": 31,
   "id": "a0da312c",
   "metadata": {},
   "outputs": [
    {
     "name": "stdout",
     "output_type": "stream",
     "text": [
      "cleiber garcia\n"
     ]
    }
   ],
   "source": [
    "print(name)"
   ]
  },
  {
   "cell_type": "code",
   "execution_count": 32,
   "id": "18bb7fa3",
   "metadata": {},
   "outputs": [
    {
     "data": {
      "text/plain": [
       "'cleibex gaxcia'"
      ]
     },
     "execution_count": 32,
     "metadata": {},
     "output_type": "execute_result"
    }
   ],
   "source": [
    "name.replace('r', 'x')"
   ]
  },
  {
   "cell_type": "code",
   "execution_count": 33,
   "id": "7df8b599",
   "metadata": {},
   "outputs": [
    {
     "data": {
      "text/plain": [
       "'cleiber garcia'"
      ]
     },
     "execution_count": 33,
     "metadata": {},
     "output_type": "execute_result"
    }
   ],
   "source": [
    "name.replace('/e/i/a', '*')"
   ]
  },
  {
   "cell_type": "code",
   "execution_count": 34,
   "id": "11e20511",
   "metadata": {},
   "outputs": [
    {
     "data": {
      "text/plain": [
       "14"
      ]
     },
     "execution_count": 34,
     "metadata": {},
     "output_type": "execute_result"
    }
   ],
   "source": [
    "len(name)"
   ]
  },
  {
   "cell_type": "code",
   "execution_count": 10,
   "id": "f6ac9da0",
   "metadata": {},
   "outputs": [
    {
     "name": "stdout",
     "output_type": "stream",
     "text": [
      "73.4\n"
     ]
    }
   ],
   "source": [
    "# Declare a function that accepts a temperature in Celsius and returns it in Fahrenheit\n",
    "\n",
    "def convert_to_fahrenheit(celsius_temp):\n",
    "    return (celsius_temp * 1.8) + 32\n",
    "\n",
    "print(convert_to_fahrenheit(23))"
   ]
  },
  {
   "cell_type": "code",
   "execution_count": 13,
   "id": "27467b6a",
   "metadata": {},
   "outputs": [
    {
     "name": "stdout",
     "output_type": "stream",
     "text": [
      "32.0\n"
     ]
    }
   ],
   "source": [
    "print(convert_to_fahrenheit(0))  # from 0 degrees Celsius to ??? degrees Fahrenheit"
   ]
  },
  {
   "cell_type": "code",
   "execution_count": 20,
   "id": "3a646b81",
   "metadata": {},
   "outputs": [
    {
     "name": "stdout",
     "output_type": "stream",
     "text": [
      "80.6\n"
     ]
    }
   ],
   "source": [
    "print(convert_to_fahrenheit(27)) # from 27 degrees Celsius to ??? degrees Fahrenheit"
   ]
  },
  {
   "cell_type": "code",
   "execution_count": 21,
   "id": "0bd69e80",
   "metadata": {},
   "outputs": [
    {
     "data": {
      "text/plain": [
       "'cleiber garcia'"
      ]
     },
     "execution_count": 21,
     "metadata": {},
     "output_type": "execute_result"
    }
   ],
   "source": [
    "name"
   ]
  },
  {
   "cell_type": "code",
   "execution_count": 25,
   "id": "a89d2980",
   "metadata": {},
   "outputs": [
    {
     "data": {
      "text/plain": [
       "'i'"
      ]
     },
     "execution_count": 25,
     "metadata": {},
     "output_type": "execute_result"
    }
   ],
   "source": [
    "name[3]"
   ]
  },
  {
   "cell_type": "code",
   "execution_count": 27,
   "id": "31bfc716",
   "metadata": {},
   "outputs": [
    {
     "data": {
      "text/plain": [
       "'Julio Cezar'"
      ]
     },
     "execution_count": 27,
     "metadata": {},
     "output_type": "execute_result"
    }
   ],
   "source": [
    "name = 'Julio Cezar'\n",
    "name"
   ]
  },
  {
   "cell_type": "code",
   "execution_count": 28,
   "id": "6107fad8",
   "metadata": {},
   "outputs": [
    {
     "ename": "TypeError",
     "evalue": "'str' object does not support item assignment",
     "output_type": "error",
     "traceback": [
      "\u001b[1;31m---------------------------------------------------------------------------\u001b[0m",
      "\u001b[1;31mTypeError\u001b[0m                                 Traceback (most recent call last)",
      "Input \u001b[1;32mIn [28]\u001b[0m, in \u001b[0;36m<cell line: 2>\u001b[1;34m()\u001b[0m\n\u001b[0;32m      1\u001b[0m \u001b[38;5;66;03m# Error: string object does not support item assignment\u001b[39;00m\n\u001b[1;32m----> 2\u001b[0m name[\u001b[38;5;241m5\u001b[39m] \u001b[38;5;241m=\u001b[39m \u001b[38;5;124m'\u001b[39m\u001b[38;5;124mx\u001b[39m\u001b[38;5;124m'\u001b[39m\n",
      "\u001b[1;31mTypeError\u001b[0m: 'str' object does not support item assignment"
     ]
    }
   ],
   "source": [
    "# Error: string object does not support item assignment\n",
    "name[5] = 'x'"
   ]
  },
  {
   "cell_type": "code",
   "execution_count": 41,
   "id": "f53ccbaa",
   "metadata": {},
   "outputs": [
    {
     "data": {
      "text/plain": [
       "['Salted', 'Unsalted', 'Caramel']"
      ]
     },
     "execution_count": 41,
     "metadata": {},
     "output_type": "execute_result"
    }
   ],
   "source": [
    "popcorn = [\"Salted\", \"Unsalted\", \"Caramel\"]\n",
    "popcorn"
   ]
  },
  {
   "cell_type": "code",
   "execution_count": 42,
   "id": "3ff13eb7",
   "metadata": {},
   "outputs": [
    {
     "data": {
      "text/plain": [
       "['Salted', 'Unsalted', 'Caramel', 'sweety']"
      ]
     },
     "execution_count": 42,
     "metadata": {},
     "output_type": "execute_result"
    }
   ],
   "source": [
    "popcorn.append('sweety')\n",
    "popcorn"
   ]
  },
  {
   "cell_type": "code",
   "execution_count": 43,
   "id": "1d3ad638",
   "metadata": {},
   "outputs": [
    {
     "data": {
      "text/plain": [
       "'sweety'"
      ]
     },
     "execution_count": 43,
     "metadata": {},
     "output_type": "execute_result"
    }
   ],
   "source": [
    "popcorn.pop()"
   ]
  },
  {
   "cell_type": "code",
   "execution_count": 44,
   "id": "a33a13b8",
   "metadata": {},
   "outputs": [],
   "source": [
    "superheroes = [\"Batman\", \"Superman\", \"Wolverine\", \"Ironman\", \"Arnold Schwarzenegger\"]"
   ]
  },
  {
   "cell_type": "code",
   "execution_count": 45,
   "id": "71e6bd0c",
   "metadata": {},
   "outputs": [
    {
     "data": {
      "text/plain": [
       "['Batman', 'Superman', 'Wolverine', 'Ironman', 'Arnold Schwarzenegger']"
      ]
     },
     "execution_count": 45,
     "metadata": {},
     "output_type": "execute_result"
    }
   ],
   "source": [
    "superheroes"
   ]
  },
  {
   "cell_type": "code",
   "execution_count": 46,
   "id": "05f7a609",
   "metadata": {},
   "outputs": [
    {
     "data": {
      "text/plain": [
       "'Ironman'"
      ]
     },
     "execution_count": 46,
     "metadata": {},
     "output_type": "execute_result"
    }
   ],
   "source": [
    "superheroes[3]"
   ]
  },
  {
   "cell_type": "code",
   "execution_count": 49,
   "id": "8cfb1c59",
   "metadata": {},
   "outputs": [
    {
     "data": {
      "text/plain": [
       "'Batman'"
      ]
     },
     "execution_count": 49,
     "metadata": {},
     "output_type": "execute_result"
    }
   ],
   "source": [
    "superheroes[0]"
   ]
  },
  {
   "cell_type": "code",
   "execution_count": 51,
   "id": "991faa2c",
   "metadata": {},
   "outputs": [
    {
     "name": "stdout",
     "output_type": "stream",
     "text": [
      "Batman\n",
      "Superman\n",
      "Wolverine\n",
      "Ironman\n",
      "Arnold Schwarzenegger\n"
     ]
    }
   ],
   "source": [
    "for i in [0,1,2,3,4]:\n",
    "    print(superheroes[i])"
   ]
  },
  {
   "cell_type": "code",
   "execution_count": 56,
   "id": "800db044",
   "metadata": {},
   "outputs": [
    {
     "name": "stdout",
     "output_type": "stream",
     "text": [
      "Batman\n",
      "Superman\n",
      "Wolverine\n",
      "Ironman\n",
      "Arnold Schwarzenegger\n"
     ]
    }
   ],
   "source": [
    "for i in range(0,5): # 0, 1, 2, 3, 4\n",
    "    print(superheroes[i])"
   ]
  },
  {
   "cell_type": "code",
   "execution_count": 32,
   "id": "a6e76fae",
   "metadata": {},
   "outputs": [],
   "source": [
    "menu = {\n",
    "    \"Filet Mignon\": 29.99,\n",
    "    \"Big Mac\": 3.99,\n",
    "    \"Pizza\": 0.99,\n",
    "    \"Salmon\": 29.99\n",
    "}"
   ]
  },
  {
   "cell_type": "code",
   "execution_count": 33,
   "id": "ef6de540",
   "metadata": {},
   "outputs": [
    {
     "data": {
      "text/plain": [
       "29.99"
      ]
     },
     "execution_count": 33,
     "metadata": {},
     "output_type": "execute_result"
    }
   ],
   "source": [
    "menu.pop('Filet Mignon')"
   ]
  },
  {
   "cell_type": "code",
   "execution_count": 34,
   "id": "443ee04f",
   "metadata": {},
   "outputs": [
    {
     "data": {
      "text/plain": [
       "0.99"
      ]
     },
     "execution_count": 34,
     "metadata": {},
     "output_type": "execute_result"
    }
   ],
   "source": [
    "menu.pop('Pizza')"
   ]
  },
  {
   "cell_type": "code",
   "execution_count": 35,
   "id": "d1270f78",
   "metadata": {},
   "outputs": [
    {
     "data": {
      "text/plain": [
       "{'Big Mac': 3.99, 'Salmon': 29.99, 'Burrito': 13.99}"
      ]
     },
     "execution_count": 35,
     "metadata": {},
     "output_type": "execute_result"
    }
   ],
   "source": [
    "menu['Burrito'] = 13.99\n",
    "menu"
   ]
  },
  {
   "cell_type": "code",
   "execution_count": 37,
   "id": "f826a186",
   "metadata": {},
   "outputs": [
    {
     "data": {
      "text/plain": [
       "dict_values([3.99, 29.99, 13.99])"
      ]
     },
     "execution_count": 37,
     "metadata": {},
     "output_type": "execute_result"
    }
   ],
   "source": [
    "menu.values()"
   ]
  },
  {
   "cell_type": "code",
   "execution_count": 38,
   "id": "a82ad2be",
   "metadata": {},
   "outputs": [
    {
     "data": {
      "text/plain": [
       "dict_keys(['Big Mac', 'Salmon', 'Burrito'])"
      ]
     },
     "execution_count": 38,
     "metadata": {},
     "output_type": "execute_result"
    }
   ],
   "source": [
    "menu.keys()"
   ]
  },
  {
   "cell_type": "code",
   "execution_count": 44,
   "id": "64fc29f0",
   "metadata": {},
   "outputs": [
    {
     "name": "stdout",
     "output_type": "stream",
     "text": [
      "Big Mac\n",
      "Salmon\n",
      "Burrito\n"
     ]
    }
   ],
   "source": [
    "# Looping through all keys\n",
    "for key in menu.keys():\n",
    "    print(key)"
   ]
  },
  {
   "cell_type": "markdown",
   "id": "81f5c7e6",
   "metadata": {},
   "source": [
    "### Exercise 1"
   ]
  },
  {
   "cell_type": "code",
   "execution_count": 45,
   "id": "076855e8",
   "metadata": {},
   "outputs": [],
   "source": [
    "\n",
    "# CHALLENGE \n",
    "# Invoke the str function and pass it the number 99.\n",
    "# The str function will return a string. Concatenate \" problems\" to the end of that string.\n",
    "# Assign the final value to an \"issues\" variable.\n",
    "# Thus, your \"issues\" variable should have a final value of \"99 problems\"\n"
   ]
  },
  {
   "cell_type": "code",
   "execution_count": 46,
   "id": "daf93667",
   "metadata": {},
   "outputs": [],
   "source": [
    "def convert_to_currency(amount_money):\n",
    "    amount_dollars = \"$\" + str(amount_money)\n",
    "    return amount_dollars"
   ]
  },
  {
   "cell_type": "code",
   "execution_count": 47,
   "id": "140079df",
   "metadata": {},
   "outputs": [
    {
     "data": {
      "text/plain": [
       "'$15.32'"
      ]
     },
     "execution_count": 47,
     "metadata": {},
     "output_type": "execute_result"
    }
   ],
   "source": [
    "convert_to_currency(15.32)"
   ]
  },
  {
   "cell_type": "code",
   "execution_count": 48,
   "id": "94d0e24e",
   "metadata": {},
   "outputs": [
    {
     "data": {
      "text/plain": [
       "True"
      ]
     },
     "execution_count": 48,
     "metadata": {},
     "output_type": "execute_result"
    }
   ],
   "source": [
    "party_attendees = \"Sharon, James, Ron, Blake\"\n",
    "\n",
    "is_attending = \"Ron\" in party_attendees\n",
    "is_attending"
   ]
  },
  {
   "cell_type": "code",
   "execution_count": 82,
   "id": "4e3206c7",
   "metadata": {},
   "outputs": [],
   "source": [
    "def cleanup(input_string):\n",
    "    output_string = input_string.strip().capitalize()\n",
    "    return output_string"
   ]
  },
  {
   "cell_type": "code",
   "execution_count": 83,
   "id": "264a4fde",
   "metadata": {},
   "outputs": [
    {
     "name": "stdout",
     "output_type": "stream",
     "text": [
      "Cleiber\n"
     ]
    }
   ],
   "source": [
    "print(cleanup('    cleiber    '))"
   ]
  },
  {
   "cell_type": "code",
   "execution_count": 84,
   "id": "3b1e2782",
   "metadata": {},
   "outputs": [
    {
     "name": "stdout",
     "output_type": "stream",
     "text": [
      "My name is cleiber\n"
     ]
    }
   ],
   "source": [
    "print(cleanup('   my name is Cleiber    '))"
   ]
  },
  {
   "cell_type": "code",
   "execution_count": 88,
   "id": "1d04a9c6",
   "metadata": {},
   "outputs": [
    {
     "name": "stdout",
     "output_type": "stream",
     "text": [
      "True\n"
     ]
    }
   ],
   "source": [
    "def is_long(list_1):\n",
    "    if (len(list_1) > 5):\n",
    "        return True\n",
    "        \n",
    "print(is_long((1,2,3,4,5,6)))"
   ]
  },
  {
   "cell_type": "code",
   "execution_count": 49,
   "id": "9551865f",
   "metadata": {},
   "outputs": [
    {
     "name": "stdout",
     "output_type": "stream",
     "text": [
      "5\n"
     ]
    }
   ],
   "source": [
    "a = (1,2,3,4,5)\n",
    "print(len(a))"
   ]
  },
  {
   "cell_type": "code",
   "execution_count": 50,
   "id": "c7728d24",
   "metadata": {},
   "outputs": [
    {
     "name": "stdout",
     "output_type": "stream",
     "text": [
      "5\n"
     ]
    }
   ],
   "source": [
    "print(len(a))"
   ]
  },
  {
   "cell_type": "code",
   "execution_count": null,
   "id": "d7698abe",
   "metadata": {},
   "outputs": [],
   "source": []
  }
 ],
 "metadata": {
  "kernelspec": {
   "display_name": "Python 3 (ipykernel)",
   "language": "python",
   "name": "python3"
  },
  "language_info": {
   "codemirror_mode": {
    "name": "ipython",
    "version": 3
   },
   "file_extension": ".py",
   "mimetype": "text/x-python",
   "name": "python",
   "nbconvert_exporter": "python",
   "pygments_lexer": "ipython3",
   "version": "3.9.12"
  }
 },
 "nbformat": 4,
 "nbformat_minor": 5
}
