{
 "cells": [
  {
   "cell_type": "markdown",
   "id": "efc97f3e",
   "metadata": {},
   "source": [
    "# Visualization with Python"
   ]
  },
  {
   "cell_type": "markdown",
   "id": "bbc8ff27",
   "metadata": {},
   "source": [
    "* Practioner: Cleiber Garcia\n",
    "* Date: 11 of February, 2023\n",
    "* Objective: Practice visualization with Python\n",
    "\n",
    "This notebook is based on the notebook written by Boris Pashkaver for the Course Data Analysis with Pandas and Python (Section 13: Visualization), offered at Udemy. Although the degree of similarity between both notebooks is almost 100%, I built this notebook step by step.\n",
    "\n",
    "Link: https://www.udemy.com/course/data-analysis-with-pandas/\n",
    "\n",
    "For more information feel free to contact me at cleiber.garcia@gmail.com"
   ]
  },
  {
   "cell_type": "markdown",
   "id": "d45ea2f9",
   "metadata": {},
   "source": [
    "## Import Libraries"
   ]
  },
  {
   "cell_type": "code",
   "execution_count": 4,
   "id": "ea0953d8",
   "metadata": {},
   "outputs": [],
   "source": [
    "import pandas as pd\n",
    "from pandas_datareader import data as pdr\n",
    "import matplotlib.pyplot as plt\n",
    "%matplotlib inline"
   ]
  },
  {
   "cell_type": "markdown",
   "id": "0b0da354",
   "metadata": {},
   "source": [
    "## Use the .plot() Method to Render a Line Chart"
   ]
  },
  {
   "cell_type": "code",
   "execution_count": 1,
   "id": "f5830746",
   "metadata": {},
   "outputs": [],
   "source": [
    "# Import Pandas Package\n",
    "import pandas as pd\n",
    "\n",
    "# To be able to load Yahoo Financial Data through Pandas\n",
    "from pandas_datareader import data as pdr\n",
    "import yfinance as yfin\n",
    "yfin.pdr_override()"
   ]
  },
  {
   "cell_type": "code",
   "execution_count": 84,
   "id": "1731d70e",
   "metadata": {},
   "outputs": [
    {
     "name": "stdout",
     "output_type": "stream",
     "text": [
      "[*********************100%***********************]  1 of 1 completed\n"
     ]
    },
    {
     "data": {
      "text/html": [
       "<div>\n",
       "<style scoped>\n",
       "    .dataframe tbody tr th:only-of-type {\n",
       "        vertical-align: middle;\n",
       "    }\n",
       "\n",
       "    .dataframe tbody tr th {\n",
       "        vertical-align: top;\n",
       "    }\n",
       "\n",
       "    .dataframe thead th {\n",
       "        text-align: right;\n",
       "    }\n",
       "</style>\n",
       "<table border=\"1\" class=\"dataframe\">\n",
       "  <thead>\n",
       "    <tr style=\"text-align: right;\">\n",
       "      <th></th>\n",
       "      <th>Open</th>\n",
       "      <th>High</th>\n",
       "      <th>Low</th>\n",
       "      <th>Close</th>\n",
       "      <th>Adj Close</th>\n",
       "      <th>Volume</th>\n",
       "    </tr>\n",
       "    <tr>\n",
       "      <th>Date</th>\n",
       "      <th></th>\n",
       "      <th></th>\n",
       "      <th></th>\n",
       "      <th></th>\n",
       "      <th></th>\n",
       "      <th></th>\n",
       "    </tr>\n",
       "  </thead>\n",
       "  <tbody>\n",
       "    <tr>\n",
       "      <th>2007-01-03</th>\n",
       "      <td>43.086666</td>\n",
       "      <td>44.026669</td>\n",
       "      <td>41.703335</td>\n",
       "      <td>42.849998</td>\n",
       "      <td>42.849998</td>\n",
       "      <td>34739100</td>\n",
       "    </tr>\n",
       "    <tr>\n",
       "      <th>2007-01-04</th>\n",
       "      <td>42.953335</td>\n",
       "      <td>46.316666</td>\n",
       "      <td>42.423332</td>\n",
       "      <td>46.189999</td>\n",
       "      <td>46.189999</td>\n",
       "      <td>46007700</td>\n",
       "    </tr>\n",
       "    <tr>\n",
       "      <th>2007-01-05</th>\n",
       "      <td>45.500000</td>\n",
       "      <td>47.306667</td>\n",
       "      <td>45.166668</td>\n",
       "      <td>47.099998</td>\n",
       "      <td>47.099998</td>\n",
       "      <td>41453400</td>\n",
       "    </tr>\n",
       "    <tr>\n",
       "      <th>2007-01-08</th>\n",
       "      <td>47.283333</td>\n",
       "      <td>48.410000</td>\n",
       "      <td>46.606667</td>\n",
       "      <td>47.386665</td>\n",
       "      <td>47.386665</td>\n",
       "      <td>38547300</td>\n",
       "    </tr>\n",
       "    <tr>\n",
       "      <th>2007-01-09</th>\n",
       "      <td>47.570000</td>\n",
       "      <td>47.666668</td>\n",
       "      <td>43.263332</td>\n",
       "      <td>43.666668</td>\n",
       "      <td>43.666668</td>\n",
       "      <td>74142000</td>\n",
       "    </tr>\n",
       "  </tbody>\n",
       "</table>\n",
       "</div>"
      ],
      "text/plain": [
       "                 Open       High        Low      Close  Adj Close    Volume\n",
       "Date                                                                       \n",
       "2007-01-03  43.086666  44.026669  41.703335  42.849998  42.849998  34739100\n",
       "2007-01-04  42.953335  46.316666  42.423332  46.189999  46.189999  46007700\n",
       "2007-01-05  45.500000  47.306667  45.166668  47.099998  47.099998  41453400\n",
       "2007-01-08  47.283333  48.410000  46.606667  47.386665  47.386665  38547300\n",
       "2007-01-09  47.570000  47.666668  43.263332  43.666668  43.666668  74142000"
      ]
     },
     "execution_count": 84,
     "metadata": {},
     "output_type": "execute_result"
    }
   ],
   "source": [
    "# Load stock values for AAPL (Apple)\n",
    "aapl = pdr.DataReader('AAPL', start = '2007-01-01', end = '2020-12-31')\n",
    "bb.head(5)"
   ]
  },
  {
   "cell_type": "code",
   "execution_count": 86,
   "id": "0df10a18",
   "metadata": {},
   "outputs": [
    {
     "data": {
      "text/plain": [
       "<AxesSubplot:xlabel='Date'>"
      ]
     },
     "execution_count": 86,
     "metadata": {},
     "output_type": "execute_result"
    },
    {
     "data": {
      "image/png": "[encoded data removed]",
      "text/plain": [
       "<Figure size 432x288 with 1 Axes>"
      ]
     },
     "metadata": {},
     "output_type": "display_data"
    }
   ],
   "source": [
    "# Plot a graphic for High, Low, Close, Adj Close and Volume\n",
    "aapl.plot() # Due the difference of scales, we can see just the graphic for Volume"
   ]
  },
  {
   "cell_type": "code",
   "execution_count": 88,
   "id": "69f43ce6",
   "metadata": {},
   "outputs": [
    {
     "data": {
      "text/plain": [
       "<AxesSubplot:xlabel='Date'>"
      ]
     },
     "execution_count": 88,
     "metadata": {},
     "output_type": "execute_result"
    },
    {
     "data": {
      "image/png": "[encoded data removed]",
      "text/plain": [
       "<Figure size 432x288 with 1 Axes>"
      ]
     },
     "metadata": {},
     "output_type": "display_data"
    }
   ],
   "source": [
    "# Plot a graphic for Volume\n",
    "aapl.plot(y = 'Volume')"
   ]
  },
  {
   "cell_type": "code",
   "execution_count": 89,
   "id": "5130ad33",
   "metadata": {},
   "outputs": [
    {
     "data": {
      "text/plain": [
       "<AxesSubplot:xlabel='Date'>"
      ]
     },
     "execution_count": 89,
     "metadata": {},
     "output_type": "execute_result"
    },
    {
     "data": {
      "image/png": "[encoded data removed]",
      "text/plain": [
       "<Figure size 432x288 with 1 Axes>"
      ]
     },
     "metadata": {},
     "output_type": "display_data"
    }
   ],
   "source": [
    "aapl['Volume'].plot() # same as aapl.plot(y = 'Volume')"
   ]
  },
  {
   "cell_type": "code",
   "execution_count": 26,
   "id": "42e32824",
   "metadata": {},
   "outputs": [
    {
     "data": {
      "text/plain": [
       "<AxesSubplot:xlabel='Date'>"
      ]
     },
     "execution_count": 26,
     "metadata": {},
     "output_type": "execute_result"
    },
    {
     "data": {
      "image/png": "[encoded data removed]",
      "text/plain": [
       "<Figure size 432x288 with 1 Axes>"
      ]
     },
     "metadata": {
      "needs_background": "light"
     },
     "output_type": "display_data"
    }
   ],
   "source": [
    "# Plot the graphic for High\n",
    "aapl['High'].plot() # same as aapl.plot(y = 'High')"
   ]
  },
  {
   "cell_type": "code",
   "execution_count": 27,
   "id": "80cb9be7",
   "metadata": {},
   "outputs": [
    {
     "data": {
      "text/plain": [
       "<AxesSubplot:xlabel='Date'>"
      ]
     },
     "execution_count": 27,
     "metadata": {},
     "output_type": "execute_result"
    },
    {
     "data": {
      "image/png": "[encoded data removed]",
      "text/plain": [
       "<Figure size 432x288 with 1 Axes>"
      ]
     },
     "metadata": {
      "needs_background": "light"
     },
     "output_type": "display_data"
    }
   ],
   "source": [
    "# Plot a graphic for High and Close\n",
    "aapl[['High', 'Close']].plot() # High and Close have the same scale"
   ]
  },
  {
   "cell_type": "markdown",
   "id": "c0919483",
   "metadata": {},
   "source": [
    "## Modifying .plot() Aesthetics with matplotlib Templates"
   ]
  },
  {
   "cell_type": "code",
   "execution_count": 51,
   "id": "544aeb50",
   "metadata": {},
   "outputs": [
    {
     "name": "stdout",
     "output_type": "stream",
     "text": [
      "[*********************100%***********************]  1 of 1 completed\n"
     ]
    },
    {
     "data": {
      "text/html": [
       "<div>\n",
       "<style scoped>\n",
       "    .dataframe tbody tr th:only-of-type {\n",
       "        vertical-align: middle;\n",
       "    }\n",
       "\n",
       "    .dataframe tbody tr th {\n",
       "        vertical-align: top;\n",
       "    }\n",
       "\n",
       "    .dataframe thead th {\n",
       "        text-align: right;\n",
       "    }\n",
       "</style>\n",
       "<table border=\"1\" class=\"dataframe\">\n",
       "  <thead>\n",
       "    <tr style=\"text-align: right;\">\n",
       "      <th></th>\n",
       "      <th>Open</th>\n",
       "      <th>High</th>\n",
       "      <th>Low</th>\n",
       "      <th>Close</th>\n",
       "      <th>Adj Close</th>\n",
       "      <th>Volume</th>\n",
       "    </tr>\n",
       "    <tr>\n",
       "      <th>Date</th>\n",
       "      <th></th>\n",
       "      <th></th>\n",
       "      <th></th>\n",
       "      <th></th>\n",
       "      <th></th>\n",
       "      <th></th>\n",
       "    </tr>\n",
       "  </thead>\n",
       "  <tbody>\n",
       "    <tr>\n",
       "      <th>2007-01-03</th>\n",
       "      <td>43.086666</td>\n",
       "      <td>44.026669</td>\n",
       "      <td>41.703335</td>\n",
       "      <td>42.849998</td>\n",
       "      <td>42.849998</td>\n",
       "      <td>34739100</td>\n",
       "    </tr>\n",
       "    <tr>\n",
       "      <th>2007-01-04</th>\n",
       "      <td>42.953335</td>\n",
       "      <td>46.316666</td>\n",
       "      <td>42.423332</td>\n",
       "      <td>46.189999</td>\n",
       "      <td>46.189999</td>\n",
       "      <td>46007700</td>\n",
       "    </tr>\n",
       "    <tr>\n",
       "      <th>2007-01-05</th>\n",
       "      <td>45.500000</td>\n",
       "      <td>47.306667</td>\n",
       "      <td>45.166668</td>\n",
       "      <td>47.099998</td>\n",
       "      <td>47.099998</td>\n",
       "      <td>41453400</td>\n",
       "    </tr>\n",
       "    <tr>\n",
       "      <th>2007-01-08</th>\n",
       "      <td>47.283333</td>\n",
       "      <td>48.410000</td>\n",
       "      <td>46.606667</td>\n",
       "      <td>47.386665</td>\n",
       "      <td>47.386665</td>\n",
       "      <td>38547300</td>\n",
       "    </tr>\n",
       "    <tr>\n",
       "      <th>2007-01-09</th>\n",
       "      <td>47.570000</td>\n",
       "      <td>47.666668</td>\n",
       "      <td>43.263332</td>\n",
       "      <td>43.666668</td>\n",
       "      <td>43.666668</td>\n",
       "      <td>74142000</td>\n",
       "    </tr>\n",
       "  </tbody>\n",
       "</table>\n",
       "</div>"
      ],
      "text/plain": [
       "                 Open       High        Low      Close  Adj Close    Volume\n",
       "Date                                                                       \n",
       "2007-01-03  43.086666  44.026669  41.703335  42.849998  42.849998  34739100\n",
       "2007-01-04  42.953335  46.316666  42.423332  46.189999  46.189999  46007700\n",
       "2007-01-05  45.500000  47.306667  45.166668  47.099998  47.099998  41453400\n",
       "2007-01-08  47.283333  48.410000  46.606667  47.386665  47.386665  38547300\n",
       "2007-01-09  47.570000  47.666668  43.263332  43.666668  43.666668  74142000"
      ]
     },
     "execution_count": 51,
     "metadata": {},
     "output_type": "execute_result"
    }
   ],
   "source": [
    "aapl = pdr.DataReader('AAPL', start = '2007-01-01', end = '2020-12-31')\n",
    "bb.head(5)"
   ]
  },
  {
   "cell_type": "code",
   "execution_count": 52,
   "id": "ed8101b8",
   "metadata": {},
   "outputs": [],
   "source": [
    "import matplotlib.pyplot as plt"
   ]
  },
  {
   "cell_type": "code",
   "execution_count": 53,
   "id": "fdd690dd",
   "metadata": {},
   "outputs": [
    {
     "data": {
      "text/plain": [
       "['Solarize_Light2',\n",
       " '_classic_test_patch',\n",
       " '_mpl-gallery',\n",
       " '_mpl-gallery-nogrid',\n",
       " 'bmh',\n",
       " 'classic',\n",
       " 'dark_background',\n",
       " 'fast',\n",
       " 'fivethirtyeight',\n",
       " 'ggplot',\n",
       " 'grayscale',\n",
       " 'seaborn',\n",
       " 'seaborn-bright',\n",
       " 'seaborn-colorblind',\n",
       " 'seaborn-dark',\n",
       " 'seaborn-dark-palette',\n",
       " 'seaborn-darkgrid',\n",
       " 'seaborn-deep',\n",
       " 'seaborn-muted',\n",
       " 'seaborn-notebook',\n",
       " 'seaborn-paper',\n",
       " 'seaborn-pastel',\n",
       " 'seaborn-poster',\n",
       " 'seaborn-talk',\n",
       " 'seaborn-ticks',\n",
       " 'seaborn-white',\n",
       " 'seaborn-whitegrid',\n",
       " 'tableau-colorblind10']"
      ]
     },
     "execution_count": 53,
     "metadata": {},
     "output_type": "execute_result"
    }
   ],
   "source": [
    "plt.style.available"
   ]
  },
  {
   "cell_type": "code",
   "execution_count": 54,
   "id": "cb1bdf25",
   "metadata": {},
   "outputs": [
    {
     "data": {
      "text/plain": [
       "<AxesSubplot:xlabel='Date'>"
      ]
     },
     "execution_count": 54,
     "metadata": {},
     "output_type": "execute_result"
    },
    {
     "data": {
      "image/png": "[encoded data removed]",
      "text/plain": [
       "<Figure size 432x288 with 1 Axes>"
      ]
     },
     "metadata": {},
     "output_type": "display_data"
    }
   ],
   "source": [
    "plt.style.use('dark_background')\n",
    "aapl.plot(y = 'High')"
   ]
  },
  {
   "cell_type": "code",
   "execution_count": 55,
   "id": "97e1c38f",
   "metadata": {},
   "outputs": [
    {
     "data": {
      "text/plain": [
       "<AxesSubplot:xlabel='Date'>"
      ]
     },
     "execution_count": 55,
     "metadata": {},
     "output_type": "execute_result"
    },
    {
     "data": {
      "image/png": "[encoded data removed]",
      "text/plain": [
       "<Figure size 432x288 with 1 Axes>"
      ]
     },
     "metadata": {},
     "output_type": "display_data"
    }
   ],
   "source": [
    "plt.style.use('ggplot')\n",
    "aapl.plot(y = 'High')"
   ]
  },
  {
   "cell_type": "markdown",
   "id": "307d1899",
   "metadata": {},
   "source": [
    "## Creating Bar Graphs to Show Counts"
   ]
  },
  {
   "cell_type": "code",
   "execution_count": 57,
   "id": "5bdc01dd",
   "metadata": {},
   "outputs": [
    {
     "name": "stdout",
     "output_type": "stream",
     "text": [
      "[*********************100%***********************]  1 of 1 completed\n"
     ]
    },
    {
     "data": {
      "text/html": [
       "<div>\n",
       "<style scoped>\n",
       "    .dataframe tbody tr th:only-of-type {\n",
       "        vertical-align: middle;\n",
       "    }\n",
       "\n",
       "    .dataframe tbody tr th {\n",
       "        vertical-align: top;\n",
       "    }\n",
       "\n",
       "    .dataframe thead th {\n",
       "        text-align: right;\n",
       "    }\n",
       "</style>\n",
       "<table border=\"1\" class=\"dataframe\">\n",
       "  <thead>\n",
       "    <tr style=\"text-align: right;\">\n",
       "      <th></th>\n",
       "      <th>Open</th>\n",
       "      <th>High</th>\n",
       "      <th>Low</th>\n",
       "      <th>Close</th>\n",
       "      <th>Adj Close</th>\n",
       "      <th>Volume</th>\n",
       "    </tr>\n",
       "    <tr>\n",
       "      <th>Date</th>\n",
       "      <th></th>\n",
       "      <th></th>\n",
       "      <th></th>\n",
       "      <th></th>\n",
       "      <th></th>\n",
       "      <th></th>\n",
       "    </tr>\n",
       "  </thead>\n",
       "  <tbody>\n",
       "    <tr>\n",
       "      <th>2007-01-03</th>\n",
       "      <td>43.086666</td>\n",
       "      <td>44.026669</td>\n",
       "      <td>41.703335</td>\n",
       "      <td>42.849998</td>\n",
       "      <td>42.849998</td>\n",
       "      <td>34739100</td>\n",
       "    </tr>\n",
       "    <tr>\n",
       "      <th>2007-01-04</th>\n",
       "      <td>42.953335</td>\n",
       "      <td>46.316666</td>\n",
       "      <td>42.423332</td>\n",
       "      <td>46.189999</td>\n",
       "      <td>46.189999</td>\n",
       "      <td>46007700</td>\n",
       "    </tr>\n",
       "    <tr>\n",
       "      <th>2007-01-05</th>\n",
       "      <td>45.500000</td>\n",
       "      <td>47.306667</td>\n",
       "      <td>45.166668</td>\n",
       "      <td>47.099998</td>\n",
       "      <td>47.099998</td>\n",
       "      <td>41453400</td>\n",
       "    </tr>\n",
       "    <tr>\n",
       "      <th>2007-01-08</th>\n",
       "      <td>47.283333</td>\n",
       "      <td>48.410000</td>\n",
       "      <td>46.606667</td>\n",
       "      <td>47.386665</td>\n",
       "      <td>47.386665</td>\n",
       "      <td>38547300</td>\n",
       "    </tr>\n",
       "    <tr>\n",
       "      <th>2007-01-09</th>\n",
       "      <td>47.570000</td>\n",
       "      <td>47.666668</td>\n",
       "      <td>43.263332</td>\n",
       "      <td>43.666668</td>\n",
       "      <td>43.666668</td>\n",
       "      <td>74142000</td>\n",
       "    </tr>\n",
       "  </tbody>\n",
       "</table>\n",
       "</div>"
      ],
      "text/plain": [
       "                 Open       High        Low      Close  Adj Close    Volume\n",
       "Date                                                                       \n",
       "2007-01-03  43.086666  44.026669  41.703335  42.849998  42.849998  34739100\n",
       "2007-01-04  42.953335  46.316666  42.423332  46.189999  46.189999  46007700\n",
       "2007-01-05  45.500000  47.306667  45.166668  47.099998  47.099998  41453400\n",
       "2007-01-08  47.283333  48.410000  46.606667  47.386665  47.386665  38547300\n",
       "2007-01-09  47.570000  47.666668  43.263332  43.666668  43.666668  74142000"
      ]
     },
     "execution_count": 57,
     "metadata": {},
     "output_type": "execute_result"
    }
   ],
   "source": [
    "aapl = pdr.DataReader('AAPL', start = '2007-01-01', end = '2020-12-31')\n",
    "bb.head(5)"
   ]
  },
  {
   "cell_type": "code",
   "execution_count": 58,
   "id": "0613d974",
   "metadata": {},
   "outputs": [
    {
     "data": {
      "text/plain": [
       "Date\n",
       "2007-01-03      2.992857\n",
       "2007-01-04      3.059286\n",
       "2007-01-05      3.037500\n",
       "2007-01-08      3.052500\n",
       "2007-01-09      3.306071\n",
       "                 ...    \n",
       "2020-12-23    130.960007\n",
       "2020-12-24    131.970001\n",
       "2020-12-28    136.690002\n",
       "2020-12-29    134.869995\n",
       "2020-12-30    133.720001\n",
       "Name: Close, Length: 3524, dtype: float64"
      ]
     },
     "execution_count": 58,
     "metadata": {},
     "output_type": "execute_result"
    }
   ],
   "source": [
    "aapl['Close']"
   ]
  },
  {
   "cell_type": "code",
   "execution_count": 59,
   "id": "735d1453",
   "metadata": {},
   "outputs": [],
   "source": [
    "# Create a rank of the stock price values\n",
    "def rank_performance(stock_price):\n",
    "    if stock_price <= 10:\n",
    "        return \"Poor\"\n",
    "    elif stock_price <= 50:\n",
    "        return \"Satisfactory\"\n",
    "    else:\n",
    "        return \"Stellar\""
   ]
  },
  {
   "cell_type": "code",
   "execution_count": 60,
   "id": "4ba9128e",
   "metadata": {},
   "outputs": [
    {
     "data": {
      "text/plain": [
       "Date\n",
       "2007-01-03       Poor\n",
       "2007-01-04       Poor\n",
       "2007-01-05       Poor\n",
       "2007-01-08       Poor\n",
       "2007-01-09       Poor\n",
       "               ...   \n",
       "2020-12-23    Stellar\n",
       "2020-12-24    Stellar\n",
       "2020-12-28    Stellar\n",
       "2020-12-29    Stellar\n",
       "2020-12-30    Stellar\n",
       "Name: Close, Length: 3524, dtype: object"
      ]
     },
     "execution_count": 60,
     "metadata": {},
     "output_type": "execute_result"
    }
   ],
   "source": [
    "# Invoke the rank_performance() function to rank the stock price values\n",
    "aapl['Close'].apply(rank_performance)"
   ]
  },
  {
   "cell_type": "code",
   "execution_count": 61,
   "id": "1ba7399a",
   "metadata": {},
   "outputs": [
    {
     "data": {
      "text/plain": [
       "Satisfactory    2121\n",
       "Poor             936\n",
       "Stellar          467\n",
       "Name: Close, dtype: int64"
      ]
     },
     "execution_count": 61,
     "metadata": {},
     "output_type": "execute_result"
    }
   ],
   "source": [
    "# Count the number of occurences in each rank\n",
    "aapl['Close'].apply(rank_performance).value_counts()"
   ]
  },
  {
   "cell_type": "code",
   "execution_count": 62,
   "id": "38fe36dd",
   "metadata": {},
   "outputs": [
    {
     "data": {
      "text/plain": [
       "<AxesSubplot:>"
      ]
     },
     "execution_count": 62,
     "metadata": {},
     "output_type": "execute_result"
    },
    {
     "data": {
      "image/png": "[encoded data removed]",
      "text/plain": [
       "<Figure size 432x288 with 1 Axes>"
      ]
     },
     "metadata": {},
     "output_type": "display_data"
    }
   ],
   "source": [
    "aapl['Close'].apply(rank_performance).value_counts().plot()"
   ]
  },
  {
   "cell_type": "code",
   "execution_count": 63,
   "id": "b830dab6",
   "metadata": {},
   "outputs": [
    {
     "data": {
      "text/plain": [
       "<AxesSubplot:>"
      ]
     },
     "execution_count": 63,
     "metadata": {},
     "output_type": "execute_result"
    },
    {
     "data": {
      "image/png": "[encoded data removed]",
      "text/plain": [
       "<Figure size 432x288 with 1 Axes>"
      ]
     },
     "metadata": {},
     "output_type": "display_data"
    }
   ],
   "source": [
    "aapl['Close'].apply(rank_performance).value_counts().plot(kind = 'bar') # bar: vertical bars"
   ]
  },
  {
   "cell_type": "code",
   "execution_count": 64,
   "id": "1f04001c",
   "metadata": {},
   "outputs": [
    {
     "data": {
      "text/plain": [
       "<AxesSubplot:>"
      ]
     },
     "execution_count": 64,
     "metadata": {},
     "output_type": "execute_result"
    },
    {
     "data": {
      "image/png": "[encoded data removed]",
      "text/plain": [
       "<Figure size 432x288 with 1 Axes>"
      ]
     },
     "metadata": {},
     "output_type": "display_data"
    }
   ],
   "source": [
    "aapl['Close'].apply(rank_performance).value_counts().plot(kind = 'barh') # barh: horizontal bars"
   ]
  },
  {
   "cell_type": "markdown",
   "id": "9c525fbe",
   "metadata": {},
   "source": [
    "## Creating Pie Charts to Represent Proportion"
   ]
  },
  {
   "cell_type": "code",
   "execution_count": 70,
   "id": "54357d25",
   "metadata": {},
   "outputs": [
    {
     "name": "stdout",
     "output_type": "stream",
     "text": [
      "[*********************100%***********************]  1 of 1 completed\n"
     ]
    },
    {
     "data": {
      "text/html": [
       "<div>\n",
       "<style scoped>\n",
       "    .dataframe tbody tr th:only-of-type {\n",
       "        vertical-align: middle;\n",
       "    }\n",
       "\n",
       "    .dataframe tbody tr th {\n",
       "        vertical-align: top;\n",
       "    }\n",
       "\n",
       "    .dataframe thead th {\n",
       "        text-align: right;\n",
       "    }\n",
       "</style>\n",
       "<table border=\"1\" class=\"dataframe\">\n",
       "  <thead>\n",
       "    <tr style=\"text-align: right;\">\n",
       "      <th></th>\n",
       "      <th>Open</th>\n",
       "      <th>High</th>\n",
       "      <th>Low</th>\n",
       "      <th>Close</th>\n",
       "      <th>Adj Close</th>\n",
       "      <th>Volume</th>\n",
       "    </tr>\n",
       "    <tr>\n",
       "      <th>Date</th>\n",
       "      <th></th>\n",
       "      <th></th>\n",
       "      <th></th>\n",
       "      <th></th>\n",
       "      <th></th>\n",
       "      <th></th>\n",
       "    </tr>\n",
       "  </thead>\n",
       "  <tbody>\n",
       "    <tr>\n",
       "      <th>2007-01-03</th>\n",
       "      <td>43.086666</td>\n",
       "      <td>44.026669</td>\n",
       "      <td>41.703335</td>\n",
       "      <td>42.849998</td>\n",
       "      <td>42.849998</td>\n",
       "      <td>34739100</td>\n",
       "    </tr>\n",
       "    <tr>\n",
       "      <th>2007-01-04</th>\n",
       "      <td>42.953335</td>\n",
       "      <td>46.316666</td>\n",
       "      <td>42.423332</td>\n",
       "      <td>46.189999</td>\n",
       "      <td>46.189999</td>\n",
       "      <td>46007700</td>\n",
       "    </tr>\n",
       "    <tr>\n",
       "      <th>2007-01-05</th>\n",
       "      <td>45.500000</td>\n",
       "      <td>47.306667</td>\n",
       "      <td>45.166668</td>\n",
       "      <td>47.099998</td>\n",
       "      <td>47.099998</td>\n",
       "      <td>41453400</td>\n",
       "    </tr>\n",
       "    <tr>\n",
       "      <th>2007-01-08</th>\n",
       "      <td>47.283333</td>\n",
       "      <td>48.410000</td>\n",
       "      <td>46.606667</td>\n",
       "      <td>47.386665</td>\n",
       "      <td>47.386665</td>\n",
       "      <td>38547300</td>\n",
       "    </tr>\n",
       "    <tr>\n",
       "      <th>2007-01-09</th>\n",
       "      <td>47.570000</td>\n",
       "      <td>47.666668</td>\n",
       "      <td>43.263332</td>\n",
       "      <td>43.666668</td>\n",
       "      <td>43.666668</td>\n",
       "      <td>74142000</td>\n",
       "    </tr>\n",
       "  </tbody>\n",
       "</table>\n",
       "</div>"
      ],
      "text/plain": [
       "                 Open       High        Low      Close  Adj Close    Volume\n",
       "Date                                                                       \n",
       "2007-01-03  43.086666  44.026669  41.703335  42.849998  42.849998  34739100\n",
       "2007-01-04  42.953335  46.316666  42.423332  46.189999  46.189999  46007700\n",
       "2007-01-05  45.500000  47.306667  45.166668  47.099998  47.099998  41453400\n",
       "2007-01-08  47.283333  48.410000  46.606667  47.386665  47.386665  38547300\n",
       "2007-01-09  47.570000  47.666668  43.263332  43.666668  43.666668  74142000"
      ]
     },
     "execution_count": 70,
     "metadata": {},
     "output_type": "execute_result"
    }
   ],
   "source": [
    "aapl = pdr.DataReader('AAPL', start = '2007-01-01', end = '2020-12-31')\n",
    "bb.head(5)"
   ]
  },
  {
   "cell_type": "code",
   "execution_count": 71,
   "id": "8e03dc35",
   "metadata": {},
   "outputs": [
    {
     "data": {
      "text/plain": [
       "27.568502295910296"
      ]
     },
     "execution_count": 71,
     "metadata": {},
     "output_type": "execute_result"
    }
   ],
   "source": [
    "aapl['Close'].mean()"
   ]
  },
  {
   "cell_type": "code",
   "execution_count": 76,
   "id": "587c6249",
   "metadata": {},
   "outputs": [],
   "source": [
    "def rank_performance(stock_price):\n",
    "    if stock_price >= 27.568502:\n",
    "        return \"Above average\"\n",
    "    else:\n",
    "        return \"Below average\""
   ]
  },
  {
   "cell_type": "code",
   "execution_count": 77,
   "id": "fb752f4f",
   "metadata": {},
   "outputs": [
    {
     "data": {
      "text/plain": [
       "Date\n",
       "2007-01-03    Below average\n",
       "2007-01-04    Below average\n",
       "2007-01-05    Below average\n",
       "2007-01-08    Below average\n",
       "2007-01-09    Below average\n",
       "                  ...      \n",
       "2020-12-23    Above average\n",
       "2020-12-24    Above average\n",
       "2020-12-28    Above average\n",
       "2020-12-29    Above average\n",
       "2020-12-30    Above average\n",
       "Name: Close, Length: 3524, dtype: object"
      ]
     },
     "execution_count": 77,
     "metadata": {},
     "output_type": "execute_result"
    }
   ],
   "source": [
    "aapl['Close'].apply(rank_performance)"
   ]
  },
  {
   "cell_type": "code",
   "execution_count": 78,
   "id": "b92c1814",
   "metadata": {},
   "outputs": [
    {
     "data": {
      "text/plain": [
       "Below average    2201\n",
       "Above average    1323\n",
       "Name: Close, dtype: int64"
      ]
     },
     "execution_count": 78,
     "metadata": {},
     "output_type": "execute_result"
    }
   ],
   "source": [
    "aapl['Close'].apply(rank_performance).value_counts()"
   ]
  },
  {
   "cell_type": "code",
   "execution_count": 83,
   "id": "fee3a6e5",
   "metadata": {},
   "outputs": [
    {
     "data": {
      "text/plain": [
       "<AxesSubplot:ylabel='Close'>"
      ]
     },
     "execution_count": 83,
     "metadata": {},
     "output_type": "execute_result"
    },
    {
     "data": {
      "image/png": "[encoded data removed]",
      "text/plain": [
       "<Figure size 432x288 with 1 Axes>"
      ]
     },
     "metadata": {},
     "output_type": "display_data"
    }
   ],
   "source": [
    "plt.style.use('dark_background')\n",
    "aapl['Close'].apply(rank_performance).value_counts().plot(kind = 'pie', legend = True)"
   ]
  },
  {
   "cell_type": "code",
   "execution_count": null,
   "id": "a75df445",
   "metadata": {},
   "outputs": [],
   "source": []
  }
 ],
 "metadata": {
  "kernelspec": {
   "display_name": "Python 3 (ipykernel)",
   "language": "python",
   "name": "python3"
  },
  "language_info": {
   "codemirror_mode": {
    "name": "ipython",
    "version": 3
   },
   "file_extension": ".py",
   "mimetype": "text/x-python",
   "name": "python",
   "nbconvert_exporter": "python",
   "pygments_lexer": "ipython3",
   "version": "3.9.12"
  }
 },
 "nbformat": 4,
 "nbformat_minor": 5
}
