{
 "cells": [
  {
   "cell_type": "markdown",
   "id": "d3086891",
   "metadata": {},
   "source": [
    "# Working with Dates and Times in Data Sets"
   ]
  },
  {
   "cell_type": "markdown",
   "id": "6a37cbda",
   "metadata": {},
   "source": [
    "* Practioner: Cleiber Garcia\n",
    "* Date: 18 of February, 2023\n",
    "* Objective: Practicing working with dates and times in data sets\n",
    "\n",
    "This notebook is based on the notebook written by Boris Pashkaver for the Course Data Analysis with Pandas and Python (Section 11: Working with Dates and Times in DataSets), offered at Udemy. Although the degree of similarity between both notebooks is almost 100%, I built this notebook step by step.\n",
    "\n",
    "Link: https://www.udemy.com/course/data-analysis-with-pandas/\n",
    "\n",
    "For more information feel free to contact me at cleiber.garcia@gmail.com"
   ]
  },
  {
   "cell_type": "markdown",
   "id": "b1533774",
   "metadata": {},
   "source": [
    "## Importing Libraries"
   ]
  },
  {
   "cell_type": "code",
   "execution_count": 2,
   "id": "3ba3922c",
   "metadata": {},
   "outputs": [],
   "source": [
    "import pandas as pd\n",
    "import datetime as dt"
   ]
  },
  {
   "cell_type": "markdown",
   "id": "2909f7a7",
   "metadata": {},
   "source": [
    "## Review of Python's `datetime` Module"
   ]
  },
  {
   "cell_type": "code",
   "execution_count": 18,
   "id": "de9911d4",
   "metadata": {},
   "outputs": [
    {
     "data": {
      "text/plain": [
       "datetime.date(2010, 1, 20)"
      ]
     },
     "execution_count": 18,
     "metadata": {},
     "output_type": "execute_result"
    }
   ],
   "source": [
    "# Define a birthday date to 2010-01-20 (AAAA-MM-DD)\n",
    "john_birthday = dt.date(2010, 1, 20)\n",
    "john_birthday"
   ]
  },
  {
   "cell_type": "code",
   "execution_count": 8,
   "id": "420092aa",
   "metadata": {},
   "outputs": [
    {
     "data": {
      "text/plain": [
       "2010"
      ]
     },
     "execution_count": 8,
     "metadata": {},
     "output_type": "execute_result"
    }
   ],
   "source": [
    "john_birthday.year"
   ]
  },
  {
   "cell_type": "code",
   "execution_count": 9,
   "id": "a9c82c0d",
   "metadata": {},
   "outputs": [
    {
     "data": {
      "text/plain": [
       "1"
      ]
     },
     "execution_count": 9,
     "metadata": {},
     "output_type": "execute_result"
    }
   ],
   "source": [
    "john_birthday.month"
   ]
  },
  {
   "cell_type": "code",
   "execution_count": 10,
   "id": "e6186e78",
   "metadata": {},
   "outputs": [
    {
     "data": {
      "text/plain": [
       "20"
      ]
     },
     "execution_count": 10,
     "metadata": {},
     "output_type": "execute_result"
    }
   ],
   "source": [
    "john_birthday.day"
   ]
  },
  {
   "cell_type": "code",
   "execution_count": 20,
   "id": "52388311",
   "metadata": {},
   "outputs": [
    {
     "data": {
      "text/plain": [
       "'2010-01-20'"
      ]
     },
     "execution_count": 20,
     "metadata": {},
     "output_type": "execute_result"
    }
   ],
   "source": [
    "# Convert the birthday date to string\n",
    "str(john_birthday)"
   ]
  },
  {
   "cell_type": "code",
   "execution_count": 21,
   "id": "993a0b34",
   "metadata": {},
   "outputs": [
    {
     "data": {
      "text/plain": [
       "datetime.datetime(2010, 1, 10, 17, 13, 57)"
      ]
     },
     "execution_count": 21,
     "metadata": {},
     "output_type": "execute_result"
    }
   ],
   "source": [
    "# Set date and time to 2010-01-10, 17:13:57\n",
    "dt.datetime(2010, 1, 10, 17, 13, 57)"
   ]
  },
  {
   "cell_type": "code",
   "execution_count": 22,
   "id": "1f76aa48",
   "metadata": {},
   "outputs": [
    {
     "data": {
      "text/plain": [
       "'2010-01-10 17:13:57'"
      ]
     },
     "execution_count": 22,
     "metadata": {},
     "output_type": "execute_result"
    }
   ],
   "source": [
    "# Set date and time to 2010-01-10, 17:13:57 and format to string\n",
    "str(dt.datetime(2010, 1, 10, 17, 13, 57))"
   ]
  },
  {
   "cell_type": "markdown",
   "id": "5796daf5",
   "metadata": {},
   "source": [
    "## The `pandas Timestamp` Object"
   ]
  },
  {
   "cell_type": "code",
   "execution_count": 31,
   "id": "04c7b834",
   "metadata": {},
   "outputs": [
    {
     "name": "stdout",
     "output_type": "stream",
     "text": [
      "pd.Timestamp(\"2015-03-31\"):  2015-03-31 00:00:00\n",
      "pd.Timestamp(\"2015/03/31\"):  2015-03-31 00:00:00\n",
      "pd.Timestamp(\"2013, 11, 04\"):  2013-11-04 00:00:00\n",
      "pd.Timestamp(\"1/1/2015\"):  2015-01-01 00:00:00\n",
      "pd.Timestamp(\"19/12/2015\"):  2015-12-19 00:00:00\n",
      "pd.Timestamp(\"12/19/2015\"):  2015-12-19 00:00:00\n",
      "pd.Timestamp(\"4/3/2000\"):  2000-04-03 00:00:00\n",
      "pd.Timestamp(\"2021-03-08 08:35:15\"):  2021-03-08 08:35:15\n",
      "pd.Timestamp(\"2021-03-08 6:13:29 PM\"):  2021-03-08 18:13:29\n"
     ]
    }
   ],
   "source": [
    "print('pd.Timestamp(\"2015-03-31\"): ', pd.Timestamp(\"2015-03-31\"))\n",
    "print('pd.Timestamp(\"2015/03/31\"): ', pd.Timestamp(\"2015/03/31\"))\n",
    "print('pd.Timestamp(\"2013, 11, 04\"): ', pd.Timestamp(\"2013, 11, 04\"))\n",
    "print('pd.Timestamp(\"1/1/2015\"): ', pd.Timestamp(\"1/1/2015\"))\n",
    "print('pd.Timestamp(\"19/12/2015\"): ', pd.Timestamp(\"19/12/2015\"))\n",
    "print('pd.Timestamp(\"12/19/2015\"): ', pd.Timestamp(\"12/19/2015\"))\n",
    "print('pd.Timestamp(\"4/3/2000\"): ', pd.Timestamp(\"4/3/2000\"))\n",
    "print('pd.Timestamp(\"2021-03-08 08:35:15\"): ', pd.Timestamp(\"2021-03-08 08:35:15\"))\n",
    "print('pd.Timestamp(\"2021-03-08 6:13:29 PM\"): ', pd.Timestamp(\"2021-03-08 6:13:29 PM\"))"
   ]
  },
  {
   "cell_type": "code",
   "execution_count": 32,
   "id": "dacbd172",
   "metadata": {},
   "outputs": [
    {
     "data": {
      "text/plain": [
       "Timestamp('2015-01-01 00:00:00')"
      ]
     },
     "execution_count": 32,
     "metadata": {},
     "output_type": "execute_result"
    }
   ],
   "source": [
    "pd.Timestamp(dt.date(2015, 1, 1))"
   ]
  },
  {
   "cell_type": "code",
   "execution_count": 33,
   "id": "d05e8824",
   "metadata": {},
   "outputs": [
    {
     "data": {
      "text/plain": [
       "Timestamp('2000-02-03 21:35:22')"
      ]
     },
     "execution_count": 33,
     "metadata": {},
     "output_type": "execute_result"
    }
   ],
   "source": [
    "pd.Timestamp(dt.datetime(2000, 2, 3, 21, 35, 22))"
   ]
  },
  {
   "cell_type": "markdown",
   "id": "894a2683",
   "metadata": {},
   "source": [
    "## The `pandas DateTimeIndex` Object"
   ]
  },
  {
   "cell_type": "code",
   "execution_count": 34,
   "id": "a3659d52",
   "metadata": {},
   "outputs": [
    {
     "data": {
      "text/plain": [
       "DatetimeIndex(['2016-01-02', '2016-04-12', '2009-09-07'], dtype='datetime64[ns]', freq=None)"
      ]
     },
     "execution_count": 34,
     "metadata": {},
     "output_type": "execute_result"
    }
   ],
   "source": [
    "dates = [\"2016/01/02\", \"2016/04/12\", \"2009/09/07\"]\n",
    "pd.DatetimeIndex(dates)"
   ]
  },
  {
   "cell_type": "code",
   "execution_count": 35,
   "id": "93d328b2",
   "metadata": {},
   "outputs": [],
   "source": [
    "dates = [dt.date(2016, 1, 10), dt.date(1994, 6, 13), dt.date(2003, 12, 29)]\n",
    "dtIndex = pd.DatetimeIndex(dates)"
   ]
  },
  {
   "cell_type": "code",
   "execution_count": 36,
   "id": "5c907314",
   "metadata": {},
   "outputs": [
    {
     "data": {
      "text/plain": [
       "2016-01-10    100\n",
       "1994-06-13    200\n",
       "2003-12-29    300\n",
       "dtype: int64"
      ]
     },
     "execution_count": 36,
     "metadata": {},
     "output_type": "execute_result"
    }
   ],
   "source": [
    "values = [100, 200, 300]\n",
    "pd.Series(data = values, index = dtIndex)"
   ]
  },
  {
   "cell_type": "markdown",
   "id": "75b31fd3",
   "metadata": {},
   "source": [
    "## The `pd.to_datetime()` Method"
   ]
  },
  {
   "cell_type": "code",
   "execution_count": 9,
   "id": "75059213",
   "metadata": {},
   "outputs": [
    {
     "data": {
      "text/plain": [
       "Timestamp('2001-04-19 00:00:00')"
      ]
     },
     "execution_count": 9,
     "metadata": {},
     "output_type": "execute_result"
    }
   ],
   "source": [
    "pd.to_datetime(\"2001-04-19\")"
   ]
  },
  {
   "cell_type": "code",
   "execution_count": 11,
   "id": "de4dfc60",
   "metadata": {},
   "outputs": [
    {
     "data": {
      "text/plain": [
       "Timestamp('2015-01-01 00:00:00')"
      ]
     },
     "execution_count": 11,
     "metadata": {},
     "output_type": "execute_result"
    }
   ],
   "source": [
    "pd.to_datetime(dt.date(2015, 1, 1))"
   ]
  },
  {
   "cell_type": "code",
   "execution_count": 13,
   "id": "77c5dcde",
   "metadata": {},
   "outputs": [
    {
     "data": {
      "text/plain": [
       "Timestamp('2015-01-01 14:35:20')"
      ]
     },
     "execution_count": 13,
     "metadata": {},
     "output_type": "execute_result"
    }
   ],
   "source": [
    "pd.to_datetime(dt.datetime(2015, 1, 1, 14, 35, 20))"
   ]
  },
  {
   "cell_type": "code",
   "execution_count": 14,
   "id": "34ab0897",
   "metadata": {},
   "outputs": [
    {
     "data": {
      "text/plain": [
       "DatetimeIndex(['2015-01-03', '2014-02-08', '2016-01-01', '1996-07-04'], dtype='datetime64[ns]', freq=None)"
      ]
     },
     "execution_count": 14,
     "metadata": {},
     "output_type": "execute_result"
    }
   ],
   "source": [
    "pd.to_datetime([\"2015-01-03\", \"2014/02/08\", \"2016\", \"July 4th, 1996\"])"
   ]
  },
  {
   "cell_type": "code",
   "execution_count": 15,
   "id": "ce57f1fc",
   "metadata": {},
   "outputs": [
    {
     "data": {
      "text/plain": [
       "0        2015-01-03\n",
       "1        2014/02/08\n",
       "2              2016\n",
       "3    July 4th, 1996\n",
       "dtype: object"
      ]
     },
     "execution_count": 15,
     "metadata": {},
     "output_type": "execute_result"
    }
   ],
   "source": [
    "# Create a Series with dates\n",
    "times = pd.Series([\"2015-01-03\", \"2014/02/08\", \"2016\", \"July 4th, 1996\"])\n",
    "times"
   ]
  },
  {
   "cell_type": "code",
   "execution_count": 16,
   "id": "ff2601d6",
   "metadata": {},
   "outputs": [
    {
     "data": {
      "text/plain": [
       "0   2015-01-03\n",
       "1   2014-02-08\n",
       "2   2016-01-01\n",
       "3   1996-07-04\n",
       "dtype: datetime64[ns]"
      ]
     },
     "execution_count": 16,
     "metadata": {},
     "output_type": "execute_result"
    }
   ],
   "source": [
    "# Convert times do datetime\n",
    "pd.to_datetime(times)"
   ]
  },
  {
   "cell_type": "code",
   "execution_count": 18,
   "id": "67579430",
   "metadata": {},
   "outputs": [
    {
     "data": {
      "text/plain": [
       "0    July 4th, 1996\n",
       "1        10/04/1991\n",
       "2             Hello\n",
       "3        2015-02-31\n",
       "dtype: object"
      ]
     },
     "execution_count": 18,
     "metadata": {},
     "output_type": "execute_result"
    }
   ],
   "source": [
    "# Serie of dates with invalid dates\n",
    "dates = pd.Series([\"July 4th, 1996\", \"10/04/1991\", \"Hello\", \"2015-02-31\"])\n",
    "dates"
   ]
  },
  {
   "cell_type": "code",
   "execution_count": 20,
   "id": "88553a9d",
   "metadata": {},
   "outputs": [
    {
     "data": {
      "text/plain": [
       "0   1996-07-04\n",
       "1   1991-10-04\n",
       "2          NaT\n",
       "3          NaT\n",
       "dtype: datetime64[ns]"
      ]
     },
     "execution_count": 20,
     "metadata": {},
     "output_type": "execute_result"
    }
   ],
   "source": [
    "# Coerce dates, forcing values that are not dates to NaT\n",
    "pd.to_datetime(dates, errors = \"coerce\")"
   ]
  },
  {
   "cell_type": "code",
   "execution_count": 21,
   "id": "f85b5a5b",
   "metadata": {},
   "outputs": [
    {
     "data": {
      "text/plain": [
       "DatetimeIndex(['2012-10-08 18:15:05', '2012-10-09 18:15:05',\n",
       "               '2012-10-10 18:15:05', '2012-10-11 18:15:05',\n",
       "               '2012-10-12 18:15:05'],\n",
       "              dtype='datetime64[ns]', freq=None)"
      ]
     },
     "execution_count": 21,
     "metadata": {},
     "output_type": "execute_result"
    }
   ],
   "source": [
    "# Convert amounts of seconds to dates\n",
    "pd.to_datetime([1349720105, 1349806505, 1349892905, 1349979305, 1350065705], unit = \"s\")"
   ]
  },
  {
   "cell_type": "code",
   "execution_count": 22,
   "id": "cc87083f",
   "metadata": {},
   "outputs": [
    {
     "data": {
      "text/plain": [
       "Period('2016-01-08', '10D')"
      ]
     },
     "execution_count": 22,
     "metadata": {},
     "output_type": "execute_result"
    }
   ],
   "source": [
    "pd.Period(\"2016-01-08\", freq = \"10D\")"
   ]
  },
  {
   "cell_type": "code",
   "execution_count": 24,
   "id": "9db7adad",
   "metadata": {},
   "outputs": [
    {
     "data": {
      "text/plain": [
       "['2016-01-01', '2016-02-01', '2016-03-01']"
      ]
     },
     "execution_count": 24,
     "metadata": {},
     "output_type": "execute_result"
    }
   ],
   "source": [
    "dates = [\"2016-01-01\", \"2016-02-01\", \"2016-03-01\"]\n",
    "dates"
   ]
  },
  {
   "cell_type": "code",
   "execution_count": 30,
   "id": "4420fadd",
   "metadata": {},
   "outputs": [
    {
     "data": {
      "text/plain": [
       "2016-01    1\n",
       "2016-02    2\n",
       "2016-03    3\n",
       "Freq: 2M, dtype: int64"
      ]
     },
     "execution_count": 30,
     "metadata": {},
     "output_type": "execute_result"
    }
   ],
   "source": [
    "pd.Series([1,2,3], index = pd.PeriodIndex(dates, freq = \"2M\"))"
   ]
  },
  {
   "cell_type": "code",
   "execution_count": 65,
   "id": "c9748246",
   "metadata": {},
   "outputs": [
    {
     "data": {
      "text/plain": [
       "Period('2023-01-02/2023-01-08', 'W-SUN')"
      ]
     },
     "execution_count": 65,
     "metadata": {},
     "output_type": "execute_result"
    }
   ],
   "source": [
    "pd.Period(\"2023-01-08\", freq = \"W\")"
   ]
  },
  {
   "cell_type": "code",
   "execution_count": 66,
   "id": "632343d1",
   "metadata": {},
   "outputs": [
    {
     "data": {
      "text/plain": [
       "Period('2023-01-02/2023-01-08', 'W-SUN')"
      ]
     },
     "execution_count": 66,
     "metadata": {},
     "output_type": "execute_result"
    }
   ],
   "source": [
    "pd.Period(\"2023-01-08\", freq = \"W-SUN\")"
   ]
  },
  {
   "cell_type": "code",
   "execution_count": 67,
   "id": "6573d31c",
   "metadata": {},
   "outputs": [
    {
     "data": {
      "text/plain": [
       "Period('2023-01-05/2023-01-11', 'W-WED')"
      ]
     },
     "execution_count": 67,
     "metadata": {},
     "output_type": "execute_result"
    }
   ],
   "source": [
    "pd.Period(\"2023-01-08\", freq = \"W-WED\")"
   ]
  },
  {
   "cell_type": "code",
   "execution_count": 44,
   "id": "1188cf8d",
   "metadata": {},
   "outputs": [
    {
     "data": {
      "text/plain": [
       "Period('2015-12-10', '10D')"
      ]
     },
     "execution_count": 44,
     "metadata": {},
     "output_type": "execute_result"
    }
   ],
   "source": [
    "pd.Period(\"2015-12-10\", freq = \"10D\")"
   ]
  },
  {
   "cell_type": "code",
   "execution_count": 57,
   "id": "8ed00d0c",
   "metadata": {},
   "outputs": [],
   "source": [
    "dates = [\"2023-01-27\"]"
   ]
  },
  {
   "cell_type": "code",
   "execution_count": 53,
   "id": "ea12acaf",
   "metadata": {},
   "outputs": [
    {
     "data": {
      "text/plain": [
       "PeriodIndex(['2023-01-31/2023-02-06'], dtype='period[W-MON]')"
      ]
     },
     "execution_count": 53,
     "metadata": {},
     "output_type": "execute_result"
    }
   ],
   "source": [
    "pd.PeriodIndex(dates, freq = \"W-MON\")"
   ]
  },
  {
   "cell_type": "markdown",
   "id": "def36027",
   "metadata": {},
   "source": [
    "## Create Range of Dates with the `pd.date_range()` Method"
   ]
  },
  {
   "cell_type": "code",
   "execution_count": 59,
   "id": "0c7f9071",
   "metadata": {},
   "outputs": [
    {
     "data": {
      "text/plain": [
       "DatetimeIndex(['2016-01-01', '2016-01-02', '2016-01-03', '2016-01-04',\n",
       "               '2016-01-05', '2016-01-06', '2016-01-07', '2016-01-08',\n",
       "               '2016-01-09', '2016-01-10'],\n",
       "              dtype='datetime64[ns]', freq='D')"
      ]
     },
     "execution_count": 59,
     "metadata": {},
     "output_type": "execute_result"
    }
   ],
   "source": [
    "times = pd.date_range(start = \"2016-01-01\", end = \"2016-01-10\", freq = \"D\")\n",
    "times"
   ]
  },
  {
   "cell_type": "code",
   "execution_count": null,
   "id": "5d925108",
   "metadata": {},
   "outputs": [],
   "source": []
  },
  {
   "cell_type": "code",
   "execution_count": 60,
   "id": "9a66f72b",
   "metadata": {},
   "outputs": [
    {
     "data": {
      "text/plain": [
       "DatetimeIndex(['2023-01-01', '2023-01-04', '2023-01-07', '2023-01-10',\n",
       "               '2023-01-13'],\n",
       "              dtype='datetime64[ns]', freq='3D')"
      ]
     },
     "execution_count": 60,
     "metadata": {},
     "output_type": "execute_result"
    }
   ],
   "source": [
    "pd.date_range(start = \"2023-01-01\", end = \"2023-01-15\", freq = \"3D\")"
   ]
  },
  {
   "cell_type": "code",
   "execution_count": 68,
   "id": "91de3a54",
   "metadata": {},
   "outputs": [
    {
     "data": {
      "text/plain": [
       "DatetimeIndex(['2023-01-01', '2023-01-08', '2023-01-15'], dtype='datetime64[ns]', freq='W-SUN')"
      ]
     },
     "execution_count": 68,
     "metadata": {},
     "output_type": "execute_result"
    }
   ],
   "source": [
    "# # Create a range of dates, starting on 2023-01-01 and ending on 2023-01-15, at intervals of weeks\n",
    "pd.date_range(start = \"2023-01-01\", end = \"2023-01-15\", freq = \"W\")"
   ]
  },
  {
   "cell_type": "code",
   "execution_count": 62,
   "id": "311bae35",
   "metadata": {},
   "outputs": [
    {
     "data": {
      "text/plain": [
       "DatetimeIndex(['2023-01-06', '2023-01-13'], dtype='datetime64[ns]', freq='W-FRI')"
      ]
     },
     "execution_count": 62,
     "metadata": {},
     "output_type": "execute_result"
    }
   ],
   "source": [
    "# Create a range of dates, starting on 2023-01-01 and ending on 2023-01-15. Weeks starting on Friday\n",
    "pd.date_range(start = \"2023-01-01\", end = \"2023-01-15\", freq = \"W-FRI\")"
   ]
  },
  {
   "cell_type": "code",
   "execution_count": 63,
   "id": "3d43a60c",
   "metadata": {},
   "outputs": [
    {
     "data": {
      "text/plain": [
       "DatetimeIndex(['2023-01-04', '2023-01-11'], dtype='datetime64[ns]', freq='W-WED')"
      ]
     },
     "execution_count": 63,
     "metadata": {},
     "output_type": "execute_result"
    }
   ],
   "source": [
    "# Create a range of dates, starting on 2023-01-01 and ending on 2023-01-15. Weeks starting on Wednesdya\n",
    "pd.date_range(start = \"2023-01-01\", end = \"2023-01-15\", freq = \"W-WED\")"
   ]
  },
  {
   "cell_type": "code",
   "execution_count": 71,
   "id": "3c9fdde8",
   "metadata": {},
   "outputs": [
    {
     "data": {
      "text/plain": [
       "DatetimeIndex(['2023-01-01', '2023-01-02', '2023-01-03', '2023-01-04',\n",
       "               '2023-01-05', '2023-01-06', '2023-01-07', '2023-01-08',\n",
       "               '2023-01-09', '2023-01-10', '2023-01-11', '2023-01-12',\n",
       "               '2023-01-13', '2023-01-14', '2023-01-15', '2023-01-16',\n",
       "               '2023-01-17'],\n",
       "              dtype='datetime64[ns]', freq='D')"
      ]
     },
     "execution_count": 71,
     "metadata": {},
     "output_type": "execute_result"
    }
   ],
   "source": [
    "# Create a range of dates, starting on 2023-01-01, with duration of 17 days\n",
    "pd.date_range(start = \"2023-01-01\", periods = 17, freq = \"D\")"
   ]
  },
  {
   "cell_type": "code",
   "execution_count": 72,
   "id": "2c22a44f",
   "metadata": {},
   "outputs": [
    {
     "data": {
      "text/plain": [
       "DatetimeIndex(['2023-01-02', '2023-01-03', '2023-01-04', '2023-01-05',\n",
       "               '2023-01-06', '2023-01-09', '2023-01-10', '2023-01-11',\n",
       "               '2023-01-12', '2023-01-13', '2023-01-16', '2023-01-17',\n",
       "               '2023-01-18', '2023-01-19', '2023-01-20', '2023-01-23',\n",
       "               '2023-01-24', '2023-01-25', '2023-01-26', '2023-01-27',\n",
       "               '2023-01-30', '2023-01-31', '2023-02-01', '2023-02-02',\n",
       "               '2023-02-03', '2023-02-06', '2023-02-07', '2023-02-08'],\n",
       "              dtype='datetime64[ns]', freq='B')"
      ]
     },
     "execution_count": 72,
     "metadata": {},
     "output_type": "execute_result"
    }
   ],
   "source": [
    "# Create a range of dates, starting on 2023-01-01, with duration of 17 business days\n",
    "pd.date_range(start = \"2023-01-01\", periods = 28, freq = \"B\")"
   ]
  },
  {
   "cell_type": "code",
   "execution_count": 74,
   "id": "64d4f596",
   "metadata": {},
   "outputs": [
    {
     "data": {
      "text/plain": [
       "DatetimeIndex(['2023-01-01', '2023-01-08', '2023-01-15'], dtype='datetime64[ns]', freq='W-SUN')"
      ]
     },
     "execution_count": 74,
     "metadata": {},
     "output_type": "execute_result"
    }
   ],
   "source": [
    "# Create a range of dates, starting on 2023-01-01, with duration of 3 weeks\n",
    "pd.date_range(start = \"2023-01-01\", periods = 3, freq = \"W\")"
   ]
  },
  {
   "cell_type": "code",
   "execution_count": 76,
   "id": "b908a45d",
   "metadata": {},
   "outputs": [
    {
     "data": {
      "text/plain": [
       "DatetimeIndex(['2023-01-01 00:00:00', '2023-01-01 06:00:00',\n",
       "               '2023-01-01 12:00:00', '2023-01-01 18:00:00',\n",
       "               '2023-01-02 00:00:00', '2023-01-02 06:00:00',\n",
       "               '2023-01-02 12:00:00', '2023-01-02 18:00:00'],\n",
       "              dtype='datetime64[ns]', freq='6H')"
      ]
     },
     "execution_count": 76,
     "metadata": {},
     "output_type": "execute_result"
    }
   ],
   "source": [
    "# Create a range of dates, starting on 2023-01-01, with duration 8 blocks of 6 hours each\n",
    "pd.date_range(start = \"2023-01-01\", periods = 8, freq = \"6H\")"
   ]
  },
  {
   "cell_type": "code",
   "execution_count": 77,
   "id": "83e5a16d",
   "metadata": {},
   "outputs": [
    {
     "data": {
      "text/plain": [
       "DatetimeIndex(['2022-12-07', '2022-12-08', '2022-12-09', '2022-12-10',\n",
       "               '2022-12-11', '2022-12-12', '2022-12-13', '2022-12-14',\n",
       "               '2022-12-15', '2022-12-16', '2022-12-17', '2022-12-18',\n",
       "               '2022-12-19', '2022-12-20', '2022-12-21', '2022-12-22',\n",
       "               '2022-12-23', '2022-12-24', '2022-12-25', '2022-12-26',\n",
       "               '2022-12-27', '2022-12-28', '2022-12-29', '2022-12-30',\n",
       "               '2022-12-31'],\n",
       "              dtype='datetime64[ns]', freq='D')"
      ]
     },
     "execution_count": 77,
     "metadata": {},
     "output_type": "execute_result"
    }
   ],
   "source": [
    "# Create a range of dates, ending on 2022-12-31, starting 25 days before\n",
    "pd.date_range(end = \"2022-12-31\", periods = 25, freq = \"D\")"
   ]
  },
  {
   "cell_type": "code",
   "execution_count": 80,
   "id": "3ab2be75",
   "metadata": {},
   "outputs": [
    {
     "data": {
      "text/plain": [
       "DatetimeIndex(['2022-11-13', '2022-11-20', '2022-11-27', '2022-12-04',\n",
       "               '2022-12-11', '2022-12-18', '2022-12-25'],\n",
       "              dtype='datetime64[ns]', freq='W-SUN')"
      ]
     },
     "execution_count": 80,
     "metadata": {},
     "output_type": "execute_result"
    }
   ],
   "source": [
    "# Create a range of dates, ending on 2022-12-31, starting on sunday, 7 weeks before\n",
    "pd.date_range(end = \"2022-12-31\", periods = 7, freq = \"W-SUN\")"
   ]
  },
  {
   "cell_type": "code",
   "execution_count": 81,
   "id": "c73ba542",
   "metadata": {},
   "outputs": [
    {
     "data": {
      "text/plain": [
       "DatetimeIndex(['2022-11-18', '2022-11-25', '2022-12-02', '2022-12-09',\n",
       "               '2022-12-16', '2022-12-23', '2022-12-30'],\n",
       "              dtype='datetime64[ns]', freq='W-FRI')"
      ]
     },
     "execution_count": 81,
     "metadata": {},
     "output_type": "execute_result"
    }
   ],
   "source": [
    "# Create a range of dates, ending on 2022-12-31, starting on friday, 7 weeks before\n",
    "pd.date_range(end = \"2022-12-31\", periods = 7, freq = \"W-FRI\")"
   ]
  },
  {
   "cell_type": "code",
   "execution_count": 83,
   "id": "01d65aa0",
   "metadata": {},
   "outputs": [
    {
     "data": {
      "text/plain": [
       "DatetimeIndex(['2022-12-30 06:00:00', '2022-12-30 12:00:00',\n",
       "               '2022-12-30 18:00:00', '2022-12-31 00:00:00',\n",
       "               '2022-12-31 06:00:00', '2022-12-31 12:00:00',\n",
       "               '2022-12-31 18:00:00', '2023-01-01 00:00:00'],\n",
       "              dtype='datetime64[ns]', freq='6H')"
      ]
     },
     "execution_count": 83,
     "metadata": {},
     "output_type": "execute_result"
    }
   ],
   "source": [
    "# Create a range of dates, ending on 2022-12-31, with duration 8 blocks of 6 hours each\n",
    "pd.date_range(end = \"2023-01-01\", periods = 8, freq = \"6H\")"
   ]
  },
  {
   "cell_type": "markdown",
   "id": "5ebd456f",
   "metadata": {},
   "source": [
    "## The `.dt` Accessor"
   ]
  },
  {
   "cell_type": "code",
   "execution_count": 119,
   "id": "8ab1ced0",
   "metadata": {},
   "outputs": [],
   "source": [
    "# Create a bunch of dates, with duration of 30 days each block, starting on 2022-01-01 and ending on 2022-12-31, \n",
    "bunch_of_dates = pd.date_range(start = \"2022-01-01\", end = \"2022-12-31\", freq = \"30D\")"
   ]
  },
  {
   "cell_type": "code",
   "execution_count": 120,
   "id": "670c661c",
   "metadata": {},
   "outputs": [
    {
     "data": {
      "text/plain": [
       "DatetimeIndex(['2022-01-01', '2022-01-31', '2022-03-02', '2022-04-01',\n",
       "               '2022-05-01', '2022-05-31', '2022-06-30', '2022-07-30',\n",
       "               '2022-08-29', '2022-09-28', '2022-10-28', '2022-11-27',\n",
       "               '2022-12-27'],\n",
       "              dtype='datetime64[ns]', freq='30D')"
      ]
     },
     "execution_count": 120,
     "metadata": {},
     "output_type": "execute_result"
    }
   ],
   "source": [
    "bunch_of_dates"
   ]
  },
  {
   "cell_type": "code",
   "execution_count": 121,
   "id": "646e5ad8",
   "metadata": {},
   "outputs": [
    {
     "data": {
      "text/plain": [
       "pandas.core.indexes.datetimes.DatetimeIndex"
      ]
     },
     "execution_count": 121,
     "metadata": {},
     "output_type": "execute_result"
    }
   ],
   "source": [
    "type(bunch_of_dates)"
   ]
  },
  {
   "cell_type": "code",
   "execution_count": 127,
   "id": "33be806c",
   "metadata": {},
   "outputs": [
    {
     "data": {
      "text/plain": [
       "13"
      ]
     },
     "execution_count": 127,
     "metadata": {},
     "output_type": "execute_result"
    }
   ],
   "source": [
    "# Verify the length of bunch_of_dates\n",
    "len(bunch_of_dates)"
   ]
  },
  {
   "cell_type": "code",
   "execution_count": 128,
   "id": "e7d6e3e4",
   "metadata": {},
   "outputs": [
    {
     "data": {
      "text/plain": [
       "0    2022-01-01\n",
       "1    2022-01-31\n",
       "2    2022-03-02\n",
       "3    2022-04-01\n",
       "4    2022-05-01\n",
       "5    2022-05-31\n",
       "6    2022-06-30\n",
       "7    2022-07-30\n",
       "8    2022-08-29\n",
       "9    2022-09-28\n",
       "10   2022-10-28\n",
       "11   2022-11-27\n",
       "12   2022-12-27\n",
       "dtype: datetime64[ns]"
      ]
     },
     "execution_count": 128,
     "metadata": {},
     "output_type": "execute_result"
    }
   ],
   "source": [
    "# Create a series s of dates, from bunch_of_dates\n",
    "s = pd.Series(bunch_of_dates)\n",
    "s"
   ]
  },
  {
   "cell_type": "code",
   "execution_count": 131,
   "id": "4d91960f",
   "metadata": {},
   "outputs": [],
   "source": [
    "# Verify which of the blocks end in the last day of the month\n",
    "mask = s.dt.is_month_end"
   ]
  },
  {
   "cell_type": "code",
   "execution_count": 132,
   "id": "5c5a8040",
   "metadata": {},
   "outputs": [
    {
     "data": {
      "text/plain": [
       "1   2022-01-31\n",
       "5   2022-05-31\n",
       "6   2022-06-30\n",
       "dtype: datetime64[ns]"
      ]
     },
     "execution_count": 132,
     "metadata": {},
     "output_type": "execute_result"
    }
   ],
   "source": [
    "s[mask]"
   ]
  },
  {
   "cell_type": "markdown",
   "id": "2090ffd9",
   "metadata": {},
   "source": [
    "## Import Financial Data Set with `pandas_datareader` Library"
   ]
  },
  {
   "cell_type": "markdown",
   "id": "05659d29",
   "metadata": {},
   "source": [
    "####  Get stock data for 'AAPL' (Apple), starting on 2020-01-01 and ending on 2023-02-17"
   ]
  },
  {
   "cell_type": "code",
   "execution_count": 8,
   "id": "7ba470a8",
   "metadata": {},
   "outputs": [],
   "source": [
    "import pandas as pd"
   ]
  },
  {
   "cell_type": "code",
   "execution_count": 9,
   "id": "28fc7978",
   "metadata": {},
   "outputs": [],
   "source": [
    "# Python modules necessaries to read stock information from Yahoo Finance\n",
    "from pandas_datareader import data as pdr\n",
    "import yfinance as yf\n",
    "yf.pdr_override() "
   ]
  },
  {
   "cell_type": "code",
   "execution_count": 10,
   "id": "82c0b967",
   "metadata": {},
   "outputs": [
    {
     "name": "stdout",
     "output_type": "stream",
     "text": [
      "[*********************100%***********************]  1 of 1 completed\n"
     ]
    },
    {
     "data": {
      "text/html": [
       "<div>\n",
       "<style scoped>\n",
       "    .dataframe tbody tr th:only-of-type {\n",
       "        vertical-align: middle;\n",
       "    }\n",
       "\n",
       "    .dataframe tbody tr th {\n",
       "        vertical-align: top;\n",
       "    }\n",
       "\n",
       "    .dataframe thead th {\n",
       "        text-align: right;\n",
       "    }\n",
       "</style>\n",
       "<table border=\"1\" class=\"dataframe\">\n",
       "  <thead>\n",
       "    <tr style=\"text-align: right;\">\n",
       "      <th></th>\n",
       "      <th>Open</th>\n",
       "      <th>High</th>\n",
       "      <th>Low</th>\n",
       "      <th>Close</th>\n",
       "      <th>Adj Close</th>\n",
       "      <th>Volume</th>\n",
       "    </tr>\n",
       "    <tr>\n",
       "      <th>Date</th>\n",
       "      <th></th>\n",
       "      <th></th>\n",
       "      <th></th>\n",
       "      <th></th>\n",
       "      <th></th>\n",
       "      <th></th>\n",
       "    </tr>\n",
       "  </thead>\n",
       "  <tbody>\n",
       "    <tr>\n",
       "      <th>2020-01-02</th>\n",
       "      <td>74.059998</td>\n",
       "      <td>75.150002</td>\n",
       "      <td>73.797501</td>\n",
       "      <td>75.087502</td>\n",
       "      <td>73.449379</td>\n",
       "      <td>135480400</td>\n",
       "    </tr>\n",
       "    <tr>\n",
       "      <th>2020-01-03</th>\n",
       "      <td>74.287498</td>\n",
       "      <td>75.144997</td>\n",
       "      <td>74.125000</td>\n",
       "      <td>74.357498</td>\n",
       "      <td>72.735321</td>\n",
       "      <td>146322800</td>\n",
       "    </tr>\n",
       "    <tr>\n",
       "      <th>2020-01-06</th>\n",
       "      <td>73.447502</td>\n",
       "      <td>74.989998</td>\n",
       "      <td>73.187500</td>\n",
       "      <td>74.949997</td>\n",
       "      <td>73.314880</td>\n",
       "      <td>118387200</td>\n",
       "    </tr>\n",
       "    <tr>\n",
       "      <th>2020-01-07</th>\n",
       "      <td>74.959999</td>\n",
       "      <td>75.224998</td>\n",
       "      <td>74.370003</td>\n",
       "      <td>74.597504</td>\n",
       "      <td>72.970093</td>\n",
       "      <td>108872000</td>\n",
       "    </tr>\n",
       "    <tr>\n",
       "      <th>2020-01-08</th>\n",
       "      <td>74.290001</td>\n",
       "      <td>76.110001</td>\n",
       "      <td>74.290001</td>\n",
       "      <td>75.797501</td>\n",
       "      <td>74.143898</td>\n",
       "      <td>132079200</td>\n",
       "    </tr>\n",
       "    <tr>\n",
       "      <th>...</th>\n",
       "      <td>...</td>\n",
       "      <td>...</td>\n",
       "      <td>...</td>\n",
       "      <td>...</td>\n",
       "      <td>...</td>\n",
       "      <td>...</td>\n",
       "    </tr>\n",
       "    <tr>\n",
       "      <th>2023-02-10</th>\n",
       "      <td>149.460007</td>\n",
       "      <td>151.339996</td>\n",
       "      <td>149.220001</td>\n",
       "      <td>151.009995</td>\n",
       "      <td>151.009995</td>\n",
       "      <td>57409100</td>\n",
       "    </tr>\n",
       "    <tr>\n",
       "      <th>2023-02-13</th>\n",
       "      <td>150.949997</td>\n",
       "      <td>154.259995</td>\n",
       "      <td>150.919998</td>\n",
       "      <td>153.850006</td>\n",
       "      <td>153.850006</td>\n",
       "      <td>62199000</td>\n",
       "    </tr>\n",
       "    <tr>\n",
       "      <th>2023-02-14</th>\n",
       "      <td>152.119995</td>\n",
       "      <td>153.770004</td>\n",
       "      <td>150.860001</td>\n",
       "      <td>153.199997</td>\n",
       "      <td>153.199997</td>\n",
       "      <td>61707600</td>\n",
       "    </tr>\n",
       "    <tr>\n",
       "      <th>2023-02-15</th>\n",
       "      <td>153.110001</td>\n",
       "      <td>155.500000</td>\n",
       "      <td>152.880005</td>\n",
       "      <td>155.330002</td>\n",
       "      <td>155.330002</td>\n",
       "      <td>65669300</td>\n",
       "    </tr>\n",
       "    <tr>\n",
       "      <th>2023-02-16</th>\n",
       "      <td>153.509995</td>\n",
       "      <td>156.330002</td>\n",
       "      <td>153.350006</td>\n",
       "      <td>153.710007</td>\n",
       "      <td>153.710007</td>\n",
       "      <td>68167900</td>\n",
       "    </tr>\n",
       "  </tbody>\n",
       "</table>\n",
       "<p>788 rows × 6 columns</p>\n",
       "</div>"
      ],
      "text/plain": [
       "                  Open        High         Low       Close   Adj Close  \\\n",
       "Date                                                                     \n",
       "2020-01-02   74.059998   75.150002   73.797501   75.087502   73.449379   \n",
       "2020-01-03   74.287498   75.144997   74.125000   74.357498   72.735321   \n",
       "2020-01-06   73.447502   74.989998   73.187500   74.949997   73.314880   \n",
       "2020-01-07   74.959999   75.224998   74.370003   74.597504   72.970093   \n",
       "2020-01-08   74.290001   76.110001   74.290001   75.797501   74.143898   \n",
       "...                ...         ...         ...         ...         ...   \n",
       "2023-02-10  149.460007  151.339996  149.220001  151.009995  151.009995   \n",
       "2023-02-13  150.949997  154.259995  150.919998  153.850006  153.850006   \n",
       "2023-02-14  152.119995  153.770004  150.860001  153.199997  153.199997   \n",
       "2023-02-15  153.110001  155.500000  152.880005  155.330002  155.330002   \n",
       "2023-02-16  153.509995  156.330002  153.350006  153.710007  153.710007   \n",
       "\n",
       "               Volume  \n",
       "Date                   \n",
       "2020-01-02  135480400  \n",
       "2020-01-03  146322800  \n",
       "2020-01-06  118387200  \n",
       "2020-01-07  108872000  \n",
       "2020-01-08  132079200  \n",
       "...               ...  \n",
       "2023-02-10   57409100  \n",
       "2023-02-13   62199000  \n",
       "2023-02-14   61707600  \n",
       "2023-02-15   65669300  \n",
       "2023-02-16   68167900  \n",
       "\n",
       "[788 rows x 6 columns]"
      ]
     },
     "execution_count": 10,
     "metadata": {},
     "output_type": "execute_result"
    }
   ],
   "source": [
    "# Get stock data for 'AAPL' (Apple), starting on 2020-01-01 and ending on 2023-02-17\n",
    "aapl = pdr.get_data_yahoo('AAPL', start='2020-01-01', end='2023-02-17')\n",
    "aapl"
   ]
  },
  {
   "cell_type": "code",
   "execution_count": 11,
   "id": "a5e74a52",
   "metadata": {},
   "outputs": [
    {
     "data": {
      "text/plain": [
       "788"
      ]
     },
     "execution_count": 11,
     "metadata": {},
     "output_type": "execute_result"
    }
   ],
   "source": [
    "len(aapl)"
   ]
  },
  {
   "cell_type": "code",
   "execution_count": 12,
   "id": "b749f042",
   "metadata": {},
   "outputs": [
    {
     "name": "stdout",
     "output_type": "stream",
     "text": [
      "<class 'pandas.core.frame.DataFrame'>\n",
      "DatetimeIndex: 788 entries, 2020-01-02 to 2023-02-16\n",
      "Data columns (total 6 columns):\n",
      " #   Column     Non-Null Count  Dtype  \n",
      "---  ------     --------------  -----  \n",
      " 0   Open       788 non-null    float64\n",
      " 1   High       788 non-null    float64\n",
      " 2   Low        788 non-null    float64\n",
      " 3   Close      788 non-null    float64\n",
      " 4   Adj Close  788 non-null    float64\n",
      " 5   Volume     788 non-null    int64  \n",
      "dtypes: float64(5), int64(1)\n",
      "memory usage: 43.1 KB\n"
     ]
    }
   ],
   "source": [
    "aapl.info()"
   ]
  },
  {
   "cell_type": "code",
   "execution_count": 13,
   "id": "1973a884",
   "metadata": {},
   "outputs": [
    {
     "data": {
      "text/plain": [
       "DatetimeIndex(['2020-01-02', '2020-01-03', '2020-01-06', '2020-01-07',\n",
       "               '2020-01-08', '2020-01-09', '2020-01-10', '2020-01-13',\n",
       "               '2020-01-14', '2020-01-15',\n",
       "               ...\n",
       "               '2023-02-03', '2023-02-06', '2023-02-07', '2023-02-08',\n",
       "               '2023-02-09', '2023-02-10', '2023-02-13', '2023-02-14',\n",
       "               '2023-02-15', '2023-02-16'],\n",
       "              dtype='datetime64[ns]', name='Date', length=788, freq=None)"
      ]
     },
     "execution_count": 13,
     "metadata": {},
     "output_type": "execute_result"
    }
   ],
   "source": [
    "aapl.index"
   ]
  },
  {
   "cell_type": "code",
   "execution_count": 14,
   "id": "1b74c190",
   "metadata": {},
   "outputs": [
    {
     "data": {
      "text/plain": [
       "Index(['Open', 'High', 'Low', 'Close', 'Adj Close', 'Volume'], dtype='object')"
      ]
     },
     "execution_count": 14,
     "metadata": {},
     "output_type": "execute_result"
    }
   ],
   "source": [
    "aapl.columns"
   ]
  },
  {
   "cell_type": "code",
   "execution_count": 15,
   "id": "44ac1811",
   "metadata": {},
   "outputs": [
    {
     "data": {
      "text/plain": [
       "[DatetimeIndex(['2020-01-02', '2020-01-03', '2020-01-06', '2020-01-07',\n",
       "                '2020-01-08', '2020-01-09', '2020-01-10', '2020-01-13',\n",
       "                '2020-01-14', '2020-01-15',\n",
       "                ...\n",
       "                '2023-02-03', '2023-02-06', '2023-02-07', '2023-02-08',\n",
       "                '2023-02-09', '2023-02-10', '2023-02-13', '2023-02-14',\n",
       "                '2023-02-15', '2023-02-16'],\n",
       "               dtype='datetime64[ns]', name='Date', length=788, freq=None),\n",
       " Index(['Open', 'High', 'Low', 'Close', 'Adj Close', 'Volume'], dtype='object')]"
      ]
     },
     "execution_count": 15,
     "metadata": {},
     "output_type": "execute_result"
    }
   ],
   "source": [
    "aapl.axes"
   ]
  },
  {
   "cell_type": "code",
   "execution_count": 16,
   "id": "462c303b",
   "metadata": {},
   "outputs": [
    {
     "data": {
      "text/plain": [
       "array([[7.40599976e+01, 7.51500015e+01, 7.37975006e+01, 7.50875015e+01,\n",
       "        7.34493790e+01, 1.35480400e+08],\n",
       "       [7.42874985e+01, 7.51449966e+01, 7.41250000e+01, 7.43574982e+01,\n",
       "        7.27353210e+01, 1.46322800e+08],\n",
       "       [7.34475021e+01, 7.49899979e+01, 7.31875000e+01, 7.49499969e+01,\n",
       "        7.33148804e+01, 1.18387200e+08],\n",
       "       ...,\n",
       "       [1.52119995e+02, 1.53770004e+02, 1.50860001e+02, 1.53199997e+02,\n",
       "        1.53199997e+02, 6.17076000e+07],\n",
       "       [1.53110001e+02, 1.55500000e+02, 1.52880005e+02, 1.55330002e+02,\n",
       "        1.55330002e+02, 6.56693000e+07],\n",
       "       [1.53509995e+02, 1.56330002e+02, 1.53350006e+02, 1.53710007e+02,\n",
       "        1.53710007e+02, 6.81679000e+07]])"
      ]
     },
     "execution_count": 16,
     "metadata": {},
     "output_type": "execute_result"
    }
   ],
   "source": [
    "aapl.values"
   ]
  },
  {
   "cell_type": "markdown",
   "id": "3ab0eb3e",
   "metadata": {},
   "source": [
    "## Selecting from a `DataFrame` with a `DateTimeIndex`"
   ]
  },
  {
   "cell_type": "code",
   "execution_count": 17,
   "id": "5f416bf4",
   "metadata": {},
   "outputs": [
    {
     "data": {
      "text/plain": [
       "Open         7.406000e+01\n",
       "High         7.515000e+01\n",
       "Low          7.379750e+01\n",
       "Close        7.508750e+01\n",
       "Adj Close    7.344938e+01\n",
       "Volume       1.354804e+08\n",
       "Name: 2020-01-02 00:00:00, dtype: float64"
      ]
     },
     "execution_count": 17,
     "metadata": {},
     "output_type": "execute_result"
    }
   ],
   "source": [
    "# Show AAPL's stock values for 2020-01-02\n",
    "aapl.loc[\"2020-01-02\"]"
   ]
  },
  {
   "cell_type": "code",
   "execution_count": 18,
   "id": "5cadf1d3",
   "metadata": {},
   "outputs": [
    {
     "data": {
      "text/plain": [
       "Open         1.204000e+02\n",
       "High         1.211700e+02\n",
       "Low          1.191600e+02\n",
       "Close        1.210300e+02\n",
       "Adj Close    1.195905e+02\n",
       "Volume       8.810510e+07\n",
       "Name: 2021-03-12 00:00:00, dtype: float64"
      ]
     },
     "execution_count": 18,
     "metadata": {},
     "output_type": "execute_result"
    }
   ],
   "source": [
    "# Show AAPL's stock values for index with position 300\n",
    "aapl.iloc[300]"
   ]
  },
  {
   "cell_type": "code",
   "execution_count": 19,
   "id": "beea48fd",
   "metadata": {},
   "outputs": [
    {
     "data": {
      "text/html": [
       "<div>\n",
       "<style scoped>\n",
       "    .dataframe tbody tr th:only-of-type {\n",
       "        vertical-align: middle;\n",
       "    }\n",
       "\n",
       "    .dataframe tbody tr th {\n",
       "        vertical-align: top;\n",
       "    }\n",
       "\n",
       "    .dataframe thead th {\n",
       "        text-align: right;\n",
       "    }\n",
       "</style>\n",
       "<table border=\"1\" class=\"dataframe\">\n",
       "  <thead>\n",
       "    <tr style=\"text-align: right;\">\n",
       "      <th></th>\n",
       "      <th>Open</th>\n",
       "      <th>High</th>\n",
       "      <th>Low</th>\n",
       "      <th>Close</th>\n",
       "      <th>Adj Close</th>\n",
       "      <th>Volume</th>\n",
       "    </tr>\n",
       "    <tr>\n",
       "      <th>Date</th>\n",
       "      <th></th>\n",
       "      <th></th>\n",
       "      <th></th>\n",
       "      <th></th>\n",
       "      <th></th>\n",
       "      <th></th>\n",
       "    </tr>\n",
       "  </thead>\n",
       "  <tbody>\n",
       "    <tr>\n",
       "      <th>2020-10-01</th>\n",
       "      <td>117.639999</td>\n",
       "      <td>117.720001</td>\n",
       "      <td>115.830002</td>\n",
       "      <td>116.790001</td>\n",
       "      <td>115.030258</td>\n",
       "      <td>116120400</td>\n",
       "    </tr>\n",
       "    <tr>\n",
       "      <th>2020-10-02</th>\n",
       "      <td>112.889999</td>\n",
       "      <td>115.370003</td>\n",
       "      <td>112.220001</td>\n",
       "      <td>113.019997</td>\n",
       "      <td>111.317055</td>\n",
       "      <td>144712000</td>\n",
       "    </tr>\n",
       "    <tr>\n",
       "      <th>2020-10-05</th>\n",
       "      <td>113.910004</td>\n",
       "      <td>116.650002</td>\n",
       "      <td>113.550003</td>\n",
       "      <td>116.500000</td>\n",
       "      <td>114.744637</td>\n",
       "      <td>106243800</td>\n",
       "    </tr>\n",
       "    <tr>\n",
       "      <th>2020-10-06</th>\n",
       "      <td>115.699997</td>\n",
       "      <td>116.120003</td>\n",
       "      <td>112.250000</td>\n",
       "      <td>113.160004</td>\n",
       "      <td>111.454941</td>\n",
       "      <td>161498200</td>\n",
       "    </tr>\n",
       "    <tr>\n",
       "      <th>2020-10-07</th>\n",
       "      <td>114.620003</td>\n",
       "      <td>115.550003</td>\n",
       "      <td>114.129997</td>\n",
       "      <td>115.080002</td>\n",
       "      <td>113.346016</td>\n",
       "      <td>96849000</td>\n",
       "    </tr>\n",
       "    <tr>\n",
       "      <th>...</th>\n",
       "      <td>...</td>\n",
       "      <td>...</td>\n",
       "      <td>...</td>\n",
       "      <td>...</td>\n",
       "      <td>...</td>\n",
       "      <td>...</td>\n",
       "    </tr>\n",
       "    <tr>\n",
       "      <th>2022-10-03</th>\n",
       "      <td>138.210007</td>\n",
       "      <td>143.070007</td>\n",
       "      <td>137.690002</td>\n",
       "      <td>142.449997</td>\n",
       "      <td>141.997284</td>\n",
       "      <td>114311700</td>\n",
       "    </tr>\n",
       "    <tr>\n",
       "      <th>2022-10-04</th>\n",
       "      <td>145.029999</td>\n",
       "      <td>146.220001</td>\n",
       "      <td>144.259995</td>\n",
       "      <td>146.100006</td>\n",
       "      <td>145.635681</td>\n",
       "      <td>87830100</td>\n",
       "    </tr>\n",
       "    <tr>\n",
       "      <th>2022-10-05</th>\n",
       "      <td>144.070007</td>\n",
       "      <td>147.380005</td>\n",
       "      <td>143.009995</td>\n",
       "      <td>146.399994</td>\n",
       "      <td>145.934723</td>\n",
       "      <td>79471000</td>\n",
       "    </tr>\n",
       "    <tr>\n",
       "      <th>2022-10-06</th>\n",
       "      <td>145.809998</td>\n",
       "      <td>147.539993</td>\n",
       "      <td>145.220001</td>\n",
       "      <td>145.429993</td>\n",
       "      <td>144.967804</td>\n",
       "      <td>68402200</td>\n",
       "    </tr>\n",
       "    <tr>\n",
       "      <th>2022-10-07</th>\n",
       "      <td>142.539993</td>\n",
       "      <td>143.100006</td>\n",
       "      <td>139.449997</td>\n",
       "      <td>140.089996</td>\n",
       "      <td>139.644775</td>\n",
       "      <td>85925600</td>\n",
       "    </tr>\n",
       "  </tbody>\n",
       "</table>\n",
       "<p>509 rows × 6 columns</p>\n",
       "</div>"
      ],
      "text/plain": [
       "                  Open        High         Low       Close   Adj Close  \\\n",
       "Date                                                                     \n",
       "2020-10-01  117.639999  117.720001  115.830002  116.790001  115.030258   \n",
       "2020-10-02  112.889999  115.370003  112.220001  113.019997  111.317055   \n",
       "2020-10-05  113.910004  116.650002  113.550003  116.500000  114.744637   \n",
       "2020-10-06  115.699997  116.120003  112.250000  113.160004  111.454941   \n",
       "2020-10-07  114.620003  115.550003  114.129997  115.080002  113.346016   \n",
       "...                ...         ...         ...         ...         ...   \n",
       "2022-10-03  138.210007  143.070007  137.690002  142.449997  141.997284   \n",
       "2022-10-04  145.029999  146.220001  144.259995  146.100006  145.635681   \n",
       "2022-10-05  144.070007  147.380005  143.009995  146.399994  145.934723   \n",
       "2022-10-06  145.809998  147.539993  145.220001  145.429993  144.967804   \n",
       "2022-10-07  142.539993  143.100006  139.449997  140.089996  139.644775   \n",
       "\n",
       "               Volume  \n",
       "Date                   \n",
       "2020-10-01  116120400  \n",
       "2020-10-02  144712000  \n",
       "2020-10-05  106243800  \n",
       "2020-10-06  161498200  \n",
       "2020-10-07   96849000  \n",
       "...               ...  \n",
       "2022-10-03  114311700  \n",
       "2022-10-04   87830100  \n",
       "2022-10-05   79471000  \n",
       "2022-10-06   68402200  \n",
       "2022-10-07   85925600  \n",
       "\n",
       "[509 rows x 6 columns]"
      ]
     },
     "execution_count": 19,
     "metadata": {},
     "output_type": "execute_result"
    }
   ],
   "source": [
    "# Show AAPL's stock values from 2020-10-01 to 2022-10-07\n",
    "aapl.loc[\"2020-10-01\" : \"2022-10-07\"]"
   ]
  },
  {
   "cell_type": "code",
   "execution_count": 20,
   "id": "ff863a89",
   "metadata": {},
   "outputs": [
    {
     "data": {
      "text/html": [
       "<div>\n",
       "<style scoped>\n",
       "    .dataframe tbody tr th:only-of-type {\n",
       "        vertical-align: middle;\n",
       "    }\n",
       "\n",
       "    .dataframe tbody tr th {\n",
       "        vertical-align: top;\n",
       "    }\n",
       "\n",
       "    .dataframe thead th {\n",
       "        text-align: right;\n",
       "    }\n",
       "</style>\n",
       "<table border=\"1\" class=\"dataframe\">\n",
       "  <thead>\n",
       "    <tr style=\"text-align: right;\">\n",
       "      <th></th>\n",
       "      <th>Open</th>\n",
       "      <th>High</th>\n",
       "      <th>Low</th>\n",
       "      <th>Close</th>\n",
       "      <th>Adj Close</th>\n",
       "      <th>Volume</th>\n",
       "    </tr>\n",
       "    <tr>\n",
       "      <th>Date</th>\n",
       "      <th></th>\n",
       "      <th></th>\n",
       "      <th></th>\n",
       "      <th></th>\n",
       "      <th></th>\n",
       "      <th></th>\n",
       "    </tr>\n",
       "  </thead>\n",
       "  <tbody>\n",
       "    <tr>\n",
       "      <th>2021-03-12</th>\n",
       "      <td>120.400002</td>\n",
       "      <td>121.169998</td>\n",
       "      <td>119.160004</td>\n",
       "      <td>121.029999</td>\n",
       "      <td>119.590462</td>\n",
       "      <td>88105100</td>\n",
       "    </tr>\n",
       "    <tr>\n",
       "      <th>2021-03-15</th>\n",
       "      <td>121.410004</td>\n",
       "      <td>124.000000</td>\n",
       "      <td>120.419998</td>\n",
       "      <td>123.989998</td>\n",
       "      <td>122.515244</td>\n",
       "      <td>92403800</td>\n",
       "    </tr>\n",
       "    <tr>\n",
       "      <th>2021-03-16</th>\n",
       "      <td>125.699997</td>\n",
       "      <td>127.220001</td>\n",
       "      <td>124.720001</td>\n",
       "      <td>125.570000</td>\n",
       "      <td>124.076462</td>\n",
       "      <td>115227900</td>\n",
       "    </tr>\n",
       "    <tr>\n",
       "      <th>2021-03-17</th>\n",
       "      <td>124.050003</td>\n",
       "      <td>125.860001</td>\n",
       "      <td>122.339996</td>\n",
       "      <td>124.760002</td>\n",
       "      <td>123.276108</td>\n",
       "      <td>111932600</td>\n",
       "    </tr>\n",
       "    <tr>\n",
       "      <th>2021-03-18</th>\n",
       "      <td>122.879997</td>\n",
       "      <td>123.180000</td>\n",
       "      <td>120.320000</td>\n",
       "      <td>120.529999</td>\n",
       "      <td>119.096413</td>\n",
       "      <td>121229700</td>\n",
       "    </tr>\n",
       "    <tr>\n",
       "      <th>...</th>\n",
       "      <td>...</td>\n",
       "      <td>...</td>\n",
       "      <td>...</td>\n",
       "      <td>...</td>\n",
       "      <td>...</td>\n",
       "      <td>...</td>\n",
       "    </tr>\n",
       "    <tr>\n",
       "      <th>2021-08-25</th>\n",
       "      <td>149.809998</td>\n",
       "      <td>150.320007</td>\n",
       "      <td>147.800003</td>\n",
       "      <td>148.360001</td>\n",
       "      <td>147.064407</td>\n",
       "      <td>58991300</td>\n",
       "    </tr>\n",
       "    <tr>\n",
       "      <th>2021-08-26</th>\n",
       "      <td>148.350006</td>\n",
       "      <td>149.119995</td>\n",
       "      <td>147.509995</td>\n",
       "      <td>147.539993</td>\n",
       "      <td>146.251556</td>\n",
       "      <td>48597200</td>\n",
       "    </tr>\n",
       "    <tr>\n",
       "      <th>2021-08-27</th>\n",
       "      <td>147.479996</td>\n",
       "      <td>148.750000</td>\n",
       "      <td>146.830002</td>\n",
       "      <td>148.600006</td>\n",
       "      <td>147.302307</td>\n",
       "      <td>55802400</td>\n",
       "    </tr>\n",
       "    <tr>\n",
       "      <th>2021-08-30</th>\n",
       "      <td>149.000000</td>\n",
       "      <td>153.490005</td>\n",
       "      <td>148.610001</td>\n",
       "      <td>153.119995</td>\n",
       "      <td>151.782852</td>\n",
       "      <td>90956700</td>\n",
       "    </tr>\n",
       "    <tr>\n",
       "      <th>2021-08-31</th>\n",
       "      <td>152.660004</td>\n",
       "      <td>152.800003</td>\n",
       "      <td>151.289993</td>\n",
       "      <td>151.830002</td>\n",
       "      <td>150.504135</td>\n",
       "      <td>86453100</td>\n",
       "    </tr>\n",
       "  </tbody>\n",
       "</table>\n",
       "<p>120 rows × 6 columns</p>\n",
       "</div>"
      ],
      "text/plain": [
       "                  Open        High         Low       Close   Adj Close  \\\n",
       "Date                                                                     \n",
       "2021-03-12  120.400002  121.169998  119.160004  121.029999  119.590462   \n",
       "2021-03-15  121.410004  124.000000  120.419998  123.989998  122.515244   \n",
       "2021-03-16  125.699997  127.220001  124.720001  125.570000  124.076462   \n",
       "2021-03-17  124.050003  125.860001  122.339996  124.760002  123.276108   \n",
       "2021-03-18  122.879997  123.180000  120.320000  120.529999  119.096413   \n",
       "...                ...         ...         ...         ...         ...   \n",
       "2021-08-25  149.809998  150.320007  147.800003  148.360001  147.064407   \n",
       "2021-08-26  148.350006  149.119995  147.509995  147.539993  146.251556   \n",
       "2021-08-27  147.479996  148.750000  146.830002  148.600006  147.302307   \n",
       "2021-08-30  149.000000  153.490005  148.610001  153.119995  151.782852   \n",
       "2021-08-31  152.660004  152.800003  151.289993  151.830002  150.504135   \n",
       "\n",
       "               Volume  \n",
       "Date                   \n",
       "2021-03-12   88105100  \n",
       "2021-03-15   92403800  \n",
       "2021-03-16  115227900  \n",
       "2021-03-17  111932600  \n",
       "2021-03-18  121229700  \n",
       "...               ...  \n",
       "2021-08-25   58991300  \n",
       "2021-08-26   48597200  \n",
       "2021-08-27   55802400  \n",
       "2021-08-30   90956700  \n",
       "2021-08-31   86453100  \n",
       "\n",
       "[120 rows x 6 columns]"
      ]
     },
     "execution_count": 20,
     "metadata": {},
     "output_type": "execute_result"
    }
   ],
   "source": [
    "# # Show AAPL's stock values for index with position 300 to 420\n",
    "aapl.iloc[300:420]"
   ]
  },
  {
   "cell_type": "code",
   "execution_count": 21,
   "id": "d35b8ef4",
   "metadata": {},
   "outputs": [
    {
     "data": {
      "text/html": [
       "<div>\n",
       "<style scoped>\n",
       "    .dataframe tbody tr th:only-of-type {\n",
       "        vertical-align: middle;\n",
       "    }\n",
       "\n",
       "    .dataframe tbody tr th {\n",
       "        vertical-align: top;\n",
       "    }\n",
       "\n",
       "    .dataframe thead th {\n",
       "        text-align: right;\n",
       "    }\n",
       "</style>\n",
       "<table border=\"1\" class=\"dataframe\">\n",
       "  <thead>\n",
       "    <tr style=\"text-align: right;\">\n",
       "      <th></th>\n",
       "      <th>Open</th>\n",
       "      <th>High</th>\n",
       "      <th>Low</th>\n",
       "      <th>Close</th>\n",
       "      <th>Adj Close</th>\n",
       "      <th>Volume</th>\n",
       "    </tr>\n",
       "    <tr>\n",
       "      <th>Date</th>\n",
       "      <th></th>\n",
       "      <th></th>\n",
       "      <th></th>\n",
       "      <th></th>\n",
       "      <th></th>\n",
       "      <th></th>\n",
       "    </tr>\n",
       "  </thead>\n",
       "  <tbody>\n",
       "    <tr>\n",
       "      <th>2020-01-02</th>\n",
       "      <td>74.059998</td>\n",
       "      <td>75.150002</td>\n",
       "      <td>73.797501</td>\n",
       "      <td>75.087502</td>\n",
       "      <td>73.449379</td>\n",
       "      <td>135480400</td>\n",
       "    </tr>\n",
       "    <tr>\n",
       "      <th>2020-01-03</th>\n",
       "      <td>74.287498</td>\n",
       "      <td>75.144997</td>\n",
       "      <td>74.125000</td>\n",
       "      <td>74.357498</td>\n",
       "      <td>72.735321</td>\n",
       "      <td>146322800</td>\n",
       "    </tr>\n",
       "    <tr>\n",
       "      <th>2020-01-06</th>\n",
       "      <td>73.447502</td>\n",
       "      <td>74.989998</td>\n",
       "      <td>73.187500</td>\n",
       "      <td>74.949997</td>\n",
       "      <td>73.314880</td>\n",
       "      <td>118387200</td>\n",
       "    </tr>\n",
       "    <tr>\n",
       "      <th>2020-01-07</th>\n",
       "      <td>74.959999</td>\n",
       "      <td>75.224998</td>\n",
       "      <td>74.370003</td>\n",
       "      <td>74.597504</td>\n",
       "      <td>72.970093</td>\n",
       "      <td>108872000</td>\n",
       "    </tr>\n",
       "    <tr>\n",
       "      <th>2020-01-08</th>\n",
       "      <td>74.290001</td>\n",
       "      <td>76.110001</td>\n",
       "      <td>74.290001</td>\n",
       "      <td>75.797501</td>\n",
       "      <td>74.143898</td>\n",
       "      <td>132079200</td>\n",
       "    </tr>\n",
       "  </tbody>\n",
       "</table>\n",
       "</div>"
      ],
      "text/plain": [
       "                 Open       High        Low      Close  Adj Close     Volume\n",
       "Date                                                                        \n",
       "2020-01-02  74.059998  75.150002  73.797501  75.087502  73.449379  135480400\n",
       "2020-01-03  74.287498  75.144997  74.125000  74.357498  72.735321  146322800\n",
       "2020-01-06  73.447502  74.989998  73.187500  74.949997  73.314880  118387200\n",
       "2020-01-07  74.959999  75.224998  74.370003  74.597504  72.970093  108872000\n",
       "2020-01-08  74.290001  76.110001  74.290001  75.797501  74.143898  132079200"
      ]
     },
     "execution_count": 21,
     "metadata": {},
     "output_type": "execute_result"
    }
   ],
   "source": [
    "aapl.head()"
   ]
  },
  {
   "cell_type": "markdown",
   "id": "8d671d60",
   "metadata": {},
   "source": [
    "#### Retrieving stock values for AAPL (Apple) from 2023-01-23 to 2023-02-21"
   ]
  },
  {
   "cell_type": "code",
   "execution_count": 22,
   "id": "b1f15433",
   "metadata": {},
   "outputs": [],
   "source": [
    "import yfinance as yf\n",
    "import pandas as pd\n",
    "import json"
   ]
  },
  {
   "cell_type": "code",
   "execution_count": 23,
   "id": "8c6c750f",
   "metadata": {},
   "outputs": [],
   "source": [
    "\n",
    "aapl_ticker = yf.Ticker(\"AAPL\")"
   ]
  },
  {
   "cell_type": "code",
   "execution_count": 24,
   "id": "42955865",
   "metadata": {},
   "outputs": [
    {
     "data": {
      "text/html": [
       "<div>\n",
       "<style scoped>\n",
       "    .dataframe tbody tr th:only-of-type {\n",
       "        vertical-align: middle;\n",
       "    }\n",
       "\n",
       "    .dataframe tbody tr th {\n",
       "        vertical-align: top;\n",
       "    }\n",
       "\n",
       "    .dataframe thead th {\n",
       "        text-align: right;\n",
       "    }\n",
       "</style>\n",
       "<table border=\"1\" class=\"dataframe\">\n",
       "  <thead>\n",
       "    <tr style=\"text-align: right;\">\n",
       "      <th></th>\n",
       "      <th>Open</th>\n",
       "      <th>High</th>\n",
       "      <th>Low</th>\n",
       "      <th>Close</th>\n",
       "      <th>Volume</th>\n",
       "      <th>Dividends</th>\n",
       "      <th>Stock Splits</th>\n",
       "    </tr>\n",
       "    <tr>\n",
       "      <th>Date</th>\n",
       "      <th></th>\n",
       "      <th></th>\n",
       "      <th></th>\n",
       "      <th></th>\n",
       "      <th></th>\n",
       "      <th></th>\n",
       "      <th></th>\n",
       "    </tr>\n",
       "  </thead>\n",
       "  <tbody>\n",
       "    <tr>\n",
       "      <th>2023-01-23 00:00:00-05:00</th>\n",
       "      <td>137.909435</td>\n",
       "      <td>143.101520</td>\n",
       "      <td>137.689769</td>\n",
       "      <td>140.894882</td>\n",
       "      <td>81760300</td>\n",
       "      <td>0.00</td>\n",
       "      <td>0.0</td>\n",
       "    </tr>\n",
       "    <tr>\n",
       "      <th>2023-01-24 00:00:00-05:00</th>\n",
       "      <td>140.096097</td>\n",
       "      <td>142.941758</td>\n",
       "      <td>140.086117</td>\n",
       "      <td>142.312714</td>\n",
       "      <td>66435100</td>\n",
       "      <td>0.00</td>\n",
       "      <td>0.0</td>\n",
       "    </tr>\n",
       "    <tr>\n",
       "      <th>2023-01-25 00:00:00-05:00</th>\n",
       "      <td>140.675215</td>\n",
       "      <td>142.212861</td>\n",
       "      <td>138.598384</td>\n",
       "      <td>141.643738</td>\n",
       "      <td>65799300</td>\n",
       "      <td>0.00</td>\n",
       "      <td>0.0</td>\n",
       "    </tr>\n",
       "    <tr>\n",
       "      <th>2023-01-26 00:00:00-05:00</th>\n",
       "      <td>142.951735</td>\n",
       "      <td>144.030091</td>\n",
       "      <td>141.683667</td>\n",
       "      <td>143.740540</td>\n",
       "      <td>54105100</td>\n",
       "      <td>0.00</td>\n",
       "      <td>0.0</td>\n",
       "    </tr>\n",
       "    <tr>\n",
       "      <th>2023-01-27 00:00:00-05:00</th>\n",
       "      <td>142.941753</td>\n",
       "      <td>147.005541</td>\n",
       "      <td>142.861874</td>\n",
       "      <td>145.707520</td>\n",
       "      <td>70492800</td>\n",
       "      <td>0.00</td>\n",
       "      <td>0.0</td>\n",
       "    </tr>\n",
       "    <tr>\n",
       "      <th>2023-01-30 00:00:00-05:00</th>\n",
       "      <td>144.739016</td>\n",
       "      <td>145.328113</td>\n",
       "      <td>142.632232</td>\n",
       "      <td>142.781998</td>\n",
       "      <td>64015300</td>\n",
       "      <td>0.00</td>\n",
       "      <td>0.0</td>\n",
       "    </tr>\n",
       "    <tr>\n",
       "      <th>2023-01-31 00:00:00-05:00</th>\n",
       "      <td>142.482450</td>\n",
       "      <td>144.119949</td>\n",
       "      <td>142.063092</td>\n",
       "      <td>144.070023</td>\n",
       "      <td>65874500</td>\n",
       "      <td>0.00</td>\n",
       "      <td>0.0</td>\n",
       "    </tr>\n",
       "    <tr>\n",
       "      <th>2023-02-01 00:00:00-05:00</th>\n",
       "      <td>143.750517</td>\n",
       "      <td>146.386491</td>\n",
       "      <td>141.104563</td>\n",
       "      <td>145.208282</td>\n",
       "      <td>77663600</td>\n",
       "      <td>0.00</td>\n",
       "      <td>0.0</td>\n",
       "    </tr>\n",
       "    <tr>\n",
       "      <th>2023-02-02 00:00:00-05:00</th>\n",
       "      <td>148.673001</td>\n",
       "      <td>150.949524</td>\n",
       "      <td>147.944119</td>\n",
       "      <td>150.590088</td>\n",
       "      <td>118339000</td>\n",
       "      <td>0.00</td>\n",
       "      <td>0.0</td>\n",
       "    </tr>\n",
       "    <tr>\n",
       "      <th>2023-02-03 00:00:00-05:00</th>\n",
       "      <td>147.804328</td>\n",
       "      <td>157.140080</td>\n",
       "      <td>147.604636</td>\n",
       "      <td>154.264465</td>\n",
       "      <td>154279900</td>\n",
       "      <td>0.00</td>\n",
       "      <td>0.0</td>\n",
       "    </tr>\n",
       "    <tr>\n",
       "      <th>2023-02-06 00:00:00-05:00</th>\n",
       "      <td>152.337419</td>\n",
       "      <td>152.866610</td>\n",
       "      <td>150.550139</td>\n",
       "      <td>151.498688</td>\n",
       "      <td>69858300</td>\n",
       "      <td>0.00</td>\n",
       "      <td>0.0</td>\n",
       "    </tr>\n",
       "    <tr>\n",
       "      <th>2023-02-07 00:00:00-05:00</th>\n",
       "      <td>150.410349</td>\n",
       "      <td>154.993348</td>\n",
       "      <td>150.410349</td>\n",
       "      <td>154.414230</td>\n",
       "      <td>83322600</td>\n",
       "      <td>0.00</td>\n",
       "      <td>0.0</td>\n",
       "    </tr>\n",
       "    <tr>\n",
       "      <th>2023-02-08 00:00:00-05:00</th>\n",
       "      <td>153.645419</td>\n",
       "      <td>154.344349</td>\n",
       "      <td>150.939544</td>\n",
       "      <td>151.688400</td>\n",
       "      <td>64120100</td>\n",
       "      <td>0.00</td>\n",
       "      <td>0.0</td>\n",
       "    </tr>\n",
       "    <tr>\n",
       "      <th>2023-02-09 00:00:00-05:00</th>\n",
       "      <td>153.545567</td>\n",
       "      <td>154.094731</td>\n",
       "      <td>150.190688</td>\n",
       "      <td>150.639999</td>\n",
       "      <td>56007100</td>\n",
       "      <td>0.00</td>\n",
       "      <td>0.0</td>\n",
       "    </tr>\n",
       "    <tr>\n",
       "      <th>2023-02-10 00:00:00-05:00</th>\n",
       "      <td>149.460007</td>\n",
       "      <td>151.339996</td>\n",
       "      <td>149.220001</td>\n",
       "      <td>151.009995</td>\n",
       "      <td>57409100</td>\n",
       "      <td>0.23</td>\n",
       "      <td>0.0</td>\n",
       "    </tr>\n",
       "    <tr>\n",
       "      <th>2023-02-13 00:00:00-05:00</th>\n",
       "      <td>150.949997</td>\n",
       "      <td>154.259995</td>\n",
       "      <td>150.919998</td>\n",
       "      <td>153.850006</td>\n",
       "      <td>62199000</td>\n",
       "      <td>0.00</td>\n",
       "      <td>0.0</td>\n",
       "    </tr>\n",
       "    <tr>\n",
       "      <th>2023-02-14 00:00:00-05:00</th>\n",
       "      <td>152.119995</td>\n",
       "      <td>153.770004</td>\n",
       "      <td>150.860001</td>\n",
       "      <td>153.199997</td>\n",
       "      <td>61707600</td>\n",
       "      <td>0.00</td>\n",
       "      <td>0.0</td>\n",
       "    </tr>\n",
       "    <tr>\n",
       "      <th>2023-02-15 00:00:00-05:00</th>\n",
       "      <td>153.110001</td>\n",
       "      <td>155.500000</td>\n",
       "      <td>152.880005</td>\n",
       "      <td>155.330002</td>\n",
       "      <td>65669300</td>\n",
       "      <td>0.00</td>\n",
       "      <td>0.0</td>\n",
       "    </tr>\n",
       "    <tr>\n",
       "      <th>2023-02-16 00:00:00-05:00</th>\n",
       "      <td>153.509995</td>\n",
       "      <td>156.330002</td>\n",
       "      <td>153.350006</td>\n",
       "      <td>153.710007</td>\n",
       "      <td>68167900</td>\n",
       "      <td>0.00</td>\n",
       "      <td>0.0</td>\n",
       "    </tr>\n",
       "    <tr>\n",
       "      <th>2023-02-17 00:00:00-05:00</th>\n",
       "      <td>152.350006</td>\n",
       "      <td>153.000000</td>\n",
       "      <td>150.850006</td>\n",
       "      <td>152.550003</td>\n",
       "      <td>59095900</td>\n",
       "      <td>0.00</td>\n",
       "      <td>0.0</td>\n",
       "    </tr>\n",
       "    <tr>\n",
       "      <th>2023-02-21 00:00:00-05:00</th>\n",
       "      <td>150.199997</td>\n",
       "      <td>151.300003</td>\n",
       "      <td>148.410004</td>\n",
       "      <td>148.479996</td>\n",
       "      <td>58772400</td>\n",
       "      <td>0.00</td>\n",
       "      <td>0.0</td>\n",
       "    </tr>\n",
       "    <tr>\n",
       "      <th>2023-02-22 00:00:00-05:00</th>\n",
       "      <td>148.869995</td>\n",
       "      <td>149.500000</td>\n",
       "      <td>147.160004</td>\n",
       "      <td>148.529999</td>\n",
       "      <td>21263999</td>\n",
       "      <td>0.00</td>\n",
       "      <td>0.0</td>\n",
       "    </tr>\n",
       "  </tbody>\n",
       "</table>\n",
       "</div>"
      ],
      "text/plain": [
       "                                 Open        High         Low       Close  \\\n",
       "Date                                                                        \n",
       "2023-01-23 00:00:00-05:00  137.909435  143.101520  137.689769  140.894882   \n",
       "2023-01-24 00:00:00-05:00  140.096097  142.941758  140.086117  142.312714   \n",
       "2023-01-25 00:00:00-05:00  140.675215  142.212861  138.598384  141.643738   \n",
       "2023-01-26 00:00:00-05:00  142.951735  144.030091  141.683667  143.740540   \n",
       "2023-01-27 00:00:00-05:00  142.941753  147.005541  142.861874  145.707520   \n",
       "2023-01-30 00:00:00-05:00  144.739016  145.328113  142.632232  142.781998   \n",
       "2023-01-31 00:00:00-05:00  142.482450  144.119949  142.063092  144.070023   \n",
       "2023-02-01 00:00:00-05:00  143.750517  146.386491  141.104563  145.208282   \n",
       "2023-02-02 00:00:00-05:00  148.673001  150.949524  147.944119  150.590088   \n",
       "2023-02-03 00:00:00-05:00  147.804328  157.140080  147.604636  154.264465   \n",
       "2023-02-06 00:00:00-05:00  152.337419  152.866610  150.550139  151.498688   \n",
       "2023-02-07 00:00:00-05:00  150.410349  154.993348  150.410349  154.414230   \n",
       "2023-02-08 00:00:00-05:00  153.645419  154.344349  150.939544  151.688400   \n",
       "2023-02-09 00:00:00-05:00  153.545567  154.094731  150.190688  150.639999   \n",
       "2023-02-10 00:00:00-05:00  149.460007  151.339996  149.220001  151.009995   \n",
       "2023-02-13 00:00:00-05:00  150.949997  154.259995  150.919998  153.850006   \n",
       "2023-02-14 00:00:00-05:00  152.119995  153.770004  150.860001  153.199997   \n",
       "2023-02-15 00:00:00-05:00  153.110001  155.500000  152.880005  155.330002   \n",
       "2023-02-16 00:00:00-05:00  153.509995  156.330002  153.350006  153.710007   \n",
       "2023-02-17 00:00:00-05:00  152.350006  153.000000  150.850006  152.550003   \n",
       "2023-02-21 00:00:00-05:00  150.199997  151.300003  148.410004  148.479996   \n",
       "2023-02-22 00:00:00-05:00  148.869995  149.500000  147.160004  148.529999   \n",
       "\n",
       "                              Volume  Dividends  Stock Splits  \n",
       "Date                                                           \n",
       "2023-01-23 00:00:00-05:00   81760300       0.00           0.0  \n",
       "2023-01-24 00:00:00-05:00   66435100       0.00           0.0  \n",
       "2023-01-25 00:00:00-05:00   65799300       0.00           0.0  \n",
       "2023-01-26 00:00:00-05:00   54105100       0.00           0.0  \n",
       "2023-01-27 00:00:00-05:00   70492800       0.00           0.0  \n",
       "2023-01-30 00:00:00-05:00   64015300       0.00           0.0  \n",
       "2023-01-31 00:00:00-05:00   65874500       0.00           0.0  \n",
       "2023-02-01 00:00:00-05:00   77663600       0.00           0.0  \n",
       "2023-02-02 00:00:00-05:00  118339000       0.00           0.0  \n",
       "2023-02-03 00:00:00-05:00  154279900       0.00           0.0  \n",
       "2023-02-06 00:00:00-05:00   69858300       0.00           0.0  \n",
       "2023-02-07 00:00:00-05:00   83322600       0.00           0.0  \n",
       "2023-02-08 00:00:00-05:00   64120100       0.00           0.0  \n",
       "2023-02-09 00:00:00-05:00   56007100       0.00           0.0  \n",
       "2023-02-10 00:00:00-05:00   57409100       0.23           0.0  \n",
       "2023-02-13 00:00:00-05:00   62199000       0.00           0.0  \n",
       "2023-02-14 00:00:00-05:00   61707600       0.00           0.0  \n",
       "2023-02-15 00:00:00-05:00   65669300       0.00           0.0  \n",
       "2023-02-16 00:00:00-05:00   68167900       0.00           0.0  \n",
       "2023-02-17 00:00:00-05:00   59095900       0.00           0.0  \n",
       "2023-02-21 00:00:00-05:00   58772400       0.00           0.0  \n",
       "2023-02-22 00:00:00-05:00   21263999       0.00           0.0  "
      ]
     },
     "execution_count": 24,
     "metadata": {},
     "output_type": "execute_result"
    }
   ],
   "source": [
    "aapl_ticker.history(period=\"1mo\")"
   ]
  },
  {
   "cell_type": "markdown",
   "id": "f115036e",
   "metadata": {},
   "source": [
    "## `Timestamp` Object Attributes"
   ]
  },
  {
   "cell_type": "code",
   "execution_count": 25,
   "id": "3ddd588a",
   "metadata": {},
   "outputs": [
    {
     "data": {
      "text/html": [
       "<div>\n",
       "<style scoped>\n",
       "    .dataframe tbody tr th:only-of-type {\n",
       "        vertical-align: middle;\n",
       "    }\n",
       "\n",
       "    .dataframe tbody tr th {\n",
       "        vertical-align: top;\n",
       "    }\n",
       "\n",
       "    .dataframe thead th {\n",
       "        text-align: right;\n",
       "    }\n",
       "</style>\n",
       "<table border=\"1\" class=\"dataframe\">\n",
       "  <thead>\n",
       "    <tr style=\"text-align: right;\">\n",
       "      <th></th>\n",
       "      <th>Open</th>\n",
       "      <th>High</th>\n",
       "      <th>Low</th>\n",
       "      <th>Close</th>\n",
       "      <th>Adj Close</th>\n",
       "      <th>Volume</th>\n",
       "    </tr>\n",
       "    <tr>\n",
       "      <th>Date</th>\n",
       "      <th></th>\n",
       "      <th></th>\n",
       "      <th></th>\n",
       "      <th></th>\n",
       "      <th></th>\n",
       "      <th></th>\n",
       "    </tr>\n",
       "  </thead>\n",
       "  <tbody>\n",
       "    <tr>\n",
       "      <th>2020-01-02</th>\n",
       "      <td>74.059998</td>\n",
       "      <td>75.150002</td>\n",
       "      <td>73.797501</td>\n",
       "      <td>75.087502</td>\n",
       "      <td>73.449379</td>\n",
       "      <td>135480400</td>\n",
       "    </tr>\n",
       "    <tr>\n",
       "      <th>2020-01-03</th>\n",
       "      <td>74.287498</td>\n",
       "      <td>75.144997</td>\n",
       "      <td>74.125000</td>\n",
       "      <td>74.357498</td>\n",
       "      <td>72.735321</td>\n",
       "      <td>146322800</td>\n",
       "    </tr>\n",
       "    <tr>\n",
       "      <th>2020-01-06</th>\n",
       "      <td>73.447502</td>\n",
       "      <td>74.989998</td>\n",
       "      <td>73.187500</td>\n",
       "      <td>74.949997</td>\n",
       "      <td>73.314880</td>\n",
       "      <td>118387200</td>\n",
       "    </tr>\n",
       "    <tr>\n",
       "      <th>2020-01-07</th>\n",
       "      <td>74.959999</td>\n",
       "      <td>75.224998</td>\n",
       "      <td>74.370003</td>\n",
       "      <td>74.597504</td>\n",
       "      <td>72.970093</td>\n",
       "      <td>108872000</td>\n",
       "    </tr>\n",
       "    <tr>\n",
       "      <th>2020-01-08</th>\n",
       "      <td>74.290001</td>\n",
       "      <td>76.110001</td>\n",
       "      <td>74.290001</td>\n",
       "      <td>75.797501</td>\n",
       "      <td>74.143898</td>\n",
       "      <td>132079200</td>\n",
       "    </tr>\n",
       "    <tr>\n",
       "      <th>...</th>\n",
       "      <td>...</td>\n",
       "      <td>...</td>\n",
       "      <td>...</td>\n",
       "      <td>...</td>\n",
       "      <td>...</td>\n",
       "      <td>...</td>\n",
       "    </tr>\n",
       "    <tr>\n",
       "      <th>2023-02-10</th>\n",
       "      <td>149.460007</td>\n",
       "      <td>151.339996</td>\n",
       "      <td>149.220001</td>\n",
       "      <td>151.009995</td>\n",
       "      <td>151.009995</td>\n",
       "      <td>57409100</td>\n",
       "    </tr>\n",
       "    <tr>\n",
       "      <th>2023-02-13</th>\n",
       "      <td>150.949997</td>\n",
       "      <td>154.259995</td>\n",
       "      <td>150.919998</td>\n",
       "      <td>153.850006</td>\n",
       "      <td>153.850006</td>\n",
       "      <td>62199000</td>\n",
       "    </tr>\n",
       "    <tr>\n",
       "      <th>2023-02-14</th>\n",
       "      <td>152.119995</td>\n",
       "      <td>153.770004</td>\n",
       "      <td>150.860001</td>\n",
       "      <td>153.199997</td>\n",
       "      <td>153.199997</td>\n",
       "      <td>61707600</td>\n",
       "    </tr>\n",
       "    <tr>\n",
       "      <th>2023-02-15</th>\n",
       "      <td>153.110001</td>\n",
       "      <td>155.500000</td>\n",
       "      <td>152.880005</td>\n",
       "      <td>155.330002</td>\n",
       "      <td>155.330002</td>\n",
       "      <td>65669300</td>\n",
       "    </tr>\n",
       "    <tr>\n",
       "      <th>2023-02-16</th>\n",
       "      <td>153.509995</td>\n",
       "      <td>156.330002</td>\n",
       "      <td>153.350006</td>\n",
       "      <td>153.710007</td>\n",
       "      <td>153.710007</td>\n",
       "      <td>68167900</td>\n",
       "    </tr>\n",
       "  </tbody>\n",
       "</table>\n",
       "<p>788 rows × 6 columns</p>\n",
       "</div>"
      ],
      "text/plain": [
       "                  Open        High         Low       Close   Adj Close  \\\n",
       "Date                                                                     \n",
       "2020-01-02   74.059998   75.150002   73.797501   75.087502   73.449379   \n",
       "2020-01-03   74.287498   75.144997   74.125000   74.357498   72.735321   \n",
       "2020-01-06   73.447502   74.989998   73.187500   74.949997   73.314880   \n",
       "2020-01-07   74.959999   75.224998   74.370003   74.597504   72.970093   \n",
       "2020-01-08   74.290001   76.110001   74.290001   75.797501   74.143898   \n",
       "...                ...         ...         ...         ...         ...   \n",
       "2023-02-10  149.460007  151.339996  149.220001  151.009995  151.009995   \n",
       "2023-02-13  150.949997  154.259995  150.919998  153.850006  153.850006   \n",
       "2023-02-14  152.119995  153.770004  150.860001  153.199997  153.199997   \n",
       "2023-02-15  153.110001  155.500000  152.880005  155.330002  155.330002   \n",
       "2023-02-16  153.509995  156.330002  153.350006  153.710007  153.710007   \n",
       "\n",
       "               Volume  \n",
       "Date                   \n",
       "2020-01-02  135480400  \n",
       "2020-01-03  146322800  \n",
       "2020-01-06  118387200  \n",
       "2020-01-07  108872000  \n",
       "2020-01-08  132079200  \n",
       "...               ...  \n",
       "2023-02-10   57409100  \n",
       "2023-02-13   62199000  \n",
       "2023-02-14   61707600  \n",
       "2023-02-15   65669300  \n",
       "2023-02-16   68167900  \n",
       "\n",
       "[788 rows x 6 columns]"
      ]
     },
     "execution_count": 25,
     "metadata": {},
     "output_type": "execute_result"
    }
   ],
   "source": [
    "aapl"
   ]
  },
  {
   "cell_type": "code",
   "execution_count": 26,
   "id": "b999555c",
   "metadata": {},
   "outputs": [
    {
     "data": {
      "text/plain": [
       "Timestamp('2023-01-31 00:00:00')"
      ]
     },
     "execution_count": 26,
     "metadata": {},
     "output_type": "execute_result"
    }
   ],
   "source": [
    "someday = aapl.index[775]\n",
    "someday"
   ]
  },
  {
   "cell_type": "code",
   "execution_count": 27,
   "id": "92a2f787",
   "metadata": {},
   "outputs": [
    {
     "data": {
      "text/plain": [
       "Timestamp('2023-01-31 00:00:00')"
      ]
     },
     "execution_count": 27,
     "metadata": {},
     "output_type": "execute_result"
    }
   ],
   "source": [
    "someday"
   ]
  },
  {
   "cell_type": "code",
   "execution_count": 28,
   "id": "e5a3315d",
   "metadata": {},
   "outputs": [
    {
     "name": "stdout",
     "output_type": "stream",
     "text": [
      "someday.day:  31\n",
      "someday.month:  1\n",
      "someday.year:  2023\n",
      "someday.day_name:  Tuesday\n",
      "someday.is_month_end:  True\n",
      "someday.is_month_start:  False\n"
     ]
    }
   ],
   "source": [
    "print('someday.day: ', someday.day)\n",
    "print('someday.month: ', someday.month)\n",
    "print('someday.year: ', someday.year)\n",
    "print('someday.day_name: ', someday.day_name())\n",
    "print('someday.is_month_end: ', someday.is_month_end)\n",
    "print('someday.is_month_start: ', someday.is_month_start)"
   ]
  },
  {
   "cell_type": "code",
   "execution_count": 29,
   "id": "2ecbb176",
   "metadata": {},
   "outputs": [
    {
     "data": {
      "text/html": [
       "<div>\n",
       "<style scoped>\n",
       "    .dataframe tbody tr th:only-of-type {\n",
       "        vertical-align: middle;\n",
       "    }\n",
       "\n",
       "    .dataframe tbody tr th {\n",
       "        vertical-align: top;\n",
       "    }\n",
       "\n",
       "    .dataframe thead th {\n",
       "        text-align: right;\n",
       "    }\n",
       "</style>\n",
       "<table border=\"1\" class=\"dataframe\">\n",
       "  <thead>\n",
       "    <tr style=\"text-align: right;\">\n",
       "      <th></th>\n",
       "      <th>Open</th>\n",
       "      <th>High</th>\n",
       "      <th>Low</th>\n",
       "      <th>Close</th>\n",
       "      <th>Adj Close</th>\n",
       "      <th>Volume</th>\n",
       "    </tr>\n",
       "    <tr>\n",
       "      <th>Date</th>\n",
       "      <th></th>\n",
       "      <th></th>\n",
       "      <th></th>\n",
       "      <th></th>\n",
       "      <th></th>\n",
       "      <th></th>\n",
       "    </tr>\n",
       "  </thead>\n",
       "  <tbody>\n",
       "    <tr>\n",
       "      <th>2020-01-02</th>\n",
       "      <td>74.059998</td>\n",
       "      <td>75.150002</td>\n",
       "      <td>73.797501</td>\n",
       "      <td>75.087502</td>\n",
       "      <td>73.449379</td>\n",
       "      <td>135480400</td>\n",
       "    </tr>\n",
       "    <tr>\n",
       "      <th>2020-01-03</th>\n",
       "      <td>74.287498</td>\n",
       "      <td>75.144997</td>\n",
       "      <td>74.125000</td>\n",
       "      <td>74.357498</td>\n",
       "      <td>72.735321</td>\n",
       "      <td>146322800</td>\n",
       "    </tr>\n",
       "    <tr>\n",
       "      <th>2020-01-06</th>\n",
       "      <td>73.447502</td>\n",
       "      <td>74.989998</td>\n",
       "      <td>73.187500</td>\n",
       "      <td>74.949997</td>\n",
       "      <td>73.314880</td>\n",
       "      <td>118387200</td>\n",
       "    </tr>\n",
       "    <tr>\n",
       "      <th>2020-01-07</th>\n",
       "      <td>74.959999</td>\n",
       "      <td>75.224998</td>\n",
       "      <td>74.370003</td>\n",
       "      <td>74.597504</td>\n",
       "      <td>72.970093</td>\n",
       "      <td>108872000</td>\n",
       "    </tr>\n",
       "    <tr>\n",
       "      <th>2020-01-08</th>\n",
       "      <td>74.290001</td>\n",
       "      <td>76.110001</td>\n",
       "      <td>74.290001</td>\n",
       "      <td>75.797501</td>\n",
       "      <td>74.143898</td>\n",
       "      <td>132079200</td>\n",
       "    </tr>\n",
       "  </tbody>\n",
       "</table>\n",
       "</div>"
      ],
      "text/plain": [
       "                 Open       High        Low      Close  Adj Close     Volume\n",
       "Date                                                                        \n",
       "2020-01-02  74.059998  75.150002  73.797501  75.087502  73.449379  135480400\n",
       "2020-01-03  74.287498  75.144997  74.125000  74.357498  72.735321  146322800\n",
       "2020-01-06  73.447502  74.989998  73.187500  74.949997  73.314880  118387200\n",
       "2020-01-07  74.959999  75.224998  74.370003  74.597504  72.970093  108872000\n",
       "2020-01-08  74.290001  76.110001  74.290001  75.797501  74.143898  132079200"
      ]
     },
     "execution_count": 29,
     "metadata": {},
     "output_type": "execute_result"
    }
   ],
   "source": [
    "aapl_bkp = aapl.copy()\n",
    "aapl_bkp.head()"
   ]
  },
  {
   "cell_type": "code",
   "execution_count": 30,
   "id": "dd838bf6",
   "metadata": {},
   "outputs": [
    {
     "data": {
      "text/html": [
       "<div>\n",
       "<style scoped>\n",
       "    .dataframe tbody tr th:only-of-type {\n",
       "        vertical-align: middle;\n",
       "    }\n",
       "\n",
       "    .dataframe tbody tr th {\n",
       "        vertical-align: top;\n",
       "    }\n",
       "\n",
       "    .dataframe thead th {\n",
       "        text-align: right;\n",
       "    }\n",
       "</style>\n",
       "<table border=\"1\" class=\"dataframe\">\n",
       "  <thead>\n",
       "    <tr style=\"text-align: right;\">\n",
       "      <th></th>\n",
       "      <th>Open</th>\n",
       "      <th>High</th>\n",
       "      <th>Low</th>\n",
       "      <th>Close</th>\n",
       "      <th>Adj Close</th>\n",
       "      <th>Volume</th>\n",
       "    </tr>\n",
       "    <tr>\n",
       "      <th>Date</th>\n",
       "      <th></th>\n",
       "      <th></th>\n",
       "      <th></th>\n",
       "      <th></th>\n",
       "      <th></th>\n",
       "      <th></th>\n",
       "    </tr>\n",
       "  </thead>\n",
       "  <tbody>\n",
       "    <tr>\n",
       "      <th>2020-01-02</th>\n",
       "      <td>74.059998</td>\n",
       "      <td>75.150002</td>\n",
       "      <td>73.797501</td>\n",
       "      <td>75.087502</td>\n",
       "      <td>73.449379</td>\n",
       "      <td>135480400</td>\n",
       "    </tr>\n",
       "    <tr>\n",
       "      <th>2020-01-03</th>\n",
       "      <td>74.287498</td>\n",
       "      <td>75.144997</td>\n",
       "      <td>74.125000</td>\n",
       "      <td>74.357498</td>\n",
       "      <td>72.735321</td>\n",
       "      <td>146322800</td>\n",
       "    </tr>\n",
       "    <tr>\n",
       "      <th>2020-01-06</th>\n",
       "      <td>73.447502</td>\n",
       "      <td>74.989998</td>\n",
       "      <td>73.187500</td>\n",
       "      <td>74.949997</td>\n",
       "      <td>73.314880</td>\n",
       "      <td>118387200</td>\n",
       "    </tr>\n",
       "    <tr>\n",
       "      <th>2020-01-07</th>\n",
       "      <td>74.959999</td>\n",
       "      <td>75.224998</td>\n",
       "      <td>74.370003</td>\n",
       "      <td>74.597504</td>\n",
       "      <td>72.970093</td>\n",
       "      <td>108872000</td>\n",
       "    </tr>\n",
       "    <tr>\n",
       "      <th>2020-01-08</th>\n",
       "      <td>74.290001</td>\n",
       "      <td>76.110001</td>\n",
       "      <td>74.290001</td>\n",
       "      <td>75.797501</td>\n",
       "      <td>74.143898</td>\n",
       "      <td>132079200</td>\n",
       "    </tr>\n",
       "  </tbody>\n",
       "</table>\n",
       "</div>"
      ],
      "text/plain": [
       "                 Open       High        Low      Close  Adj Close     Volume\n",
       "Date                                                                        \n",
       "2020-01-02  74.059998  75.150002  73.797501  75.087502  73.449379  135480400\n",
       "2020-01-03  74.287498  75.144997  74.125000  74.357498  72.735321  146322800\n",
       "2020-01-06  73.447502  74.989998  73.187500  74.949997  73.314880  118387200\n",
       "2020-01-07  74.959999  75.224998  74.370003  74.597504  72.970093  108872000\n",
       "2020-01-08  74.290001  76.110001  74.290001  75.797501  74.143898  132079200"
      ]
     },
     "execution_count": 30,
     "metadata": {},
     "output_type": "execute_result"
    }
   ],
   "source": [
    "aapl.head()"
   ]
  },
  {
   "cell_type": "code",
   "execution_count": 31,
   "id": "15a9de82",
   "metadata": {},
   "outputs": [],
   "source": [
    "# Insert a column Day of Week in the DataFrame aapl\n",
    "aapl.insert(0, \"Day of Week\", aapl.index.day_name())"
   ]
  },
  {
   "cell_type": "code",
   "execution_count": 32,
   "id": "2fc189fd",
   "metadata": {},
   "outputs": [
    {
     "data": {
      "text/html": [
       "<div>\n",
       "<style scoped>\n",
       "    .dataframe tbody tr th:only-of-type {\n",
       "        vertical-align: middle;\n",
       "    }\n",
       "\n",
       "    .dataframe tbody tr th {\n",
       "        vertical-align: top;\n",
       "    }\n",
       "\n",
       "    .dataframe thead th {\n",
       "        text-align: right;\n",
       "    }\n",
       "</style>\n",
       "<table border=\"1\" class=\"dataframe\">\n",
       "  <thead>\n",
       "    <tr style=\"text-align: right;\">\n",
       "      <th></th>\n",
       "      <th>Day of Week</th>\n",
       "      <th>Open</th>\n",
       "      <th>High</th>\n",
       "      <th>Low</th>\n",
       "      <th>Close</th>\n",
       "      <th>Adj Close</th>\n",
       "      <th>Volume</th>\n",
       "    </tr>\n",
       "    <tr>\n",
       "      <th>Date</th>\n",
       "      <th></th>\n",
       "      <th></th>\n",
       "      <th></th>\n",
       "      <th></th>\n",
       "      <th></th>\n",
       "      <th></th>\n",
       "      <th></th>\n",
       "    </tr>\n",
       "  </thead>\n",
       "  <tbody>\n",
       "    <tr>\n",
       "      <th>2020-01-02</th>\n",
       "      <td>Thursday</td>\n",
       "      <td>74.059998</td>\n",
       "      <td>75.150002</td>\n",
       "      <td>73.797501</td>\n",
       "      <td>75.087502</td>\n",
       "      <td>73.449379</td>\n",
       "      <td>135480400</td>\n",
       "    </tr>\n",
       "    <tr>\n",
       "      <th>2020-01-03</th>\n",
       "      <td>Friday</td>\n",
       "      <td>74.287498</td>\n",
       "      <td>75.144997</td>\n",
       "      <td>74.125000</td>\n",
       "      <td>74.357498</td>\n",
       "      <td>72.735321</td>\n",
       "      <td>146322800</td>\n",
       "    </tr>\n",
       "    <tr>\n",
       "      <th>2020-01-06</th>\n",
       "      <td>Monday</td>\n",
       "      <td>73.447502</td>\n",
       "      <td>74.989998</td>\n",
       "      <td>73.187500</td>\n",
       "      <td>74.949997</td>\n",
       "      <td>73.314880</td>\n",
       "      <td>118387200</td>\n",
       "    </tr>\n",
       "    <tr>\n",
       "      <th>2020-01-07</th>\n",
       "      <td>Tuesday</td>\n",
       "      <td>74.959999</td>\n",
       "      <td>75.224998</td>\n",
       "      <td>74.370003</td>\n",
       "      <td>74.597504</td>\n",
       "      <td>72.970093</td>\n",
       "      <td>108872000</td>\n",
       "    </tr>\n",
       "    <tr>\n",
       "      <th>2020-01-08</th>\n",
       "      <td>Wednesday</td>\n",
       "      <td>74.290001</td>\n",
       "      <td>76.110001</td>\n",
       "      <td>74.290001</td>\n",
       "      <td>75.797501</td>\n",
       "      <td>74.143898</td>\n",
       "      <td>132079200</td>\n",
       "    </tr>\n",
       "  </tbody>\n",
       "</table>\n",
       "</div>"
      ],
      "text/plain": [
       "           Day of Week       Open       High        Low      Close  Adj Close  \\\n",
       "Date                                                                            \n",
       "2020-01-02    Thursday  74.059998  75.150002  73.797501  75.087502  73.449379   \n",
       "2020-01-03      Friday  74.287498  75.144997  74.125000  74.357498  72.735321   \n",
       "2020-01-06      Monday  73.447502  74.989998  73.187500  74.949997  73.314880   \n",
       "2020-01-07     Tuesday  74.959999  75.224998  74.370003  74.597504  72.970093   \n",
       "2020-01-08   Wednesday  74.290001  76.110001  74.290001  75.797501  74.143898   \n",
       "\n",
       "               Volume  \n",
       "Date                   \n",
       "2020-01-02  135480400  \n",
       "2020-01-03  146322800  \n",
       "2020-01-06  118387200  \n",
       "2020-01-07  108872000  \n",
       "2020-01-08  132079200  "
      ]
     },
     "execution_count": 32,
     "metadata": {},
     "output_type": "execute_result"
    }
   ],
   "source": [
    "aapl.head()"
   ]
  },
  {
   "cell_type": "markdown",
   "id": "3d88e2ef",
   "metadata": {},
   "source": [
    "## The `.truncate()` Method"
   ]
  },
  {
   "cell_type": "code",
   "execution_count": 33,
   "id": "cbeabbce",
   "metadata": {},
   "outputs": [
    {
     "data": {
      "text/html": [
       "<div>\n",
       "<style scoped>\n",
       "    .dataframe tbody tr th:only-of-type {\n",
       "        vertical-align: middle;\n",
       "    }\n",
       "\n",
       "    .dataframe tbody tr th {\n",
       "        vertical-align: top;\n",
       "    }\n",
       "\n",
       "    .dataframe thead th {\n",
       "        text-align: right;\n",
       "    }\n",
       "</style>\n",
       "<table border=\"1\" class=\"dataframe\">\n",
       "  <thead>\n",
       "    <tr style=\"text-align: right;\">\n",
       "      <th></th>\n",
       "      <th>Day of Week</th>\n",
       "      <th>Open</th>\n",
       "      <th>High</th>\n",
       "      <th>Low</th>\n",
       "      <th>Close</th>\n",
       "      <th>Adj Close</th>\n",
       "      <th>Volume</th>\n",
       "    </tr>\n",
       "    <tr>\n",
       "      <th>Date</th>\n",
       "      <th></th>\n",
       "      <th></th>\n",
       "      <th></th>\n",
       "      <th></th>\n",
       "      <th></th>\n",
       "      <th></th>\n",
       "      <th></th>\n",
       "    </tr>\n",
       "  </thead>\n",
       "  <tbody>\n",
       "    <tr>\n",
       "      <th>2020-01-02</th>\n",
       "      <td>Thursday</td>\n",
       "      <td>74.059998</td>\n",
       "      <td>75.150002</td>\n",
       "      <td>73.797501</td>\n",
       "      <td>75.087502</td>\n",
       "      <td>73.449379</td>\n",
       "      <td>135480400</td>\n",
       "    </tr>\n",
       "    <tr>\n",
       "      <th>2020-01-03</th>\n",
       "      <td>Friday</td>\n",
       "      <td>74.287498</td>\n",
       "      <td>75.144997</td>\n",
       "      <td>74.125000</td>\n",
       "      <td>74.357498</td>\n",
       "      <td>72.735321</td>\n",
       "      <td>146322800</td>\n",
       "    </tr>\n",
       "    <tr>\n",
       "      <th>2020-01-06</th>\n",
       "      <td>Monday</td>\n",
       "      <td>73.447502</td>\n",
       "      <td>74.989998</td>\n",
       "      <td>73.187500</td>\n",
       "      <td>74.949997</td>\n",
       "      <td>73.314880</td>\n",
       "      <td>118387200</td>\n",
       "    </tr>\n",
       "    <tr>\n",
       "      <th>2020-01-07</th>\n",
       "      <td>Tuesday</td>\n",
       "      <td>74.959999</td>\n",
       "      <td>75.224998</td>\n",
       "      <td>74.370003</td>\n",
       "      <td>74.597504</td>\n",
       "      <td>72.970093</td>\n",
       "      <td>108872000</td>\n",
       "    </tr>\n",
       "    <tr>\n",
       "      <th>2020-01-08</th>\n",
       "      <td>Wednesday</td>\n",
       "      <td>74.290001</td>\n",
       "      <td>76.110001</td>\n",
       "      <td>74.290001</td>\n",
       "      <td>75.797501</td>\n",
       "      <td>74.143898</td>\n",
       "      <td>132079200</td>\n",
       "    </tr>\n",
       "    <tr>\n",
       "      <th>2020-01-09</th>\n",
       "      <td>Thursday</td>\n",
       "      <td>76.809998</td>\n",
       "      <td>77.607498</td>\n",
       "      <td>76.550003</td>\n",
       "      <td>77.407501</td>\n",
       "      <td>75.718773</td>\n",
       "      <td>170108400</td>\n",
       "    </tr>\n",
       "    <tr>\n",
       "      <th>2020-01-10</th>\n",
       "      <td>Friday</td>\n",
       "      <td>77.650002</td>\n",
       "      <td>78.167503</td>\n",
       "      <td>77.062500</td>\n",
       "      <td>77.582497</td>\n",
       "      <td>75.889961</td>\n",
       "      <td>140644800</td>\n",
       "    </tr>\n",
       "    <tr>\n",
       "      <th>2020-01-13</th>\n",
       "      <td>Monday</td>\n",
       "      <td>77.910004</td>\n",
       "      <td>79.267502</td>\n",
       "      <td>77.787498</td>\n",
       "      <td>79.239998</td>\n",
       "      <td>77.511299</td>\n",
       "      <td>121532000</td>\n",
       "    </tr>\n",
       "    <tr>\n",
       "      <th>2020-01-14</th>\n",
       "      <td>Tuesday</td>\n",
       "      <td>79.175003</td>\n",
       "      <td>79.392502</td>\n",
       "      <td>78.042503</td>\n",
       "      <td>78.169998</td>\n",
       "      <td>76.464622</td>\n",
       "      <td>161954400</td>\n",
       "    </tr>\n",
       "    <tr>\n",
       "      <th>2020-01-15</th>\n",
       "      <td>Wednesday</td>\n",
       "      <td>77.962502</td>\n",
       "      <td>78.875000</td>\n",
       "      <td>77.387497</td>\n",
       "      <td>77.834999</td>\n",
       "      <td>76.136955</td>\n",
       "      <td>121923600</td>\n",
       "    </tr>\n",
       "  </tbody>\n",
       "</table>\n",
       "</div>"
      ],
      "text/plain": [
       "           Day of Week       Open       High        Low      Close  Adj Close  \\\n",
       "Date                                                                            \n",
       "2020-01-02    Thursday  74.059998  75.150002  73.797501  75.087502  73.449379   \n",
       "2020-01-03      Friday  74.287498  75.144997  74.125000  74.357498  72.735321   \n",
       "2020-01-06      Monday  73.447502  74.989998  73.187500  74.949997  73.314880   \n",
       "2020-01-07     Tuesday  74.959999  75.224998  74.370003  74.597504  72.970093   \n",
       "2020-01-08   Wednesday  74.290001  76.110001  74.290001  75.797501  74.143898   \n",
       "2020-01-09    Thursday  76.809998  77.607498  76.550003  77.407501  75.718773   \n",
       "2020-01-10      Friday  77.650002  78.167503  77.062500  77.582497  75.889961   \n",
       "2020-01-13      Monday  77.910004  79.267502  77.787498  79.239998  77.511299   \n",
       "2020-01-14     Tuesday  79.175003  79.392502  78.042503  78.169998  76.464622   \n",
       "2020-01-15   Wednesday  77.962502  78.875000  77.387497  77.834999  76.136955   \n",
       "\n",
       "               Volume  \n",
       "Date                   \n",
       "2020-01-02  135480400  \n",
       "2020-01-03  146322800  \n",
       "2020-01-06  118387200  \n",
       "2020-01-07  108872000  \n",
       "2020-01-08  132079200  \n",
       "2020-01-09  170108400  \n",
       "2020-01-10  140644800  \n",
       "2020-01-13  121532000  \n",
       "2020-01-14  161954400  \n",
       "2020-01-15  121923600  "
      ]
     },
     "execution_count": 33,
     "metadata": {},
     "output_type": "execute_result"
    }
   ],
   "source": [
    "aapl[\"2020-01-01\":\"2020-01-15\"]"
   ]
  },
  {
   "cell_type": "code",
   "execution_count": 34,
   "id": "34090561",
   "metadata": {},
   "outputs": [
    {
     "data": {
      "text/html": [
       "<div>\n",
       "<style scoped>\n",
       "    .dataframe tbody tr th:only-of-type {\n",
       "        vertical-align: middle;\n",
       "    }\n",
       "\n",
       "    .dataframe tbody tr th {\n",
       "        vertical-align: top;\n",
       "    }\n",
       "\n",
       "    .dataframe thead th {\n",
       "        text-align: right;\n",
       "    }\n",
       "</style>\n",
       "<table border=\"1\" class=\"dataframe\">\n",
       "  <thead>\n",
       "    <tr style=\"text-align: right;\">\n",
       "      <th></th>\n",
       "      <th>Day of Week</th>\n",
       "      <th>Open</th>\n",
       "      <th>High</th>\n",
       "      <th>Low</th>\n",
       "      <th>Close</th>\n",
       "      <th>Adj Close</th>\n",
       "      <th>Volume</th>\n",
       "    </tr>\n",
       "    <tr>\n",
       "      <th>Date</th>\n",
       "      <th></th>\n",
       "      <th></th>\n",
       "      <th></th>\n",
       "      <th></th>\n",
       "      <th></th>\n",
       "      <th></th>\n",
       "      <th></th>\n",
       "    </tr>\n",
       "  </thead>\n",
       "  <tbody>\n",
       "    <tr>\n",
       "      <th>2023-02-01</th>\n",
       "      <td>Wednesday</td>\n",
       "      <td>143.970001</td>\n",
       "      <td>146.610001</td>\n",
       "      <td>141.320007</td>\n",
       "      <td>145.429993</td>\n",
       "      <td>145.208282</td>\n",
       "      <td>77663600</td>\n",
       "    </tr>\n",
       "    <tr>\n",
       "      <th>2023-02-02</th>\n",
       "      <td>Thursday</td>\n",
       "      <td>148.899994</td>\n",
       "      <td>151.179993</td>\n",
       "      <td>148.169998</td>\n",
       "      <td>150.820007</td>\n",
       "      <td>150.590088</td>\n",
       "      <td>118339000</td>\n",
       "    </tr>\n",
       "    <tr>\n",
       "      <th>2023-02-03</th>\n",
       "      <td>Friday</td>\n",
       "      <td>148.029999</td>\n",
       "      <td>157.380005</td>\n",
       "      <td>147.830002</td>\n",
       "      <td>154.500000</td>\n",
       "      <td>154.264465</td>\n",
       "      <td>154279900</td>\n",
       "    </tr>\n",
       "    <tr>\n",
       "      <th>2023-02-06</th>\n",
       "      <td>Monday</td>\n",
       "      <td>152.570007</td>\n",
       "      <td>153.100006</td>\n",
       "      <td>150.779999</td>\n",
       "      <td>151.729996</td>\n",
       "      <td>151.498688</td>\n",
       "      <td>69858300</td>\n",
       "    </tr>\n",
       "    <tr>\n",
       "      <th>2023-02-07</th>\n",
       "      <td>Tuesday</td>\n",
       "      <td>150.639999</td>\n",
       "      <td>155.229996</td>\n",
       "      <td>150.639999</td>\n",
       "      <td>154.649994</td>\n",
       "      <td>154.414230</td>\n",
       "      <td>83322600</td>\n",
       "    </tr>\n",
       "    <tr>\n",
       "      <th>2023-02-08</th>\n",
       "      <td>Wednesday</td>\n",
       "      <td>153.880005</td>\n",
       "      <td>154.580002</td>\n",
       "      <td>151.169998</td>\n",
       "      <td>151.919998</td>\n",
       "      <td>151.688400</td>\n",
       "      <td>64120100</td>\n",
       "    </tr>\n",
       "    <tr>\n",
       "      <th>2023-02-09</th>\n",
       "      <td>Thursday</td>\n",
       "      <td>153.779999</td>\n",
       "      <td>154.330002</td>\n",
       "      <td>150.419998</td>\n",
       "      <td>150.869995</td>\n",
       "      <td>150.639999</td>\n",
       "      <td>56007100</td>\n",
       "    </tr>\n",
       "    <tr>\n",
       "      <th>2023-02-10</th>\n",
       "      <td>Friday</td>\n",
       "      <td>149.460007</td>\n",
       "      <td>151.339996</td>\n",
       "      <td>149.220001</td>\n",
       "      <td>151.009995</td>\n",
       "      <td>151.009995</td>\n",
       "      <td>57409100</td>\n",
       "    </tr>\n",
       "    <tr>\n",
       "      <th>2023-02-13</th>\n",
       "      <td>Monday</td>\n",
       "      <td>150.949997</td>\n",
       "      <td>154.259995</td>\n",
       "      <td>150.919998</td>\n",
       "      <td>153.850006</td>\n",
       "      <td>153.850006</td>\n",
       "      <td>62199000</td>\n",
       "    </tr>\n",
       "    <tr>\n",
       "      <th>2023-02-14</th>\n",
       "      <td>Tuesday</td>\n",
       "      <td>152.119995</td>\n",
       "      <td>153.770004</td>\n",
       "      <td>150.860001</td>\n",
       "      <td>153.199997</td>\n",
       "      <td>153.199997</td>\n",
       "      <td>61707600</td>\n",
       "    </tr>\n",
       "    <tr>\n",
       "      <th>2023-02-15</th>\n",
       "      <td>Wednesday</td>\n",
       "      <td>153.110001</td>\n",
       "      <td>155.500000</td>\n",
       "      <td>152.880005</td>\n",
       "      <td>155.330002</td>\n",
       "      <td>155.330002</td>\n",
       "      <td>65669300</td>\n",
       "    </tr>\n",
       "    <tr>\n",
       "      <th>2023-02-16</th>\n",
       "      <td>Thursday</td>\n",
       "      <td>153.509995</td>\n",
       "      <td>156.330002</td>\n",
       "      <td>153.350006</td>\n",
       "      <td>153.710007</td>\n",
       "      <td>153.710007</td>\n",
       "      <td>68167900</td>\n",
       "    </tr>\n",
       "  </tbody>\n",
       "</table>\n",
       "</div>"
      ],
      "text/plain": [
       "           Day of Week        Open        High         Low       Close  \\\n",
       "Date                                                                     \n",
       "2023-02-01   Wednesday  143.970001  146.610001  141.320007  145.429993   \n",
       "2023-02-02    Thursday  148.899994  151.179993  148.169998  150.820007   \n",
       "2023-02-03      Friday  148.029999  157.380005  147.830002  154.500000   \n",
       "2023-02-06      Monday  152.570007  153.100006  150.779999  151.729996   \n",
       "2023-02-07     Tuesday  150.639999  155.229996  150.639999  154.649994   \n",
       "2023-02-08   Wednesday  153.880005  154.580002  151.169998  151.919998   \n",
       "2023-02-09    Thursday  153.779999  154.330002  150.419998  150.869995   \n",
       "2023-02-10      Friday  149.460007  151.339996  149.220001  151.009995   \n",
       "2023-02-13      Monday  150.949997  154.259995  150.919998  153.850006   \n",
       "2023-02-14     Tuesday  152.119995  153.770004  150.860001  153.199997   \n",
       "2023-02-15   Wednesday  153.110001  155.500000  152.880005  155.330002   \n",
       "2023-02-16    Thursday  153.509995  156.330002  153.350006  153.710007   \n",
       "\n",
       "             Adj Close     Volume  \n",
       "Date                               \n",
       "2023-02-01  145.208282   77663600  \n",
       "2023-02-02  150.590088  118339000  \n",
       "2023-02-03  154.264465  154279900  \n",
       "2023-02-06  151.498688   69858300  \n",
       "2023-02-07  154.414230   83322600  \n",
       "2023-02-08  151.688400   64120100  \n",
       "2023-02-09  150.639999   56007100  \n",
       "2023-02-10  151.009995   57409100  \n",
       "2023-02-13  153.850006   62199000  \n",
       "2023-02-14  153.199997   61707600  \n",
       "2023-02-15  155.330002   65669300  \n",
       "2023-02-16  153.710007   68167900  "
      ]
     },
     "execution_count": 34,
     "metadata": {},
     "output_type": "execute_result"
    }
   ],
   "source": [
    "aapl[\"2023-02-01\":\"2023-02-17\"]"
   ]
  },
  {
   "cell_type": "code",
   "execution_count": 35,
   "id": "d949068e",
   "metadata": {},
   "outputs": [
    {
     "data": {
      "text/html": [
       "<div>\n",
       "<style scoped>\n",
       "    .dataframe tbody tr th:only-of-type {\n",
       "        vertical-align: middle;\n",
       "    }\n",
       "\n",
       "    .dataframe tbody tr th {\n",
       "        vertical-align: top;\n",
       "    }\n",
       "\n",
       "    .dataframe thead th {\n",
       "        text-align: right;\n",
       "    }\n",
       "</style>\n",
       "<table border=\"1\" class=\"dataframe\">\n",
       "  <thead>\n",
       "    <tr style=\"text-align: right;\">\n",
       "      <th></th>\n",
       "      <th>Day of Week</th>\n",
       "      <th>Open</th>\n",
       "      <th>High</th>\n",
       "      <th>Low</th>\n",
       "      <th>Close</th>\n",
       "      <th>Adj Close</th>\n",
       "      <th>Volume</th>\n",
       "    </tr>\n",
       "    <tr>\n",
       "      <th>Date</th>\n",
       "      <th></th>\n",
       "      <th></th>\n",
       "      <th></th>\n",
       "      <th></th>\n",
       "      <th></th>\n",
       "      <th></th>\n",
       "      <th></th>\n",
       "    </tr>\n",
       "  </thead>\n",
       "  <tbody>\n",
       "    <tr>\n",
       "      <th>2020-01-15</th>\n",
       "      <td>Wednesday</td>\n",
       "      <td>77.962502</td>\n",
       "      <td>78.875000</td>\n",
       "      <td>77.387497</td>\n",
       "      <td>77.834999</td>\n",
       "      <td>76.136955</td>\n",
       "      <td>121923600</td>\n",
       "    </tr>\n",
       "    <tr>\n",
       "      <th>2020-01-16</th>\n",
       "      <td>Thursday</td>\n",
       "      <td>78.397499</td>\n",
       "      <td>78.925003</td>\n",
       "      <td>78.022499</td>\n",
       "      <td>78.809998</td>\n",
       "      <td>77.090691</td>\n",
       "      <td>108829200</td>\n",
       "    </tr>\n",
       "    <tr>\n",
       "      <th>2020-01-17</th>\n",
       "      <td>Friday</td>\n",
       "      <td>79.067497</td>\n",
       "      <td>79.684998</td>\n",
       "      <td>78.750000</td>\n",
       "      <td>79.682503</td>\n",
       "      <td>77.944153</td>\n",
       "      <td>137816400</td>\n",
       "    </tr>\n",
       "    <tr>\n",
       "      <th>2020-01-21</th>\n",
       "      <td>Tuesday</td>\n",
       "      <td>79.297501</td>\n",
       "      <td>79.754997</td>\n",
       "      <td>79.000000</td>\n",
       "      <td>79.142502</td>\n",
       "      <td>77.415932</td>\n",
       "      <td>110843200</td>\n",
       "    </tr>\n",
       "    <tr>\n",
       "      <th>2020-01-22</th>\n",
       "      <td>Wednesday</td>\n",
       "      <td>79.644997</td>\n",
       "      <td>79.997498</td>\n",
       "      <td>79.327499</td>\n",
       "      <td>79.425003</td>\n",
       "      <td>77.692268</td>\n",
       "      <td>101832400</td>\n",
       "    </tr>\n",
       "    <tr>\n",
       "      <th>...</th>\n",
       "      <td>...</td>\n",
       "      <td>...</td>\n",
       "      <td>...</td>\n",
       "      <td>...</td>\n",
       "      <td>...</td>\n",
       "      <td>...</td>\n",
       "      <td>...</td>\n",
       "    </tr>\n",
       "    <tr>\n",
       "      <th>2023-01-26</th>\n",
       "      <td>Thursday</td>\n",
       "      <td>143.169998</td>\n",
       "      <td>144.250000</td>\n",
       "      <td>141.899994</td>\n",
       "      <td>143.960007</td>\n",
       "      <td>143.740540</td>\n",
       "      <td>54105100</td>\n",
       "    </tr>\n",
       "    <tr>\n",
       "      <th>2023-01-27</th>\n",
       "      <td>Friday</td>\n",
       "      <td>143.160004</td>\n",
       "      <td>147.229996</td>\n",
       "      <td>143.080002</td>\n",
       "      <td>145.929993</td>\n",
       "      <td>145.707520</td>\n",
       "      <td>70492800</td>\n",
       "    </tr>\n",
       "    <tr>\n",
       "      <th>2023-01-30</th>\n",
       "      <td>Monday</td>\n",
       "      <td>144.960007</td>\n",
       "      <td>145.550003</td>\n",
       "      <td>142.850006</td>\n",
       "      <td>143.000000</td>\n",
       "      <td>142.781998</td>\n",
       "      <td>64015300</td>\n",
       "    </tr>\n",
       "    <tr>\n",
       "      <th>2023-01-31</th>\n",
       "      <td>Tuesday</td>\n",
       "      <td>142.699997</td>\n",
       "      <td>144.339996</td>\n",
       "      <td>142.279999</td>\n",
       "      <td>144.289993</td>\n",
       "      <td>144.070023</td>\n",
       "      <td>65874500</td>\n",
       "    </tr>\n",
       "    <tr>\n",
       "      <th>2023-02-01</th>\n",
       "      <td>Wednesday</td>\n",
       "      <td>143.970001</td>\n",
       "      <td>146.610001</td>\n",
       "      <td>141.320007</td>\n",
       "      <td>145.429993</td>\n",
       "      <td>145.208282</td>\n",
       "      <td>77663600</td>\n",
       "    </tr>\n",
       "  </tbody>\n",
       "</table>\n",
       "<p>768 rows × 7 columns</p>\n",
       "</div>"
      ],
      "text/plain": [
       "           Day of Week        Open        High         Low       Close  \\\n",
       "Date                                                                     \n",
       "2020-01-15   Wednesday   77.962502   78.875000   77.387497   77.834999   \n",
       "2020-01-16    Thursday   78.397499   78.925003   78.022499   78.809998   \n",
       "2020-01-17      Friday   79.067497   79.684998   78.750000   79.682503   \n",
       "2020-01-21     Tuesday   79.297501   79.754997   79.000000   79.142502   \n",
       "2020-01-22   Wednesday   79.644997   79.997498   79.327499   79.425003   \n",
       "...                ...         ...         ...         ...         ...   \n",
       "2023-01-26    Thursday  143.169998  144.250000  141.899994  143.960007   \n",
       "2023-01-27      Friday  143.160004  147.229996  143.080002  145.929993   \n",
       "2023-01-30      Monday  144.960007  145.550003  142.850006  143.000000   \n",
       "2023-01-31     Tuesday  142.699997  144.339996  142.279999  144.289993   \n",
       "2023-02-01   Wednesday  143.970001  146.610001  141.320007  145.429993   \n",
       "\n",
       "             Adj Close     Volume  \n",
       "Date                               \n",
       "2020-01-15   76.136955  121923600  \n",
       "2020-01-16   77.090691  108829200  \n",
       "2020-01-17   77.944153  137816400  \n",
       "2020-01-21   77.415932  110843200  \n",
       "2020-01-22   77.692268  101832400  \n",
       "...                ...        ...  \n",
       "2023-01-26  143.740540   54105100  \n",
       "2023-01-27  145.707520   70492800  \n",
       "2023-01-30  142.781998   64015300  \n",
       "2023-01-31  144.070023   65874500  \n",
       "2023-02-01  145.208282   77663600  \n",
       "\n",
       "[768 rows x 7 columns]"
      ]
     },
     "execution_count": 35,
     "metadata": {},
     "output_type": "execute_result"
    }
   ],
   "source": [
    "aapl.truncate(before = \"2020-01-15\", after = \"2023-02-01\")"
   ]
  },
  {
   "cell_type": "code",
   "execution_count": 36,
   "id": "dd55ffb3",
   "metadata": {},
   "outputs": [
    {
     "data": {
      "text/html": [
       "<div>\n",
       "<style scoped>\n",
       "    .dataframe tbody tr th:only-of-type {\n",
       "        vertical-align: middle;\n",
       "    }\n",
       "\n",
       "    .dataframe tbody tr th {\n",
       "        vertical-align: top;\n",
       "    }\n",
       "\n",
       "    .dataframe thead th {\n",
       "        text-align: right;\n",
       "    }\n",
       "</style>\n",
       "<table border=\"1\" class=\"dataframe\">\n",
       "  <thead>\n",
       "    <tr style=\"text-align: right;\">\n",
       "      <th></th>\n",
       "      <th>Day of Week</th>\n",
       "      <th>Open</th>\n",
       "      <th>High</th>\n",
       "      <th>Low</th>\n",
       "      <th>Close</th>\n",
       "      <th>Adj Close</th>\n",
       "      <th>Volume</th>\n",
       "    </tr>\n",
       "    <tr>\n",
       "      <th>Date</th>\n",
       "      <th></th>\n",
       "      <th></th>\n",
       "      <th></th>\n",
       "      <th></th>\n",
       "      <th></th>\n",
       "      <th></th>\n",
       "      <th></th>\n",
       "    </tr>\n",
       "  </thead>\n",
       "  <tbody>\n",
       "    <tr>\n",
       "      <th>2023-02-01</th>\n",
       "      <td>Wednesday</td>\n",
       "      <td>143.970001</td>\n",
       "      <td>146.610001</td>\n",
       "      <td>141.320007</td>\n",
       "      <td>145.429993</td>\n",
       "      <td>145.208282</td>\n",
       "      <td>77663600</td>\n",
       "    </tr>\n",
       "    <tr>\n",
       "      <th>2023-02-02</th>\n",
       "      <td>Thursday</td>\n",
       "      <td>148.899994</td>\n",
       "      <td>151.179993</td>\n",
       "      <td>148.169998</td>\n",
       "      <td>150.820007</td>\n",
       "      <td>150.590088</td>\n",
       "      <td>118339000</td>\n",
       "    </tr>\n",
       "    <tr>\n",
       "      <th>2023-02-03</th>\n",
       "      <td>Friday</td>\n",
       "      <td>148.029999</td>\n",
       "      <td>157.380005</td>\n",
       "      <td>147.830002</td>\n",
       "      <td>154.500000</td>\n",
       "      <td>154.264465</td>\n",
       "      <td>154279900</td>\n",
       "    </tr>\n",
       "    <tr>\n",
       "      <th>2023-02-06</th>\n",
       "      <td>Monday</td>\n",
       "      <td>152.570007</td>\n",
       "      <td>153.100006</td>\n",
       "      <td>150.779999</td>\n",
       "      <td>151.729996</td>\n",
       "      <td>151.498688</td>\n",
       "      <td>69858300</td>\n",
       "    </tr>\n",
       "    <tr>\n",
       "      <th>2023-02-07</th>\n",
       "      <td>Tuesday</td>\n",
       "      <td>150.639999</td>\n",
       "      <td>155.229996</td>\n",
       "      <td>150.639999</td>\n",
       "      <td>154.649994</td>\n",
       "      <td>154.414230</td>\n",
       "      <td>83322600</td>\n",
       "    </tr>\n",
       "    <tr>\n",
       "      <th>2023-02-08</th>\n",
       "      <td>Wednesday</td>\n",
       "      <td>153.880005</td>\n",
       "      <td>154.580002</td>\n",
       "      <td>151.169998</td>\n",
       "      <td>151.919998</td>\n",
       "      <td>151.688400</td>\n",
       "      <td>64120100</td>\n",
       "    </tr>\n",
       "    <tr>\n",
       "      <th>2023-02-09</th>\n",
       "      <td>Thursday</td>\n",
       "      <td>153.779999</td>\n",
       "      <td>154.330002</td>\n",
       "      <td>150.419998</td>\n",
       "      <td>150.869995</td>\n",
       "      <td>150.639999</td>\n",
       "      <td>56007100</td>\n",
       "    </tr>\n",
       "    <tr>\n",
       "      <th>2023-02-10</th>\n",
       "      <td>Friday</td>\n",
       "      <td>149.460007</td>\n",
       "      <td>151.339996</td>\n",
       "      <td>149.220001</td>\n",
       "      <td>151.009995</td>\n",
       "      <td>151.009995</td>\n",
       "      <td>57409100</td>\n",
       "    </tr>\n",
       "    <tr>\n",
       "      <th>2023-02-13</th>\n",
       "      <td>Monday</td>\n",
       "      <td>150.949997</td>\n",
       "      <td>154.259995</td>\n",
       "      <td>150.919998</td>\n",
       "      <td>153.850006</td>\n",
       "      <td>153.850006</td>\n",
       "      <td>62199000</td>\n",
       "    </tr>\n",
       "    <tr>\n",
       "      <th>2023-02-14</th>\n",
       "      <td>Tuesday</td>\n",
       "      <td>152.119995</td>\n",
       "      <td>153.770004</td>\n",
       "      <td>150.860001</td>\n",
       "      <td>153.199997</td>\n",
       "      <td>153.199997</td>\n",
       "      <td>61707600</td>\n",
       "    </tr>\n",
       "    <tr>\n",
       "      <th>2023-02-15</th>\n",
       "      <td>Wednesday</td>\n",
       "      <td>153.110001</td>\n",
       "      <td>155.500000</td>\n",
       "      <td>152.880005</td>\n",
       "      <td>155.330002</td>\n",
       "      <td>155.330002</td>\n",
       "      <td>65669300</td>\n",
       "    </tr>\n",
       "    <tr>\n",
       "      <th>2023-02-16</th>\n",
       "      <td>Thursday</td>\n",
       "      <td>153.509995</td>\n",
       "      <td>156.330002</td>\n",
       "      <td>153.350006</td>\n",
       "      <td>153.710007</td>\n",
       "      <td>153.710007</td>\n",
       "      <td>68167900</td>\n",
       "    </tr>\n",
       "  </tbody>\n",
       "</table>\n",
       "</div>"
      ],
      "text/plain": [
       "           Day of Week        Open        High         Low       Close  \\\n",
       "Date                                                                     \n",
       "2023-02-01   Wednesday  143.970001  146.610001  141.320007  145.429993   \n",
       "2023-02-02    Thursday  148.899994  151.179993  148.169998  150.820007   \n",
       "2023-02-03      Friday  148.029999  157.380005  147.830002  154.500000   \n",
       "2023-02-06      Monday  152.570007  153.100006  150.779999  151.729996   \n",
       "2023-02-07     Tuesday  150.639999  155.229996  150.639999  154.649994   \n",
       "2023-02-08   Wednesday  153.880005  154.580002  151.169998  151.919998   \n",
       "2023-02-09    Thursday  153.779999  154.330002  150.419998  150.869995   \n",
       "2023-02-10      Friday  149.460007  151.339996  149.220001  151.009995   \n",
       "2023-02-13      Monday  150.949997  154.259995  150.919998  153.850006   \n",
       "2023-02-14     Tuesday  152.119995  153.770004  150.860001  153.199997   \n",
       "2023-02-15   Wednesday  153.110001  155.500000  152.880005  155.330002   \n",
       "2023-02-16    Thursday  153.509995  156.330002  153.350006  153.710007   \n",
       "\n",
       "             Adj Close     Volume  \n",
       "Date                               \n",
       "2023-02-01  145.208282   77663600  \n",
       "2023-02-02  150.590088  118339000  \n",
       "2023-02-03  154.264465  154279900  \n",
       "2023-02-06  151.498688   69858300  \n",
       "2023-02-07  154.414230   83322600  \n",
       "2023-02-08  151.688400   64120100  \n",
       "2023-02-09  150.639999   56007100  \n",
       "2023-02-10  151.009995   57409100  \n",
       "2023-02-13  153.850006   62199000  \n",
       "2023-02-14  153.199997   61707600  \n",
       "2023-02-15  155.330002   65669300  \n",
       "2023-02-16  153.710007   68167900  "
      ]
     },
     "execution_count": 36,
     "metadata": {},
     "output_type": "execute_result"
    }
   ],
   "source": [
    "aapl[\"2023-02-01\":\"2023-02-17\"]"
   ]
  },
  {
   "cell_type": "markdown",
   "id": "15c24e79",
   "metadata": {},
   "source": [
    "## `pd.DateOffset` Objects"
   ]
  },
  {
   "cell_type": "code",
   "execution_count": 37,
   "id": "ecac027a",
   "metadata": {},
   "outputs": [
    {
     "data": {
      "text/html": [
       "<div>\n",
       "<style scoped>\n",
       "    .dataframe tbody tr th:only-of-type {\n",
       "        vertical-align: middle;\n",
       "    }\n",
       "\n",
       "    .dataframe tbody tr th {\n",
       "        vertical-align: top;\n",
       "    }\n",
       "\n",
       "    .dataframe thead th {\n",
       "        text-align: right;\n",
       "    }\n",
       "</style>\n",
       "<table border=\"1\" class=\"dataframe\">\n",
       "  <thead>\n",
       "    <tr style=\"text-align: right;\">\n",
       "      <th></th>\n",
       "      <th>Day of Week</th>\n",
       "      <th>Open</th>\n",
       "      <th>High</th>\n",
       "      <th>Low</th>\n",
       "      <th>Close</th>\n",
       "      <th>Adj Close</th>\n",
       "      <th>Volume</th>\n",
       "    </tr>\n",
       "    <tr>\n",
       "      <th>Date</th>\n",
       "      <th></th>\n",
       "      <th></th>\n",
       "      <th></th>\n",
       "      <th></th>\n",
       "      <th></th>\n",
       "      <th></th>\n",
       "      <th></th>\n",
       "    </tr>\n",
       "  </thead>\n",
       "  <tbody>\n",
       "    <tr>\n",
       "      <th>2020-01-02</th>\n",
       "      <td>Thursday</td>\n",
       "      <td>74.059998</td>\n",
       "      <td>75.150002</td>\n",
       "      <td>73.797501</td>\n",
       "      <td>75.087502</td>\n",
       "      <td>73.449379</td>\n",
       "      <td>135480400</td>\n",
       "    </tr>\n",
       "    <tr>\n",
       "      <th>2020-01-03</th>\n",
       "      <td>Friday</td>\n",
       "      <td>74.287498</td>\n",
       "      <td>75.144997</td>\n",
       "      <td>74.125000</td>\n",
       "      <td>74.357498</td>\n",
       "      <td>72.735321</td>\n",
       "      <td>146322800</td>\n",
       "    </tr>\n",
       "    <tr>\n",
       "      <th>2020-01-06</th>\n",
       "      <td>Monday</td>\n",
       "      <td>73.447502</td>\n",
       "      <td>74.989998</td>\n",
       "      <td>73.187500</td>\n",
       "      <td>74.949997</td>\n",
       "      <td>73.314880</td>\n",
       "      <td>118387200</td>\n",
       "    </tr>\n",
       "    <tr>\n",
       "      <th>2020-01-07</th>\n",
       "      <td>Tuesday</td>\n",
       "      <td>74.959999</td>\n",
       "      <td>75.224998</td>\n",
       "      <td>74.370003</td>\n",
       "      <td>74.597504</td>\n",
       "      <td>72.970093</td>\n",
       "      <td>108872000</td>\n",
       "    </tr>\n",
       "    <tr>\n",
       "      <th>2020-01-08</th>\n",
       "      <td>Wednesday</td>\n",
       "      <td>74.290001</td>\n",
       "      <td>76.110001</td>\n",
       "      <td>74.290001</td>\n",
       "      <td>75.797501</td>\n",
       "      <td>74.143898</td>\n",
       "      <td>132079200</td>\n",
       "    </tr>\n",
       "  </tbody>\n",
       "</table>\n",
       "</div>"
      ],
      "text/plain": [
       "           Day of Week       Open       High        Low      Close  Adj Close  \\\n",
       "Date                                                                            \n",
       "2020-01-02    Thursday  74.059998  75.150002  73.797501  75.087502  73.449379   \n",
       "2020-01-03      Friday  74.287498  75.144997  74.125000  74.357498  72.735321   \n",
       "2020-01-06      Monday  73.447502  74.989998  73.187500  74.949997  73.314880   \n",
       "2020-01-07     Tuesday  74.959999  75.224998  74.370003  74.597504  72.970093   \n",
       "2020-01-08   Wednesday  74.290001  76.110001  74.290001  75.797501  74.143898   \n",
       "\n",
       "               Volume  \n",
       "Date                   \n",
       "2020-01-02  135480400  \n",
       "2020-01-03  146322800  \n",
       "2020-01-06  118387200  \n",
       "2020-01-07  108872000  \n",
       "2020-01-08  132079200  "
      ]
     },
     "execution_count": 37,
     "metadata": {},
     "output_type": "execute_result"
    }
   ],
   "source": [
    "aapl.head()"
   ]
  },
  {
   "cell_type": "code",
   "execution_count": 38,
   "id": "c026bbb9",
   "metadata": {},
   "outputs": [
    {
     "data": {
      "text/plain": [
       "DatetimeIndex(['2021-06-14 03:42:00', '2021-06-15 03:42:00',\n",
       "               '2021-06-18 03:42:00', '2021-06-19 03:42:00',\n",
       "               '2021-06-20 03:42:00', '2021-06-21 03:42:00',\n",
       "               '2021-06-22 03:42:00', '2021-06-25 03:42:00',\n",
       "               '2021-06-26 03:42:00', '2021-06-27 03:42:00',\n",
       "               ...\n",
       "               '2024-07-15 03:42:00', '2024-07-18 03:42:00',\n",
       "               '2024-07-19 03:42:00', '2024-07-20 03:42:00',\n",
       "               '2024-07-21 03:42:00', '2024-07-22 03:42:00',\n",
       "               '2024-07-25 03:42:00', '2024-07-26 03:42:00',\n",
       "               '2024-07-27 03:42:00', '2024-07-28 03:42:00'],\n",
       "              dtype='datetime64[ns]', name='Date', length=788, freq=None)"
      ]
     },
     "execution_count": 38,
     "metadata": {},
     "output_type": "execute_result"
    }
   ],
   "source": [
    "aapl.index + pd.DateOffset(months = 5, years = 1, days = 12, hours = 3, minutes = 42)"
   ]
  },
  {
   "cell_type": "code",
   "execution_count": 39,
   "id": "bb55444b",
   "metadata": {},
   "outputs": [
    {
     "data": {
      "text/plain": [
       "DatetimeIndex(['2018-11-19 20:18:00', '2018-11-20 20:18:00',\n",
       "               '2018-11-23 20:18:00', '2018-11-24 20:18:00',\n",
       "               '2018-11-25 20:18:00', '2018-11-26 20:18:00',\n",
       "               '2018-11-27 20:18:00', '2018-11-30 20:18:00',\n",
       "               '2018-12-01 20:18:00', '2018-12-02 20:18:00',\n",
       "               ...\n",
       "               '2021-12-21 20:18:00', '2021-12-24 20:18:00',\n",
       "               '2021-12-25 20:18:00', '2021-12-26 20:18:00',\n",
       "               '2021-12-27 20:18:00', '2021-12-28 20:18:00',\n",
       "               '2021-12-31 20:18:00', '2022-01-01 20:18:00',\n",
       "               '2022-01-02 20:18:00', '2022-01-03 20:18:00'],\n",
       "              dtype='datetime64[ns]', name='Date', length=788, freq=None)"
      ]
     },
     "execution_count": 39,
     "metadata": {},
     "output_type": "execute_result"
    }
   ],
   "source": [
    "aapl.index - pd.DateOffset(months = 1, years = 1, days = 12, hours = 3, minutes = 42)"
   ]
  },
  {
   "cell_type": "code",
   "execution_count": 42,
   "id": "d5f77949",
   "metadata": {},
   "outputs": [],
   "source": [
    "import pandas as pd\n",
    "import datetime as dt\n",
    "from pandas.tseries.offsets import *"
   ]
  },
  {
   "cell_type": "code",
   "execution_count": 43,
   "id": "e6dafca0",
   "metadata": {},
   "outputs": [
    {
     "data": {
      "text/plain": [
       "DatetimeIndex(['2020-01-02', '2020-01-03', '2020-01-06', '2020-01-07',\n",
       "               '2020-01-08', '2020-01-09', '2020-01-10', '2020-01-13',\n",
       "               '2020-01-14', '2020-01-15',\n",
       "               ...\n",
       "               '2023-02-03', '2023-02-06', '2023-02-07', '2023-02-08',\n",
       "               '2023-02-09', '2023-02-10', '2023-02-13', '2023-02-14',\n",
       "               '2023-02-15', '2023-02-16'],\n",
       "              dtype='datetime64[ns]', name='Date', length=788, freq=None)"
      ]
     },
     "execution_count": 43,
     "metadata": {},
     "output_type": "execute_result"
    }
   ],
   "source": [
    "aapl.index"
   ]
  },
  {
   "cell_type": "code",
   "execution_count": 44,
   "id": "f062501a",
   "metadata": {},
   "outputs": [
    {
     "data": {
      "text/plain": [
       "DatetimeIndex(['2019-12-31', '2019-12-31', '2019-12-31', '2019-12-31',\n",
       "               '2019-12-31', '2019-12-31', '2019-12-31', '2019-12-31',\n",
       "               '2019-12-31', '2019-12-31',\n",
       "               ...\n",
       "               '2023-01-31', '2023-01-31', '2023-01-31', '2023-01-31',\n",
       "               '2023-01-31', '2023-01-31', '2023-01-31', '2023-01-31',\n",
       "               '2023-01-31', '2023-01-31'],\n",
       "              dtype='datetime64[ns]', name='Date', length=788, freq=None)"
      ]
     },
     "execution_count": 44,
     "metadata": {},
     "output_type": "execute_result"
    }
   ],
   "source": [
    "aapl.index - MonthEnd()"
   ]
  },
  {
   "cell_type": "code",
   "execution_count": 45,
   "id": "13f5637f",
   "metadata": {},
   "outputs": [
    {
     "data": {
      "text/plain": [
       "DatetimeIndex(['2019-12-31', '2019-12-31', '2019-12-31', '2019-12-31',\n",
       "               '2019-12-31', '2019-12-31', '2019-12-31', '2019-12-31',\n",
       "               '2019-12-31', '2019-12-31',\n",
       "               ...\n",
       "               '2023-01-31', '2023-01-31', '2023-01-31', '2023-01-31',\n",
       "               '2023-01-31', '2023-01-31', '2023-01-31', '2023-01-31',\n",
       "               '2023-01-31', '2023-01-31'],\n",
       "              dtype='datetime64[ns]', name='Date', length=788, freq=None)"
      ]
     },
     "execution_count": 45,
     "metadata": {},
     "output_type": "execute_result"
    }
   ],
   "source": [
    "aapl.index - BMonthEnd()"
   ]
  },
  {
   "cell_type": "code",
   "execution_count": 46,
   "id": "fca9c27f",
   "metadata": {},
   "outputs": [
    {
     "data": {
      "text/plain": [
       "DatetimeIndex(['2019-12-31', '2019-12-31', '2019-12-31', '2019-12-31',\n",
       "               '2019-12-31', '2019-12-31', '2019-12-31', '2019-12-31',\n",
       "               '2019-12-31', '2019-12-31',\n",
       "               ...\n",
       "               '2022-12-31', '2022-12-31', '2022-12-31', '2022-12-31',\n",
       "               '2022-12-31', '2022-12-31', '2022-12-31', '2022-12-31',\n",
       "               '2022-12-31', '2022-12-31'],\n",
       "              dtype='datetime64[ns]', name='Date', length=788, freq=None)"
      ]
     },
     "execution_count": 46,
     "metadata": {},
     "output_type": "execute_result"
    }
   ],
   "source": [
    "aapl.index - QuarterEnd()"
   ]
  },
  {
   "cell_type": "code",
   "execution_count": 47,
   "id": "8b5ebf66",
   "metadata": {},
   "outputs": [
    {
     "data": {
      "text/plain": [
       "DatetimeIndex(['2019-12-01', '2019-12-01', '2019-12-01', '2019-12-01',\n",
       "               '2019-12-01', '2019-12-01', '2019-12-01', '2019-12-01',\n",
       "               '2019-12-01', '2019-12-01',\n",
       "               ...\n",
       "               '2022-12-01', '2022-12-01', '2022-12-01', '2022-12-01',\n",
       "               '2022-12-01', '2022-12-01', '2022-12-01', '2022-12-01',\n",
       "               '2022-12-01', '2022-12-01'],\n",
       "              dtype='datetime64[ns]', name='Date', length=788, freq=None)"
      ]
     },
     "execution_count": 47,
     "metadata": {},
     "output_type": "execute_result"
    }
   ],
   "source": [
    "aapl.index - QuarterBegin()"
   ]
  },
  {
   "cell_type": "markdown",
   "id": "ecdbd3b0",
   "metadata": {},
   "source": [
    "## The `Timedelta` Object"
   ]
  },
  {
   "cell_type": "code",
   "execution_count": 48,
   "id": "37588200",
   "metadata": {},
   "outputs": [],
   "source": [
    "timeA = pd.Timestamp(\"2016-03-31 04:35:16 PM\")\n",
    "timeB = pd.Timestamp(\"2016-03-20 02:16:49 AM\")"
   ]
  },
  {
   "cell_type": "code",
   "execution_count": 49,
   "id": "25f68736",
   "metadata": {},
   "outputs": [
    {
     "data": {
      "text/plain": [
       "Timedelta('-12 days +09:41:33')"
      ]
     },
     "execution_count": 49,
     "metadata": {},
     "output_type": "execute_result"
    }
   ],
   "source": [
    "timeB - timeA"
   ]
  },
  {
   "cell_type": "code",
   "execution_count": 50,
   "id": "45b11d8e",
   "metadata": {},
   "outputs": [
    {
     "data": {
      "text/plain": [
       "Timedelta('11 days 14:18:27')"
      ]
     },
     "execution_count": 50,
     "metadata": {},
     "output_type": "execute_result"
    }
   ],
   "source": [
    "timeA - timeB"
   ]
  },
  {
   "cell_type": "code",
   "execution_count": 51,
   "id": "eddaba46",
   "metadata": {},
   "outputs": [
    {
     "data": {
      "text/plain": [
       "pandas._libs.tslibs.timedeltas.Timedelta"
      ]
     },
     "execution_count": 51,
     "metadata": {},
     "output_type": "execute_result"
    }
   ],
   "source": [
    "type(timeA - timeB)"
   ]
  },
  {
   "cell_type": "code",
   "execution_count": 52,
   "id": "3fd5bbb3",
   "metadata": {},
   "outputs": [
    {
     "data": {
      "text/plain": [
       "pandas._libs.tslibs.timestamps.Timestamp"
      ]
     },
     "execution_count": 52,
     "metadata": {},
     "output_type": "execute_result"
    }
   ],
   "source": [
    "type(timeA)"
   ]
  },
  {
   "cell_type": "code",
   "execution_count": 53,
   "id": "54f8c012",
   "metadata": {},
   "outputs": [
    {
     "data": {
      "text/plain": [
       "Timedelta('59 days 12:45:00')"
      ]
     },
     "execution_count": 53,
     "metadata": {},
     "output_type": "execute_result"
    }
   ],
   "source": [
    "pd.Timedelta(weeks = 8, days = 3, hours = 12, minutes = 45)"
   ]
  },
  {
   "cell_type": "code",
   "execution_count": 54,
   "id": "409f905f",
   "metadata": {},
   "outputs": [
    {
     "data": {
      "text/plain": [
       "Timedelta('14 days 06:12:49')"
      ]
     },
     "execution_count": 54,
     "metadata": {},
     "output_type": "execute_result"
    }
   ],
   "source": [
    "pd.Timedelta(\"14 days 6 hours 12 minutes 49 seconds\")"
   ]
  },
  {
   "cell_type": "markdown",
   "id": "d371d164",
   "metadata": {},
   "source": [
    "## `Timedeltas` in a Dataset"
   ]
  },
  {
   "cell_type": "code",
   "execution_count": 55,
   "id": "74f01c12",
   "metadata": {},
   "outputs": [
    {
     "data": {
      "text/html": [
       "<div>\n",
       "<style scoped>\n",
       "    .dataframe tbody tr th:only-of-type {\n",
       "        vertical-align: middle;\n",
       "    }\n",
       "\n",
       "    .dataframe tbody tr th {\n",
       "        vertical-align: top;\n",
       "    }\n",
       "\n",
       "    .dataframe thead th {\n",
       "        text-align: right;\n",
       "    }\n",
       "</style>\n",
       "<table border=\"1\" class=\"dataframe\">\n",
       "  <thead>\n",
       "    <tr style=\"text-align: right;\">\n",
       "      <th></th>\n",
       "      <th>order_date</th>\n",
       "      <th>delivery_date</th>\n",
       "    </tr>\n",
       "    <tr>\n",
       "      <th>ID</th>\n",
       "      <th></th>\n",
       "      <th></th>\n",
       "    </tr>\n",
       "  </thead>\n",
       "  <tbody>\n",
       "    <tr>\n",
       "      <th>1</th>\n",
       "      <td>1998-05-24</td>\n",
       "      <td>1999-02-05</td>\n",
       "    </tr>\n",
       "    <tr>\n",
       "      <th>2</th>\n",
       "      <td>1992-04-22</td>\n",
       "      <td>1998-03-06</td>\n",
       "    </tr>\n",
       "    <tr>\n",
       "      <th>4</th>\n",
       "      <td>1991-02-10</td>\n",
       "      <td>1992-08-26</td>\n",
       "    </tr>\n",
       "    <tr>\n",
       "      <th>5</th>\n",
       "      <td>1992-07-21</td>\n",
       "      <td>1997-11-20</td>\n",
       "    </tr>\n",
       "    <tr>\n",
       "      <th>7</th>\n",
       "      <td>1993-09-02</td>\n",
       "      <td>1998-06-10</td>\n",
       "    </tr>\n",
       "  </tbody>\n",
       "</table>\n",
       "</div>"
      ],
      "text/plain": [
       "   order_date delivery_date\n",
       "ID                         \n",
       "1  1998-05-24    1999-02-05\n",
       "2  1992-04-22    1998-03-06\n",
       "4  1991-02-10    1992-08-26\n",
       "5  1992-07-21    1997-11-20\n",
       "7  1993-09-02    1998-06-10"
      ]
     },
     "execution_count": 55,
     "metadata": {},
     "output_type": "execute_result"
    }
   ],
   "source": [
    "# Load data set ecommerce.csv\n",
    "shipping = pd.read_csv(\"ecommerce.csv\", index_col = \"ID\", parse_dates = [\"order_date\", \"delivery_date\"])\n",
    "shipping.head()"
   ]
  },
  {
   "cell_type": "code",
   "execution_count": 56,
   "id": "2b3df64b",
   "metadata": {},
   "outputs": [],
   "source": [
    "# Determining how long it took to delivery and store the result in a new column named Delivery Time\n",
    "shipping[\"Delivery Time\"] = shipping[\"delivery_date\"] - shipping[\"order_date\"]"
   ]
  },
  {
   "cell_type": "code",
   "execution_count": 57,
   "id": "a999d6d4",
   "metadata": {},
   "outputs": [
    {
     "data": {
      "text/html": [
       "<div>\n",
       "<style scoped>\n",
       "    .dataframe tbody tr th:only-of-type {\n",
       "        vertical-align: middle;\n",
       "    }\n",
       "\n",
       "    .dataframe tbody tr th {\n",
       "        vertical-align: top;\n",
       "    }\n",
       "\n",
       "    .dataframe thead th {\n",
       "        text-align: right;\n",
       "    }\n",
       "</style>\n",
       "<table border=\"1\" class=\"dataframe\">\n",
       "  <thead>\n",
       "    <tr style=\"text-align: right;\">\n",
       "      <th></th>\n",
       "      <th>order_date</th>\n",
       "      <th>delivery_date</th>\n",
       "      <th>Delivery Time</th>\n",
       "    </tr>\n",
       "    <tr>\n",
       "      <th>ID</th>\n",
       "      <th></th>\n",
       "      <th></th>\n",
       "      <th></th>\n",
       "    </tr>\n",
       "  </thead>\n",
       "  <tbody>\n",
       "    <tr>\n",
       "      <th>1</th>\n",
       "      <td>1998-05-24</td>\n",
       "      <td>1999-02-05</td>\n",
       "      <td>257 days</td>\n",
       "    </tr>\n",
       "    <tr>\n",
       "      <th>2</th>\n",
       "      <td>1992-04-22</td>\n",
       "      <td>1998-03-06</td>\n",
       "      <td>2144 days</td>\n",
       "    </tr>\n",
       "    <tr>\n",
       "      <th>4</th>\n",
       "      <td>1991-02-10</td>\n",
       "      <td>1992-08-26</td>\n",
       "      <td>563 days</td>\n",
       "    </tr>\n",
       "    <tr>\n",
       "      <th>5</th>\n",
       "      <td>1992-07-21</td>\n",
       "      <td>1997-11-20</td>\n",
       "      <td>1948 days</td>\n",
       "    </tr>\n",
       "    <tr>\n",
       "      <th>7</th>\n",
       "      <td>1993-09-02</td>\n",
       "      <td>1998-06-10</td>\n",
       "      <td>1742 days</td>\n",
       "    </tr>\n",
       "  </tbody>\n",
       "</table>\n",
       "</div>"
      ],
      "text/plain": [
       "   order_date delivery_date Delivery Time\n",
       "ID                                       \n",
       "1  1998-05-24    1999-02-05      257 days\n",
       "2  1992-04-22    1998-03-06     2144 days\n",
       "4  1991-02-10    1992-08-26      563 days\n",
       "5  1992-07-21    1997-11-20     1948 days\n",
       "7  1993-09-02    1998-06-10     1742 days"
      ]
     },
     "execution_count": 57,
     "metadata": {},
     "output_type": "execute_result"
    }
   ],
   "source": [
    "shipping.head()"
   ]
  },
  {
   "cell_type": "code",
   "execution_count": 58,
   "id": "4e880ab1",
   "metadata": {},
   "outputs": [],
   "source": [
    "# Double the shipping time\n",
    "shipping[\"Twice As Long\"] = shipping[\"delivery_date\"] + shipping[\"Delivery Time\"]"
   ]
  },
  {
   "cell_type": "code",
   "execution_count": 59,
   "id": "e3154992",
   "metadata": {},
   "outputs": [
    {
     "data": {
      "text/html": [
       "<div>\n",
       "<style scoped>\n",
       "    .dataframe tbody tr th:only-of-type {\n",
       "        vertical-align: middle;\n",
       "    }\n",
       "\n",
       "    .dataframe tbody tr th {\n",
       "        vertical-align: top;\n",
       "    }\n",
       "\n",
       "    .dataframe thead th {\n",
       "        text-align: right;\n",
       "    }\n",
       "</style>\n",
       "<table border=\"1\" class=\"dataframe\">\n",
       "  <thead>\n",
       "    <tr style=\"text-align: right;\">\n",
       "      <th></th>\n",
       "      <th>order_date</th>\n",
       "      <th>delivery_date</th>\n",
       "      <th>Delivery Time</th>\n",
       "      <th>Twice As Long</th>\n",
       "    </tr>\n",
       "    <tr>\n",
       "      <th>ID</th>\n",
       "      <th></th>\n",
       "      <th></th>\n",
       "      <th></th>\n",
       "      <th></th>\n",
       "    </tr>\n",
       "  </thead>\n",
       "  <tbody>\n",
       "    <tr>\n",
       "      <th>1</th>\n",
       "      <td>1998-05-24</td>\n",
       "      <td>1999-02-05</td>\n",
       "      <td>257 days</td>\n",
       "      <td>1999-10-20</td>\n",
       "    </tr>\n",
       "    <tr>\n",
       "      <th>2</th>\n",
       "      <td>1992-04-22</td>\n",
       "      <td>1998-03-06</td>\n",
       "      <td>2144 days</td>\n",
       "      <td>2004-01-18</td>\n",
       "    </tr>\n",
       "    <tr>\n",
       "      <th>4</th>\n",
       "      <td>1991-02-10</td>\n",
       "      <td>1992-08-26</td>\n",
       "      <td>563 days</td>\n",
       "      <td>1994-03-12</td>\n",
       "    </tr>\n",
       "    <tr>\n",
       "      <th>5</th>\n",
       "      <td>1992-07-21</td>\n",
       "      <td>1997-11-20</td>\n",
       "      <td>1948 days</td>\n",
       "      <td>2003-03-22</td>\n",
       "    </tr>\n",
       "    <tr>\n",
       "      <th>7</th>\n",
       "      <td>1993-09-02</td>\n",
       "      <td>1998-06-10</td>\n",
       "      <td>1742 days</td>\n",
       "      <td>2003-03-18</td>\n",
       "    </tr>\n",
       "  </tbody>\n",
       "</table>\n",
       "</div>"
      ],
      "text/plain": [
       "   order_date delivery_date Delivery Time Twice As Long\n",
       "ID                                                     \n",
       "1  1998-05-24    1999-02-05      257 days    1999-10-20\n",
       "2  1992-04-22    1998-03-06     2144 days    2004-01-18\n",
       "4  1991-02-10    1992-08-26      563 days    1994-03-12\n",
       "5  1992-07-21    1997-11-20     1948 days    2003-03-22\n",
       "7  1993-09-02    1998-06-10     1742 days    2003-03-18"
      ]
     },
     "execution_count": 59,
     "metadata": {},
     "output_type": "execute_result"
    }
   ],
   "source": [
    "shipping.head()"
   ]
  },
  {
   "cell_type": "code",
   "execution_count": 60,
   "id": "e8191f11",
   "metadata": {},
   "outputs": [],
   "source": [
    "# Show that the delivery time was doubled\n",
    "shipping[\"Delivery Time Double\"] = shipping[\"Twice As Long\"] - shipping[\"order_date\"]"
   ]
  },
  {
   "cell_type": "code",
   "execution_count": 61,
   "id": "78c9f9c6",
   "metadata": {},
   "outputs": [
    {
     "data": {
      "text/html": [
       "<div>\n",
       "<style scoped>\n",
       "    .dataframe tbody tr th:only-of-type {\n",
       "        vertical-align: middle;\n",
       "    }\n",
       "\n",
       "    .dataframe tbody tr th {\n",
       "        vertical-align: top;\n",
       "    }\n",
       "\n",
       "    .dataframe thead th {\n",
       "        text-align: right;\n",
       "    }\n",
       "</style>\n",
       "<table border=\"1\" class=\"dataframe\">\n",
       "  <thead>\n",
       "    <tr style=\"text-align: right;\">\n",
       "      <th></th>\n",
       "      <th>order_date</th>\n",
       "      <th>delivery_date</th>\n",
       "      <th>Delivery Time</th>\n",
       "      <th>Twice As Long</th>\n",
       "      <th>Delivery Time Double</th>\n",
       "    </tr>\n",
       "    <tr>\n",
       "      <th>ID</th>\n",
       "      <th></th>\n",
       "      <th></th>\n",
       "      <th></th>\n",
       "      <th></th>\n",
       "      <th></th>\n",
       "    </tr>\n",
       "  </thead>\n",
       "  <tbody>\n",
       "    <tr>\n",
       "      <th>1</th>\n",
       "      <td>1998-05-24</td>\n",
       "      <td>1999-02-05</td>\n",
       "      <td>257 days</td>\n",
       "      <td>1999-10-20</td>\n",
       "      <td>514 days</td>\n",
       "    </tr>\n",
       "    <tr>\n",
       "      <th>2</th>\n",
       "      <td>1992-04-22</td>\n",
       "      <td>1998-03-06</td>\n",
       "      <td>2144 days</td>\n",
       "      <td>2004-01-18</td>\n",
       "      <td>4288 days</td>\n",
       "    </tr>\n",
       "    <tr>\n",
       "      <th>4</th>\n",
       "      <td>1991-02-10</td>\n",
       "      <td>1992-08-26</td>\n",
       "      <td>563 days</td>\n",
       "      <td>1994-03-12</td>\n",
       "      <td>1126 days</td>\n",
       "    </tr>\n",
       "    <tr>\n",
       "      <th>5</th>\n",
       "      <td>1992-07-21</td>\n",
       "      <td>1997-11-20</td>\n",
       "      <td>1948 days</td>\n",
       "      <td>2003-03-22</td>\n",
       "      <td>3896 days</td>\n",
       "    </tr>\n",
       "    <tr>\n",
       "      <th>7</th>\n",
       "      <td>1993-09-02</td>\n",
       "      <td>1998-06-10</td>\n",
       "      <td>1742 days</td>\n",
       "      <td>2003-03-18</td>\n",
       "      <td>3484 days</td>\n",
       "    </tr>\n",
       "  </tbody>\n",
       "</table>\n",
       "</div>"
      ],
      "text/plain": [
       "   order_date delivery_date Delivery Time Twice As Long Delivery Time Double\n",
       "ID                                                                          \n",
       "1  1998-05-24    1999-02-05      257 days    1999-10-20             514 days\n",
       "2  1992-04-22    1998-03-06     2144 days    2004-01-18            4288 days\n",
       "4  1991-02-10    1992-08-26      563 days    1994-03-12            1126 days\n",
       "5  1992-07-21    1997-11-20     1948 days    2003-03-22            3896 days\n",
       "7  1993-09-02    1998-06-10     1742 days    2003-03-18            3484 days"
      ]
     },
     "execution_count": 61,
     "metadata": {},
     "output_type": "execute_result"
    }
   ],
   "source": [
    "shipping.head()"
   ]
  },
  {
   "cell_type": "code",
   "execution_count": 62,
   "id": "4fa33792",
   "metadata": {},
   "outputs": [
    {
     "data": {
      "text/plain": [
       "order_date               datetime64[ns]\n",
       "delivery_date            datetime64[ns]\n",
       "Delivery Time           timedelta64[ns]\n",
       "Twice As Long            datetime64[ns]\n",
       "Delivery Time Double    timedelta64[ns]\n",
       "dtype: object"
      ]
     },
     "execution_count": 62,
     "metadata": {},
     "output_type": "execute_result"
    }
   ],
   "source": [
    "shipping.dtypes"
   ]
  },
  {
   "cell_type": "code",
   "execution_count": 63,
   "id": "9ebee70b",
   "metadata": {},
   "outputs": [
    {
     "data": {
      "text/html": [
       "<div>\n",
       "<style scoped>\n",
       "    .dataframe tbody tr th:only-of-type {\n",
       "        vertical-align: middle;\n",
       "    }\n",
       "\n",
       "    .dataframe tbody tr th {\n",
       "        vertical-align: top;\n",
       "    }\n",
       "\n",
       "    .dataframe thead th {\n",
       "        text-align: right;\n",
       "    }\n",
       "</style>\n",
       "<table border=\"1\" class=\"dataframe\">\n",
       "  <thead>\n",
       "    <tr style=\"text-align: right;\">\n",
       "      <th></th>\n",
       "      <th>order_date</th>\n",
       "      <th>delivery_date</th>\n",
       "      <th>Delivery Time</th>\n",
       "      <th>Twice As Long</th>\n",
       "      <th>Delivery Time Double</th>\n",
       "    </tr>\n",
       "    <tr>\n",
       "      <th>ID</th>\n",
       "      <th></th>\n",
       "      <th></th>\n",
       "      <th></th>\n",
       "      <th></th>\n",
       "      <th></th>\n",
       "    </tr>\n",
       "  </thead>\n",
       "  <tbody>\n",
       "    <tr>\n",
       "      <th>10</th>\n",
       "      <td>1992-02-23</td>\n",
       "      <td>1998-12-30</td>\n",
       "      <td>2502 days</td>\n",
       "      <td>2005-11-05</td>\n",
       "      <td>5004 days</td>\n",
       "    </tr>\n",
       "    <tr>\n",
       "      <th>23</th>\n",
       "      <td>1992-05-30</td>\n",
       "      <td>1999-08-15</td>\n",
       "      <td>2633 days</td>\n",
       "      <td>2006-10-30</td>\n",
       "      <td>5266 days</td>\n",
       "    </tr>\n",
       "    <tr>\n",
       "      <th>32</th>\n",
       "      <td>1990-01-20</td>\n",
       "      <td>1998-07-24</td>\n",
       "      <td>3107 days</td>\n",
       "      <td>2007-01-25</td>\n",
       "      <td>6214 days</td>\n",
       "    </tr>\n",
       "    <tr>\n",
       "      <th>50</th>\n",
       "      <td>1991-05-03</td>\n",
       "      <td>1999-07-17</td>\n",
       "      <td>2997 days</td>\n",
       "      <td>2007-09-30</td>\n",
       "      <td>5994 days</td>\n",
       "    </tr>\n",
       "    <tr>\n",
       "      <th>64</th>\n",
       "      <td>1990-11-25</td>\n",
       "      <td>1998-05-14</td>\n",
       "      <td>2727 days</td>\n",
       "      <td>2005-10-31</td>\n",
       "      <td>5454 days</td>\n",
       "    </tr>\n",
       "    <tr>\n",
       "      <th>...</th>\n",
       "      <td>...</td>\n",
       "      <td>...</td>\n",
       "      <td>...</td>\n",
       "      <td>...</td>\n",
       "      <td>...</td>\n",
       "    </tr>\n",
       "    <tr>\n",
       "      <th>943</th>\n",
       "      <td>1991-01-30</td>\n",
       "      <td>1999-12-02</td>\n",
       "      <td>3228 days</td>\n",
       "      <td>2008-10-03</td>\n",
       "      <td>6456 days</td>\n",
       "    </tr>\n",
       "    <tr>\n",
       "      <th>947</th>\n",
       "      <td>1991-06-18</td>\n",
       "      <td>1999-06-11</td>\n",
       "      <td>2915 days</td>\n",
       "      <td>2007-06-04</td>\n",
       "      <td>5830 days</td>\n",
       "    </tr>\n",
       "    <tr>\n",
       "      <th>958</th>\n",
       "      <td>1990-04-26</td>\n",
       "      <td>1997-06-29</td>\n",
       "      <td>2621 days</td>\n",
       "      <td>2004-09-01</td>\n",
       "      <td>5242 days</td>\n",
       "    </tr>\n",
       "    <tr>\n",
       "      <th>984</th>\n",
       "      <td>1991-07-25</td>\n",
       "      <td>1999-02-09</td>\n",
       "      <td>2756 days</td>\n",
       "      <td>2006-08-27</td>\n",
       "      <td>5512 days</td>\n",
       "    </tr>\n",
       "    <tr>\n",
       "      <th>993</th>\n",
       "      <td>1990-11-16</td>\n",
       "      <td>1998-04-27</td>\n",
       "      <td>2719 days</td>\n",
       "      <td>2005-10-06</td>\n",
       "      <td>5438 days</td>\n",
       "    </tr>\n",
       "  </tbody>\n",
       "</table>\n",
       "<p>63 rows × 5 columns</p>\n",
       "</div>"
      ],
      "text/plain": [
       "    order_date delivery_date Delivery Time Twice As Long Delivery Time Double\n",
       "ID                                                                           \n",
       "10  1992-02-23    1998-12-30     2502 days    2005-11-05            5004 days\n",
       "23  1992-05-30    1999-08-15     2633 days    2006-10-30            5266 days\n",
       "32  1990-01-20    1998-07-24     3107 days    2007-01-25            6214 days\n",
       "50  1991-05-03    1999-07-17     2997 days    2007-09-30            5994 days\n",
       "64  1990-11-25    1998-05-14     2727 days    2005-10-31            5454 days\n",
       "..         ...           ...           ...           ...                  ...\n",
       "943 1991-01-30    1999-12-02     3228 days    2008-10-03            6456 days\n",
       "947 1991-06-18    1999-06-11     2915 days    2007-06-04            5830 days\n",
       "958 1990-04-26    1997-06-29     2621 days    2004-09-01            5242 days\n",
       "984 1991-07-25    1999-02-09     2756 days    2006-08-27            5512 days\n",
       "993 1990-11-16    1998-04-27     2719 days    2005-10-06            5438 days\n",
       "\n",
       "[63 rows x 5 columns]"
      ]
     },
     "execution_count": 63,
     "metadata": {},
     "output_type": "execute_result"
    }
   ],
   "source": [
    "# List the ordrs that took more than 2500 days to be delivered\n",
    "mask = shipping[\"Delivery Time\"] > \"2500 days\"\n",
    "shipping[mask]"
   ]
  },
  {
   "cell_type": "code",
   "execution_count": null,
   "id": "5fff158d",
   "metadata": {},
   "outputs": [],
   "source": []
  },
  {
   "cell_type": "code",
   "execution_count": null,
   "id": "2e4e0365",
   "metadata": {},
   "outputs": [],
   "source": []
  }
 ],
 "metadata": {
  "kernelspec": {
   "display_name": "Python 3 (ipykernel)",
   "language": "python",
   "name": "python3"
  },
  "language_info": {
   "codemirror_mode": {
    "name": "ipython",
    "version": 3
   },
   "file_extension": ".py",
   "mimetype": "text/x-python",
   "name": "python",
   "nbconvert_exporter": "python",
   "pygments_lexer": "ipython3",
   "version": "3.9.12"
  }
 },
 "nbformat": 4,
 "nbformat_minor": 5
}
