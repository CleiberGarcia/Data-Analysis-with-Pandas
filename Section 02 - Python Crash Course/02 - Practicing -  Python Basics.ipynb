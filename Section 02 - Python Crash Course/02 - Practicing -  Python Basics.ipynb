{
 "cells": [
  {
   "cell_type": "markdown",
   "id": "fd5e3020",
   "metadata": {},
   "source": [
    "# Python basics"
   ]
  },
  {
   "cell_type": "markdown",
   "id": "87feb229",
   "metadata": {},
   "source": [
    "* Practioner: Cleiber Garcia\n",
    "* Date: 20 of November, 2022\n",
    "* Objective: Practicing working with data aggregation\n",
    "\n",
    "This notebook is based on the notebook written by Boris Pashkaver for the Course Data Analysis with Pandas and Python (Section 2: Crash Python Course), offered at Udemy. Although the degree of similarity between both notebooks is almost 100%, I built this notebook step by step.\n",
    "\n",
    "Link: https://www.udemy.com/course/data-analysis-with-pandas/\n",
    "\n",
    "For more information feel free to contact me at cleiber.garcia@gmail.com"
   ]
  },
  {
   "cell_type": "markdown",
   "id": "b0d79961",
   "metadata": {},
   "source": [
    "## Comments"
   ]
  },
  {
   "cell_type": "code",
   "execution_count": 5,
   "id": "135119d9",
   "metadata": {},
   "outputs": [
    {
     "data": {
      "text/plain": [
       "4"
      ]
     },
     "execution_count": 5,
     "metadata": {},
     "output_type": "execute_result"
    }
   ],
   "source": [
    "2 + 2 # Solve really complex mathematical expression using Python\n",
    "# 3 + 3"
   ]
  },
  {
   "cell_type": "markdown",
   "id": "f3a558dc",
   "metadata": {},
   "source": [
    "## Basic Data Types"
   ]
  },
  {
   "cell_type": "code",
   "execution_count": 8,
   "id": "d279294d",
   "metadata": {},
   "outputs": [
    {
     "name": "stdout",
     "output_type": "stream",
     "text": [
      "*** Integers ***\n",
      "5\n",
      "10\n",
      "10\n",
      "0\n"
     ]
    }
   ],
   "source": [
    "# Integers\n",
    "print(\"*** Integers ***\")\n",
    "print(5)\n",
    "print(10)\n",
    "print(10)\n",
    "print(0)"
   ]
  },
  {
   "cell_type": "code",
   "execution_count": 7,
   "id": "10bfacdb",
   "metadata": {},
   "outputs": [
    {
     "name": "stdout",
     "output_type": "stream",
     "text": [
      "*** Float ***\n",
      "3.14\n",
      "9.99\n",
      "-113.23819\n"
     ]
    }
   ],
   "source": [
    "# Float\n",
    "print('*** Float ***')\n",
    "print(3.14)\n",
    "print(9.99)\n",
    "print(-113.23819)"
   ]
  },
  {
   "cell_type": "code",
   "execution_count": 11,
   "id": "9821bc67",
   "metadata": {},
   "outputs": [
    {
     "name": "stdout",
     "output_type": "stream",
     "text": [
      "*** Strings ***\n",
      "\"Peter\"\n",
      "\"147.21\"\n",
      "'$128.53 dollars'\n",
      "\"\"\n",
      "''\n"
     ]
    }
   ],
   "source": [
    "# Strings\n",
    "print('*** Strings ***')\n",
    "print('\"Peter\"')\n",
    "print('\"147.21\"')\n",
    "print(\"'$128.53 dollars'\")\n",
    "print('\"\"')\n",
    "print(\"''\")"
   ]
  },
  {
   "cell_type": "code",
   "execution_count": 15,
   "id": "261e3b10",
   "metadata": {},
   "outputs": [
    {
     "name": "stdout",
     "output_type": "stream",
     "text": [
      "*** Boolean ***\n",
      "True\n",
      "False\n",
      "5 < 7:  True\n",
      "10 > 12:  False\n"
     ]
    }
   ],
   "source": [
    "# Boolean\n",
    "print('*** Boolean ***')\n",
    "print(True)\n",
    "print(False)\n",
    "print('5 < 7: ', 5 < 7)\n",
    "print(\"10 > 12: \", 10 > 12)"
   ]
  },
  {
   "cell_type": "code",
   "execution_count": 16,
   "id": "efdcb6e9",
   "metadata": {},
   "outputs": [
    {
     "name": "stdout",
     "output_type": "stream",
     "text": [
      "None == False:  False\n",
      "bool(None) == False:  True\n"
     ]
    }
   ],
   "source": [
    "# None versus False in Python\n",
    "# The only way None and False are related in Python is that the truth value of None is False. \n",
    "# This means when you convert None to a boolean, you get a False:\n",
    "\n",
    "print('None == False: ', None == False)\n",
    "print('bool(None) == False: ', bool(None) == False)"
   ]
  },
  {
   "cell_type": "markdown",
   "id": "3271e1b9",
   "metadata": {},
   "source": [
    "## Operators"
   ]
  },
  {
   "cell_type": "code",
   "execution_count": 20,
   "id": "18c1be1f",
   "metadata": {},
   "outputs": [
    {
     "name": "stdout",
     "output_type": "stream",
     "text": [
      "*** Addition ***\n",
      "5 + 3:  8\n",
      "3.14 + 7.96:  11.1\n"
     ]
    }
   ],
   "source": [
    "print('*** Addition ***')\n",
    "print('5 + 3: ', 5 + 3)\n",
    "print('3.14 + 7.96: ', 3.14 + 7.96)"
   ]
  },
  {
   "cell_type": "code",
   "execution_count": 21,
   "id": "24144c15",
   "metadata": {},
   "outputs": [
    {
     "name": "stdout",
     "output_type": "stream",
     "text": [
      "*** Subtraction ***\n",
      "10 - 5:  5\n",
      "5.7834 - 2.529:  3.2544000000000004\n"
     ]
    }
   ],
   "source": [
    "print('*** Subtraction ***')\n",
    "print('10 - 5: ', 10 - 5)\n",
    "print('5.7834 - 2.529: ', 5.7834 - 2.529)"
   ]
  },
  {
   "cell_type": "code",
   "execution_count": 19,
   "id": "ce22922e",
   "metadata": {},
   "outputs": [
    {
     "name": "stdout",
     "output_type": "stream",
     "text": [
      "*** Concatenation ***\n",
      "\"race\" + \"car\":  racecar\n"
     ]
    }
   ],
   "source": [
    "print('*** Concatenation ***')\n",
    "print('\"race\" + \"car\": ', \"race\" + \"car\")"
   ]
  },
  {
   "cell_type": "code",
   "execution_count": 32,
   "id": "9312e980",
   "metadata": {},
   "outputs": [
    {
     "name": "stdout",
     "output_type": "stream",
     "text": [
      "*** Multiplication ***\n",
      "5 * 3:  15\n",
      "8.29 * 12,83:  104.64000000000001 8354\n",
      "\"abc|\" * 5:  abc|abc|abc|abc|abc|\n"
     ]
    }
   ],
   "source": [
    "print('*** Multiplication ***')\n",
    "print('5 * 3: ', 5 * 3)\n",
    "print('8.29 * 12,83: ', 8.72 * 12,8354)\n",
    "print('\"abc|\" * 5: ', \"abc|\" * 5)"
   ]
  },
  {
   "cell_type": "code",
   "execution_count": 46,
   "id": "7bb815b8",
   "metadata": {},
   "outputs": [
    {
     "name": "stdout",
     "output_type": "stream",
     "text": [
      "*** Division ***\n",
      "15 / 4:  3.75\n",
      "15 // 4:  3\n"
     ]
    }
   ],
   "source": [
    "print('*** Division ***')\n",
    "print('15 / 4: ', 15 / 4) # Division with decimals in the quocient\n",
    "print('15 // 4: ', 15 // 4) # Division with integer quocient"
   ]
  },
  {
   "cell_type": "code",
   "execution_count": 50,
   "id": "82c6cee5",
   "metadata": {},
   "outputs": [
    {
     "name": "stdout",
     "output_type": "stream",
     "text": [
      "*** Exponentiation ***\n",
      "2 ** 3:  8\n",
      "7.45 ** 4:  3080.5275062500004\n"
     ]
    }
   ],
   "source": [
    "print('*** Exponentiation ***')\n",
    "print('2 ** 3: ', 2 ** 3) # same as 2 * 2 * 2\n",
    "print(\"7.45 ** 4: \", 7.45 ** 4) # same as 7.45 * 7.45 * 7.45 * 7.45"
   ]
  },
  {
   "cell_type": "code",
   "execution_count": 45,
   "id": "9d8f4cef",
   "metadata": {},
   "outputs": [
    {
     "name": "stdout",
     "output_type": "stream",
     "text": [
      "14 % 3:  2\n",
      "10 % 2:  0\n",
      "21 % 7:  0\n",
      "22 % 7:  1\n",
      "10.50 % 2:  0.8000000000000007\n"
     ]
    }
   ],
   "source": [
    "# Remainder (Modulo)\n",
    "print('14 % 3: ', 14 % 3)\n",
    "print('10 % 2: ', 10 % 2)\n",
    "print('21 % 7: ', 21 % 7)\n",
    "print('22 % 7: ', 22 % 7)\n",
    "print('10.50 % 2: ', 10.80 % 2)"
   ]
  },
  {
   "cell_type": "code",
   "execution_count": 58,
   "id": "05a0f683",
   "metadata": {},
   "outputs": [
    {
     "name": "stdout",
     "output_type": "stream",
     "text": [
      "*** Equality Operator ***\n",
      "1 == 1:  True\n",
      "1 == 2:  False\n",
      "1.0 == 1:  True\n",
      "Hello == Hello:  True\n",
      "HeLLo == Hello:  False\n",
      "True == True:  True\n",
      "False == False:  True\n",
      "True == False:  False\n"
     ]
    }
   ],
   "source": [
    "# Equality operator\n",
    "print('*** Equality Operator ***')\n",
    "print('1 == 1: ', 1 == 1)\n",
    "print('1 == 2: ', 1 == 2)\n",
    "print('1.0 == 1: ', 1.0 == 1)\n",
    "print('Hello == Hello: ', 'Hello' == \"Hello\")\n",
    "print('HeLLo == Hello: ', 'HeLLo' == \"Hello\")\n",
    "print('True == True: ', True == True)\n",
    "print('False == False: ', False == False)\n",
    "print('True == False: ', True == False)"
   ]
  },
  {
   "cell_type": "code",
   "execution_count": 65,
   "id": "2a08515e",
   "metadata": {},
   "outputs": [
    {
     "name": "stdout",
     "output_type": "stream",
     "text": [
      "*** Inequality operator ***\n",
      "5 != 10:  True\n",
      "\"Hello\" != \"Goodbye\":  True\n",
      "8.0 != 8:  False\n",
      "3 != 3:  False\n"
     ]
    }
   ],
   "source": [
    "print('*** Inequality operator ***')\n",
    "print('5 != 10: ', 5 != 10)\n",
    "print('\"Hello\" != \"Goodbye\": ', \"Hello\" != \"Goodbye\")\n",
    "print('8.0 != 8: ', 8.0 != 8)\n",
    "print('3 != 3: ', 3 != 3)"
   ]
  },
  {
   "cell_type": "code",
   "execution_count": 72,
   "id": "5e77e4d3",
   "metadata": {},
   "outputs": [
    {
     "name": "stdout",
     "output_type": "stream",
     "text": [
      "*** Relation of Order ***\n",
      "5 < 8:  True\n",
      "5 < 5:  False\n",
      "5 <= 8:  True\n",
      "5 <= 5:  True\n",
      "\n",
      "5 > 2:  True\n",
      "5 > 5:  False\n",
      "5 >= 2:  True\n",
      "5 >= 5:  True\n"
     ]
    }
   ],
   "source": [
    "print('*** Relation of Order ***')\n",
    "print('5 < 8: ', 5 < 8) # less than\n",
    "print('5 < 5: ', 5 < 5) # Less than\n",
    "print('5 <= 8: ', 5 <= 8) # less than or equal\n",
    "print('5 <= 5: ', 5 <= 5) # Less than or equal\n",
    "print('')\n",
    "print('5 > 2: ', 5 > 2) # Greater than\n",
    "print('5 > 5: ', 5 > 5) # Greater than\n",
    "print('5 >= 2: ', 5 >= 2) # Greater than or equal\n",
    "print('5 >= 5: ', 5 >= 5) # Greater than or equal"
   ]
  },
  {
   "cell_type": "markdown",
   "id": "a7bc67a9",
   "metadata": {},
   "source": [
    "## Variables"
   ]
  },
  {
   "cell_type": "code",
   "execution_count": 82,
   "id": "7e24185d",
   "metadata": {},
   "outputs": [
    {
     "data": {
      "text/plain": [
       "55"
      ]
     },
     "execution_count": 82,
     "metadata": {},
     "output_type": "execute_result"
    }
   ],
   "source": [
    "age = 55\n",
    "age"
   ]
  },
  {
   "cell_type": "code",
   "execution_count": 83,
   "id": "f238738f",
   "metadata": {},
   "outputs": [
    {
     "name": "stdout",
     "output_type": "stream",
     "text": [
      "60\n"
     ]
    }
   ],
   "source": [
    "print(age + 5)\n"
   ]
  },
  {
   "cell_type": "code",
   "execution_count": 84,
   "id": "437f3bb1",
   "metadata": {},
   "outputs": [],
   "source": [
    "price = 19.99\n",
    "first_name = \"Cleiber\"\n",
    "profession = \"Software Engineer\"\n",
    "is_handsome = True"
   ]
  },
  {
   "cell_type": "code",
   "execution_count": 85,
   "id": "d78d08d1",
   "metadata": {},
   "outputs": [
    {
     "data": {
      "text/plain": [
       "'Cleiber'"
      ]
     },
     "execution_count": 85,
     "metadata": {},
     "output_type": "execute_result"
    }
   ],
   "source": [
    "first_name"
   ]
  },
  {
   "cell_type": "code",
   "execution_count": 86,
   "id": "ccc77f39",
   "metadata": {},
   "outputs": [
    {
     "data": {
      "text/plain": [
       "True"
      ]
     },
     "execution_count": 86,
     "metadata": {},
     "output_type": "execute_result"
    }
   ],
   "source": [
    "is_handsome"
   ]
  },
  {
   "cell_type": "code",
   "execution_count": 87,
   "id": "dcde70bf",
   "metadata": {},
   "outputs": [
    {
     "data": {
      "text/plain": [
       "'Cleiber is awesome'"
      ]
     },
     "execution_count": 87,
     "metadata": {},
     "output_type": "execute_result"
    }
   ],
   "source": [
    "first_name + \" is awesome\""
   ]
  },
  {
   "cell_type": "code",
   "execution_count": 88,
   "id": "081bf950",
   "metadata": {},
   "outputs": [
    {
     "data": {
      "text/plain": [
       "55"
      ]
     },
     "execution_count": 88,
     "metadata": {},
     "output_type": "execute_result"
    }
   ],
   "source": [
    "age"
   ]
  },
  {
   "cell_type": "code",
   "execution_count": 89,
   "id": "ef5a86fa",
   "metadata": {},
   "outputs": [
    {
     "data": {
      "text/plain": [
       "'Software Engineer'"
      ]
     },
     "execution_count": 89,
     "metadata": {},
     "output_type": "execute_result"
    }
   ],
   "source": [
    "profession"
   ]
  },
  {
   "cell_type": "code",
   "execution_count": 90,
   "id": "0d2553e3",
   "metadata": {},
   "outputs": [],
   "source": [
    "profession = \"Python Developer\""
   ]
  },
  {
   "cell_type": "code",
   "execution_count": 91,
   "id": "0a01c7f5",
   "metadata": {},
   "outputs": [
    {
     "data": {
      "text/plain": [
       "'Python Developer'"
      ]
     },
     "execution_count": 91,
     "metadata": {},
     "output_type": "execute_result"
    }
   ],
   "source": [
    "profession"
   ]
  },
  {
   "cell_type": "markdown",
   "id": "42d67a50",
   "metadata": {},
   "source": [
    "## Built-in Functions"
   ]
  },
  {
   "cell_type": "code",
   "execution_count": 92,
   "id": "97d755de",
   "metadata": {},
   "outputs": [
    {
     "data": {
      "text/plain": [
       "36"
      ]
     },
     "execution_count": 92,
     "metadata": {},
     "output_type": "execute_result"
    }
   ],
   "source": [
    "len(\"How many characters do we have here?\")"
   ]
  },
  {
   "cell_type": "code",
   "execution_count": 93,
   "id": "2718ac24",
   "metadata": {},
   "outputs": [
    {
     "data": {
      "text/plain": [
       "'3.14'"
      ]
     },
     "execution_count": 93,
     "metadata": {},
     "output_type": "execute_result"
    }
   ],
   "source": [
    "str(3.14)"
   ]
  },
  {
   "cell_type": "code",
   "execution_count": 94,
   "id": "baea996b",
   "metadata": {},
   "outputs": [
    {
     "data": {
      "text/plain": [
       "10"
      ]
     },
     "execution_count": 94,
     "metadata": {},
     "output_type": "execute_result"
    }
   ],
   "source": [
    "int(\"10\")"
   ]
  },
  {
   "cell_type": "code",
   "execution_count": 95,
   "id": "bff352fb",
   "metadata": {},
   "outputs": [
    {
     "data": {
      "text/plain": [
       "9.384"
      ]
     },
     "execution_count": 95,
     "metadata": {},
     "output_type": "execute_result"
    }
   ],
   "source": [
    "float(\"9.384\")"
   ]
  },
  {
   "cell_type": "code",
   "execution_count": 96,
   "id": "8c9e2fb0",
   "metadata": {},
   "outputs": [
    {
     "data": {
      "text/plain": [
       "int"
      ]
     },
     "execution_count": 96,
     "metadata": {},
     "output_type": "execute_result"
    }
   ],
   "source": [
    "type(5)"
   ]
  },
  {
   "cell_type": "code",
   "execution_count": 97,
   "id": "e9462e84",
   "metadata": {},
   "outputs": [
    {
     "data": {
      "text/plain": [
       "float"
      ]
     },
     "execution_count": 97,
     "metadata": {},
     "output_type": "execute_result"
    }
   ],
   "source": [
    "type(3.14)"
   ]
  },
  {
   "cell_type": "code",
   "execution_count": 98,
   "id": "9cb85977",
   "metadata": {},
   "outputs": [
    {
     "data": {
      "text/plain": [
       "str"
      ]
     },
     "execution_count": 98,
     "metadata": {},
     "output_type": "execute_result"
    }
   ],
   "source": [
    "type(\"PlayStation\")"
   ]
  },
  {
   "cell_type": "code",
   "execution_count": 99,
   "id": "4a1fa9bc",
   "metadata": {},
   "outputs": [
    {
     "data": {
      "text/plain": [
       "bool"
      ]
     },
     "execution_count": 99,
     "metadata": {},
     "output_type": "execute_result"
    }
   ],
   "source": [
    "type(True)"
   ]
  },
  {
   "cell_type": "code",
   "execution_count": 103,
   "id": "de332eea",
   "metadata": {},
   "outputs": [
    {
     "data": {
      "text/plain": [
       "bool"
      ]
     },
     "execution_count": 103,
     "metadata": {},
     "output_type": "execute_result"
    }
   ],
   "source": [
    "type(False)"
   ]
  },
  {
   "cell_type": "code",
   "execution_count": 105,
   "id": "9cb4b871",
   "metadata": {},
   "outputs": [
    {
     "data": {
      "text/plain": [
       "NoneType"
      ]
     },
     "execution_count": 105,
     "metadata": {},
     "output_type": "execute_result"
    }
   ],
   "source": [
    "type(None)"
   ]
  },
  {
   "cell_type": "code",
   "execution_count": 106,
   "id": "b80ee02f",
   "metadata": {},
   "outputs": [
    {
     "data": {
      "text/plain": [
       "False"
      ]
     },
     "execution_count": 106,
     "metadata": {},
     "output_type": "execute_result"
    }
   ],
   "source": [
    "type(None) == type(False)"
   ]
  },
  {
   "cell_type": "code",
   "execution_count": 101,
   "id": "af8339de",
   "metadata": {},
   "outputs": [
    {
     "data": {
      "text/plain": [
       "True"
      ]
     },
     "execution_count": 101,
     "metadata": {},
     "output_type": "execute_result"
    }
   ],
   "source": [
    "type(10) == type(15)"
   ]
  },
  {
   "cell_type": "code",
   "execution_count": 102,
   "id": "cae7b735",
   "metadata": {},
   "outputs": [
    {
     "data": {
      "text/plain": [
       "False"
      ]
     },
     "execution_count": 102,
     "metadata": {},
     "output_type": "execute_result"
    }
   ],
   "source": [
    "type(10) == type(\"10\")"
   ]
  },
  {
   "cell_type": "markdown",
   "id": "cf976284",
   "metadata": {},
   "source": [
    "## Custom Functions"
   ]
  },
  {
   "cell_type": "code",
   "execution_count": 3,
   "id": "d160857a",
   "metadata": {},
   "outputs": [
    {
     "name": "stdout",
     "output_type": "stream",
     "text": [
      "27 degrees celsius is 80.6 degrees fahrenheit\n"
     ]
    }
   ],
   "source": [
    "# Declare a function that accepts a temperature in Celsius and returns it in Fahrenheit\n",
    "def convert_to_fahrenheit(celsius_temp):\n",
    "    product = celsius_temp * 1.8\n",
    "    return product + 32\n",
    "\n",
    "temperature_celsius = 27\n",
    "temperature_fahrenheit = convert_to_fahrenheit(temperature_celsius)\n",
    "print(f'{temperature_celsius} degrees celsius is {temperature_fahrenheit} degrees fahrenheit')"
   ]
  },
  {
   "cell_type": "markdown",
   "id": "7875f148",
   "metadata": {},
   "source": [
    "## String Methods"
   ]
  },
  {
   "cell_type": "code",
   "execution_count": 4,
   "id": "04510444",
   "metadata": {},
   "outputs": [],
   "source": [
    "profession = \"Developer\""
   ]
  },
  {
   "cell_type": "code",
   "execution_count": 5,
   "id": "e357a0f3",
   "metadata": {},
   "outputs": [
    {
     "data": {
      "text/plain": [
       "'DEVELOPER'"
      ]
     },
     "execution_count": 5,
     "metadata": {},
     "output_type": "execute_result"
    }
   ],
   "source": [
    "profession.upper()"
   ]
  },
  {
   "cell_type": "code",
   "execution_count": 6,
   "id": "49b51b60",
   "metadata": {},
   "outputs": [
    {
     "data": {
      "text/plain": [
       "'DEVELOPER'"
      ]
     },
     "execution_count": 6,
     "metadata": {},
     "output_type": "execute_result"
    }
   ],
   "source": [
    "\"Developer\".upper()"
   ]
  },
  {
   "cell_type": "code",
   "execution_count": 7,
   "id": "afa48cfb",
   "metadata": {},
   "outputs": [
    {
     "data": {
      "text/plain": [
       "'developer'"
      ]
     },
     "execution_count": 7,
     "metadata": {},
     "output_type": "execute_result"
    }
   ],
   "source": [
    "profession.lower()"
   ]
  },
  {
   "cell_type": "code",
   "execution_count": 8,
   "id": "db391ab0",
   "metadata": {},
   "outputs": [
    {
     "data": {
      "text/plain": [
       "'dEVELOPER'"
      ]
     },
     "execution_count": 8,
     "metadata": {},
     "output_type": "execute_result"
    }
   ],
   "source": [
    "profession.swapcase()"
   ]
  },
  {
   "cell_type": "code",
   "execution_count": 9,
   "id": "d602684a",
   "metadata": {},
   "outputs": [],
   "source": [
    "# immutable --> incapable of change\n",
    "# mutable --> capable of change\n",
    "\n",
    "# string --> immutable"
   ]
  },
  {
   "cell_type": "code",
   "execution_count": 10,
   "id": "830b8bf6",
   "metadata": {},
   "outputs": [
    {
     "data": {
      "text/plain": [
       "'Developer'"
      ]
     },
     "execution_count": 10,
     "metadata": {},
     "output_type": "execute_result"
    }
   ],
   "source": [
    "profession"
   ]
  },
  {
   "cell_type": "code",
   "execution_count": 11,
   "id": "4aaf7aa1",
   "metadata": {},
   "outputs": [
    {
     "data": {
      "text/plain": [
       "'Once Upon A Time'"
      ]
     },
     "execution_count": 11,
     "metadata": {},
     "output_type": "execute_result"
    }
   ],
   "source": [
    "\"once upon a time\".title()"
   ]
  },
  {
   "cell_type": "code",
   "execution_count": 12,
   "id": "b7b9a245",
   "metadata": {},
   "outputs": [
    {
     "data": {
      "text/plain": [
       "'Once upon a time'"
      ]
     },
     "execution_count": 12,
     "metadata": {},
     "output_type": "execute_result"
    }
   ],
   "source": [
    "\"once upon a time\".capitalize()"
   ]
  },
  {
   "cell_type": "code",
   "execution_count": 13,
   "id": "1846e1b1",
   "metadata": {},
   "outputs": [
    {
     "data": {
      "text/plain": [
       "'Ronald Mcdonald'"
      ]
     },
     "execution_count": 13,
     "metadata": {},
     "output_type": "execute_result"
    }
   ],
   "source": [
    "\"ronald mcdonald\".title()"
   ]
  },
  {
   "cell_type": "code",
   "execution_count": 16,
   "id": "0db1d9a3",
   "metadata": {},
   "outputs": [],
   "source": [
    "profession = \"        Developer          \""
   ]
  },
  {
   "cell_type": "code",
   "execution_count": 17,
   "id": "3cf8b580",
   "metadata": {},
   "outputs": [
    {
     "data": {
      "text/plain": [
       "'Developer          '"
      ]
     },
     "execution_count": 17,
     "metadata": {},
     "output_type": "execute_result"
    }
   ],
   "source": [
    "profession.lstrip() # left strip"
   ]
  },
  {
   "cell_type": "code",
   "execution_count": 18,
   "id": "d1f25fc5",
   "metadata": {},
   "outputs": [
    {
     "data": {
      "text/plain": [
       "'        Developer'"
      ]
     },
     "execution_count": 18,
     "metadata": {},
     "output_type": "execute_result"
    }
   ],
   "source": [
    "profession.rstrip() # right strip"
   ]
  },
  {
   "cell_type": "code",
   "execution_count": 20,
   "id": "c446eabb",
   "metadata": {},
   "outputs": [
    {
     "data": {
      "text/plain": [
       "'Developer'"
      ]
     },
     "execution_count": 20,
     "metadata": {},
     "output_type": "execute_result"
    }
   ],
   "source": [
    "profession.strip() # both left and right strip"
   ]
  },
  {
   "cell_type": "code",
   "execution_count": 21,
   "id": "e3beb12c",
   "metadata": {},
   "outputs": [
    {
     "data": {
      "text/plain": [
       "'        D*v*lop*r          '"
      ]
     },
     "execution_count": 21,
     "metadata": {},
     "output_type": "execute_result"
    }
   ],
   "source": [
    "profession.replace(\"e\", \"*\")"
   ]
  },
  {
   "cell_type": "code",
   "execution_count": 22,
   "id": "c40dc70a",
   "metadata": {},
   "outputs": [
    {
     "data": {
      "text/plain": [
       "'D*v*lop*r'"
      ]
     },
     "execution_count": 22,
     "metadata": {},
     "output_type": "execute_result"
    }
   ],
   "source": [
    "profession.strip().replace(\"e\", \"*\")"
   ]
  },
  {
   "cell_type": "code",
   "execution_count": 23,
   "id": "7496b670",
   "metadata": {},
   "outputs": [],
   "source": [
    "animal = \"rhinoceros\""
   ]
  },
  {
   "cell_type": "code",
   "execution_count": 24,
   "id": "01e25a2a",
   "metadata": {},
   "outputs": [
    {
     "data": {
      "text/plain": [
       "True"
      ]
     },
     "execution_count": 24,
     "metadata": {},
     "output_type": "execute_result"
    }
   ],
   "source": [
    "animal.startswith(\"rhino\")"
   ]
  },
  {
   "cell_type": "code",
   "execution_count": 25,
   "id": "97c500f5",
   "metadata": {},
   "outputs": [
    {
     "data": {
      "text/plain": [
       "False"
      ]
     },
     "execution_count": 25,
     "metadata": {},
     "output_type": "execute_result"
    }
   ],
   "source": [
    "animal.startswith(\"kjaskjas\")"
   ]
  },
  {
   "cell_type": "code",
   "execution_count": 26,
   "id": "00629a4e",
   "metadata": {},
   "outputs": [
    {
     "data": {
      "text/plain": [
       "True"
      ]
     },
     "execution_count": 26,
     "metadata": {},
     "output_type": "execute_result"
    }
   ],
   "source": [
    "animal.startswith(\"r\")"
   ]
  },
  {
   "cell_type": "code",
   "execution_count": 27,
   "id": "e7dc6675",
   "metadata": {},
   "outputs": [
    {
     "data": {
      "text/plain": [
       "False"
      ]
     },
     "execution_count": 27,
     "metadata": {},
     "output_type": "execute_result"
    }
   ],
   "source": [
    "animal.startswith(\"R\")"
   ]
  },
  {
   "cell_type": "code",
   "execution_count": 28,
   "id": "9c118bb8",
   "metadata": {},
   "outputs": [
    {
     "data": {
      "text/plain": [
       "True"
      ]
     },
     "execution_count": 28,
     "metadata": {},
     "output_type": "execute_result"
    }
   ],
   "source": [
    "animal.endswith(\"ros\")"
   ]
  },
  {
   "cell_type": "code",
   "execution_count": 29,
   "id": "f9b8e9c6",
   "metadata": {},
   "outputs": [
    {
     "data": {
      "text/plain": [
       "True"
      ]
     },
     "execution_count": 29,
     "metadata": {},
     "output_type": "execute_result"
    }
   ],
   "source": [
    "animal.endswith(\"s\")"
   ]
  },
  {
   "cell_type": "code",
   "execution_count": 30,
   "id": "1e9b0d7f",
   "metadata": {},
   "outputs": [
    {
     "data": {
      "text/plain": [
       "False"
      ]
     },
     "execution_count": 30,
     "metadata": {},
     "output_type": "execute_result"
    }
   ],
   "source": [
    "animal.endswith(\"zzz\")"
   ]
  },
  {
   "cell_type": "code",
   "execution_count": 31,
   "id": "424e5443",
   "metadata": {},
   "outputs": [
    {
     "data": {
      "text/plain": [
       "True"
      ]
     },
     "execution_count": 31,
     "metadata": {},
     "output_type": "execute_result"
    }
   ],
   "source": [
    "\"ino\" in animal"
   ]
  },
  {
   "cell_type": "code",
   "execution_count": 32,
   "id": "7575d11c",
   "metadata": {},
   "outputs": [
    {
     "data": {
      "text/plain": [
       "True"
      ]
     },
     "execution_count": 32,
     "metadata": {},
     "output_type": "execute_result"
    }
   ],
   "source": [
    "\"r\" in animal"
   ]
  },
  {
   "cell_type": "code",
   "execution_count": 33,
   "id": "d5ee5b15",
   "metadata": {},
   "outputs": [
    {
     "data": {
      "text/plain": [
       "True"
      ]
     },
     "execution_count": 33,
     "metadata": {},
     "output_type": "execute_result"
    }
   ],
   "source": [
    "\"ceros\" in animal"
   ]
  },
  {
   "cell_type": "code",
   "execution_count": 34,
   "id": "d04adab8",
   "metadata": {},
   "outputs": [
    {
     "data": {
      "text/plain": [
       "False"
      ]
     },
     "execution_count": 34,
     "metadata": {},
     "output_type": "execute_result"
    }
   ],
   "source": [
    "\"z\" in animal"
   ]
  },
  {
   "cell_type": "code",
   "execution_count": 35,
   "id": "014aa4a9",
   "metadata": {},
   "outputs": [
    {
     "data": {
      "text/plain": [
       "True"
      ]
     },
     "execution_count": 35,
     "metadata": {},
     "output_type": "execute_result"
    }
   ],
   "source": [
    "\"z\" not in animal"
   ]
  },
  {
   "cell_type": "code",
   "execution_count": 36,
   "id": "1a373ab8",
   "metadata": {},
   "outputs": [
    {
     "data": {
      "text/plain": [
       "False"
      ]
     },
     "execution_count": 36,
     "metadata": {},
     "output_type": "execute_result"
    }
   ],
   "source": [
    "\"rhino\" not in animal"
   ]
  },
  {
   "cell_type": "markdown",
   "id": "56ea194e",
   "metadata": {},
   "source": [
    "## Lists"
   ]
  },
  {
   "cell_type": "code",
   "execution_count": 37,
   "id": "7bcae33a",
   "metadata": {},
   "outputs": [],
   "source": [
    "# Mutable data structure that holds an ordered collection of elements"
   ]
  },
  {
   "cell_type": "code",
   "execution_count": 38,
   "id": "3569796d",
   "metadata": {},
   "outputs": [
    {
     "data": {
      "text/plain": [
       "[1, 2, 3, 4]"
      ]
     },
     "execution_count": 38,
     "metadata": {},
     "output_type": "execute_result"
    }
   ],
   "source": [
    "[1, 2, 3, 4]"
   ]
  },
  {
   "cell_type": "code",
   "execution_count": 39,
   "id": "3d0f61ca",
   "metadata": {},
   "outputs": [
    {
     "data": {
      "text/plain": [
       "[True, False, False, True]"
      ]
     },
     "execution_count": 39,
     "metadata": {},
     "output_type": "execute_result"
    }
   ],
   "source": [
    "[True, False, False, True]"
   ]
  },
  {
   "cell_type": "code",
   "execution_count": 40,
   "id": "8a5ce55f",
   "metadata": {},
   "outputs": [],
   "source": [
    "party_attendees = [\"Michael\", \"Freddy\", \"Jason\"]"
   ]
  },
  {
   "cell_type": "code",
   "execution_count": 41,
   "id": "4b933aae",
   "metadata": {},
   "outputs": [
    {
     "data": {
      "text/plain": [
       "['Michael', 'Freddy', 'Jason']"
      ]
     },
     "execution_count": 41,
     "metadata": {},
     "output_type": "execute_result"
    }
   ],
   "source": [
    "party_attendees"
   ]
  },
  {
   "cell_type": "code",
   "execution_count": 42,
   "id": "8a133b32",
   "metadata": {},
   "outputs": [
    {
     "data": {
      "text/plain": [
       "[]"
      ]
     },
     "execution_count": 42,
     "metadata": {},
     "output_type": "execute_result"
    }
   ],
   "source": [
    "[]"
   ]
  },
  {
   "cell_type": "code",
   "execution_count": 43,
   "id": "fe1091dd",
   "metadata": {},
   "outputs": [
    {
     "data": {
      "text/plain": [
       "3"
      ]
     },
     "execution_count": 43,
     "metadata": {},
     "output_type": "execute_result"
    }
   ],
   "source": [
    "len(party_attendees)"
   ]
  },
  {
   "cell_type": "code",
   "execution_count": 44,
   "id": "383d987f",
   "metadata": {},
   "outputs": [
    {
     "data": {
      "text/plain": [
       "list"
      ]
     },
     "execution_count": 44,
     "metadata": {},
     "output_type": "execute_result"
    }
   ],
   "source": [
    "type(party_attendees)"
   ]
  },
  {
   "cell_type": "code",
   "execution_count": 45,
   "id": "35e2089a",
   "metadata": {},
   "outputs": [],
   "source": [
    "presidents = [\"Washington\", \"Jefferson\"]"
   ]
  },
  {
   "cell_type": "code",
   "execution_count": 46,
   "id": "14e2d4bc",
   "metadata": {},
   "outputs": [],
   "source": [
    "presidents.append(\"Madison\")"
   ]
  },
  {
   "cell_type": "code",
   "execution_count": 47,
   "id": "9cb00594",
   "metadata": {},
   "outputs": [
    {
     "data": {
      "text/plain": [
       "['Washington', 'Jefferson', 'Madison']"
      ]
     },
     "execution_count": 47,
     "metadata": {},
     "output_type": "execute_result"
    }
   ],
   "source": [
    "presidents"
   ]
  },
  {
   "cell_type": "code",
   "execution_count": 48,
   "id": "7ff46207",
   "metadata": {},
   "outputs": [
    {
     "data": {
      "text/plain": [
       "['Salted', 'Unsalted', 'Caramel']"
      ]
     },
     "execution_count": 48,
     "metadata": {},
     "output_type": "execute_result"
    }
   ],
   "source": [
    "popcorn = [\"Salted\", \"Unsalted\", \"Caramel\"]\n",
    "popcorn"
   ]
  },
  {
   "cell_type": "code",
   "execution_count": 49,
   "id": "7f326916",
   "metadata": {},
   "outputs": [
    {
     "data": {
      "text/plain": [
       "'Caramel'"
      ]
     },
     "execution_count": 49,
     "metadata": {},
     "output_type": "execute_result"
    }
   ],
   "source": [
    "popcorn.pop()"
   ]
  },
  {
   "cell_type": "code",
   "execution_count": 50,
   "id": "0226aabc",
   "metadata": {},
   "outputs": [
    {
     "data": {
      "text/plain": [
       "['Salted', 'Unsalted']"
      ]
     },
     "execution_count": 50,
     "metadata": {},
     "output_type": "execute_result"
    }
   ],
   "source": [
    "popcorn"
   ]
  },
  {
   "cell_type": "code",
   "execution_count": 51,
   "id": "3e809863",
   "metadata": {},
   "outputs": [],
   "source": [
    "popcorn.remove(\"Salted\")"
   ]
  },
  {
   "cell_type": "code",
   "execution_count": 52,
   "id": "25d6dde2",
   "metadata": {},
   "outputs": [
    {
     "data": {
      "text/plain": [
       "['Unsalted']"
      ]
     },
     "execution_count": 52,
     "metadata": {},
     "output_type": "execute_result"
    }
   ],
   "source": [
    "popcorn"
   ]
  },
  {
   "cell_type": "code",
   "execution_count": 53,
   "id": "bae1c2da",
   "metadata": {},
   "outputs": [
    {
     "data": {
      "text/plain": [
       "True"
      ]
     },
     "execution_count": 53,
     "metadata": {},
     "output_type": "execute_result"
    }
   ],
   "source": [
    "\"cat\" in \"caterpillar\""
   ]
  },
  {
   "cell_type": "code",
   "execution_count": 54,
   "id": "08c94b4a",
   "metadata": {},
   "outputs": [],
   "source": [
    "planets = [\"Mercury\", \"Venus\", \"Earth\", \"Mars\"]"
   ]
  },
  {
   "cell_type": "code",
   "execution_count": 55,
   "id": "2eca445b",
   "metadata": {},
   "outputs": [
    {
     "data": {
      "text/plain": [
       "True"
      ]
     },
     "execution_count": 55,
     "metadata": {},
     "output_type": "execute_result"
    }
   ],
   "source": [
    "\"Earth\" in planets"
   ]
  },
  {
   "cell_type": "code",
   "execution_count": 56,
   "id": "bdb76880",
   "metadata": {},
   "outputs": [
    {
     "data": {
      "text/plain": [
       "False"
      ]
     },
     "execution_count": 56,
     "metadata": {},
     "output_type": "execute_result"
    }
   ],
   "source": [
    "\"earth\" in planets"
   ]
  },
  {
   "cell_type": "code",
   "execution_count": 57,
   "id": "b8f49ca6",
   "metadata": {},
   "outputs": [
    {
     "data": {
      "text/plain": [
       "True"
      ]
     },
     "execution_count": 57,
     "metadata": {},
     "output_type": "execute_result"
    }
   ],
   "source": [
    "\"Pluto\" not in planets"
   ]
  },
  {
   "cell_type": "code",
   "execution_count": 58,
   "id": "af84b162",
   "metadata": {},
   "outputs": [
    {
     "data": {
      "text/plain": [
       "False"
      ]
     },
     "execution_count": 58,
     "metadata": {},
     "output_type": "execute_result"
    }
   ],
   "source": [
    "\"Mars\" not in planets"
   ]
  },
  {
   "cell_type": "code",
   "execution_count": 60,
   "id": "5a6f6370",
   "metadata": {},
   "outputs": [
    {
     "data": {
      "text/plain": [
       "['abc', 123, True, 5.78]"
      ]
     },
     "execution_count": 60,
     "metadata": {},
     "output_type": "execute_result"
    }
   ],
   "source": [
    "my_list = [\"abc\", 123, True, 5.78]\n",
    "my_list"
   ]
  },
  {
   "cell_type": "code",
   "execution_count": 68,
   "id": "1b11b421",
   "metadata": {},
   "outputs": [
    {
     "name": "stdout",
     "output_type": "stream",
     "text": [
      "my_list[0]:  abc\n",
      "my_list[1]:  123\n",
      "my_list[2]:  True\n",
      "my_list[3]:  5.78\n"
     ]
    }
   ],
   "source": [
    "# Print the elements of my_list\n",
    "# A list starts with index 0\n",
    "for i in [0,1,2,3]:\n",
    "    print(f'my_list[{i}]: ', my_list[i])"
   ]
  },
  {
   "cell_type": "markdown",
   "id": "39e4d0be",
   "metadata": {},
   "source": [
    "## Index Positions and Slicing"
   ]
  },
  {
   "cell_type": "code",
   "execution_count": 69,
   "id": "4362c2df",
   "metadata": {},
   "outputs": [],
   "source": [
    "spiderman = \"Spiderman\""
   ]
  },
  {
   "cell_type": "code",
   "execution_count": 70,
   "id": "72a31138",
   "metadata": {},
   "outputs": [
    {
     "data": {
      "text/plain": [
       "9"
      ]
     },
     "execution_count": 70,
     "metadata": {},
     "output_type": "execute_result"
    }
   ],
   "source": [
    "len(spiderman)"
   ]
  },
  {
   "cell_type": "code",
   "execution_count": 81,
   "id": "160acff6",
   "metadata": {},
   "outputs": [
    {
     "name": "stdout",
     "output_type": "stream",
     "text": [
      "spiderman[0]:  S\n",
      "spiderman[1]:  p\n",
      "spiderman[8]:  n\n",
      "spiderman[5:8]:  rma\n"
     ]
    }
   ],
   "source": [
    "# 0 1 2 3 4 5 6 7 8 <-- index in ascending order\n",
    "# S p i d e r m a n \n",
    "print('spiderman[0]: ', spiderman[0])\n",
    "print('spiderman[1]: ', spiderman[1])\n",
    "print('spiderman[8]: ', spiderman[8])\n",
    "print('spiderman[5:8]: ', spiderman[5:8]) # print just 5, 6 and 7"
   ]
  },
  {
   "cell_type": "code",
   "execution_count": 84,
   "id": "40f324c9",
   "metadata": {},
   "outputs": [
    {
     "name": "stdout",
     "output_type": "stream",
     "text": [
      "spiderman[-1]:  n\n",
      "spiderman[-2]:  a\n",
      "spiderman[-3]:  m\n",
      "spiderman[-8]:  p\n",
      "spiderman[-9]:  S\n",
      "spiderman[-9:-5]:  Spid\n"
     ]
    }
   ],
   "source": [
    "# -9  -8  -7  -6  -5  -4  -3  -2  -1 <-- index in descending order\n",
    "#  S   p   i   d   e   r   m   a   n \n",
    "print('spiderman[-1]: ', spiderman[-1])\n",
    "print('spiderman[-2]: ', spiderman[-2])\n",
    "print('spiderman[-3]: ', spiderman[-3])\n",
    "print('spiderman[-8]: ', spiderman[-8])\n",
    "print('spiderman[-9]: ', spiderman[-9])\n",
    "print('spiderman[-9:-5]: ', spiderman[-9:-5]) # print just -9, -8, -7 and -6"
   ]
  },
  {
   "cell_type": "code",
   "execution_count": 96,
   "id": "ea37471a",
   "metadata": {},
   "outputs": [],
   "source": [
    "#   index -->      0         1            2           3               4\n",
    "#   index -->     -5        -4           -3          -2              -1\n",
    "superheroes = [\"Batman\", \"Superman\", \"Wolverine\", \"Ironman\", \"Arnold Schwarzenegger\"]"
   ]
  },
  {
   "cell_type": "code",
   "execution_count": 97,
   "id": "f9993324",
   "metadata": {},
   "outputs": [
    {
     "data": {
      "text/plain": [
       "5"
      ]
     },
     "execution_count": 97,
     "metadata": {},
     "output_type": "execute_result"
    }
   ],
   "source": [
    "len(superheroes)"
   ]
  },
  {
   "cell_type": "code",
   "execution_count": 98,
   "id": "acddd454",
   "metadata": {},
   "outputs": [
    {
     "name": "stdout",
     "output_type": "stream",
     "text": [
      "superheroes:  ['Batman', 'Superman', 'Wolverine', 'Ironman', 'Arnold Schwarzenegger']\n",
      "superheroes[0]:  Batman\n",
      "superheroes[2]:  Wolverine\n",
      "superheroes[4]:  Arnold Schwarzenegger\n"
     ]
    }
   ],
   "source": [
    "print('superheroes: ', superheroes)\n",
    "print('superheroes[0]: ', superheroes[0])\n",
    "print('superheroes[2]: ', superheroes[2])\n",
    "print('superheroes[4]: ', superheroes[4])"
   ]
  },
  {
   "cell_type": "code",
   "execution_count": 99,
   "id": "918497ac",
   "metadata": {},
   "outputs": [
    {
     "name": "stdout",
     "output_type": "stream",
     "text": [
      "superheroes:  ['Batman', 'Superman', 'Wolverine', 'Ironman', 'Arnold Schwarzenegger']\n",
      "superheroes[-1]:  Arnold Schwarzenegger\n",
      "superheroes[-3]:  Wolverine\n"
     ]
    }
   ],
   "source": [
    "print('superheroes: ', superheroes)\n",
    "print('superheroes[-1]: ', superheroes[-1])\n",
    "print('superheroes[-3]: ', superheroes[-3])"
   ]
  },
  {
   "cell_type": "code",
   "execution_count": 150,
   "id": "40cba0a4",
   "metadata": {},
   "outputs": [
    {
     "name": "stdout",
     "output_type": "stream",
     "text": [
      "superheroes:  ['Batman', 'Superman', 'Wolverine', 'Ironman', 'Arnold Schwarzenegger']\n",
      "superheroes[1:3]:  ['Superman', 'Wolverine']\n",
      "superheroes[2:4]:  ['Wolverine', 'Ironman']\n",
      "superheroes[2:]:  ['Wolverine', 'Ironman', 'Arnold Schwarzenegger']\n",
      "superheroes[:4]:  ['Batman', 'Superman', 'Wolverine', 'Ironman']\n",
      "superheroes[:]:  ['Batman', 'Superman', 'Wolverine', 'Ironman', 'Arnold Schwarzenegger']\n"
     ]
    }
   ],
   "source": [
    "print('superheroes: ', superheroes)\n",
    "print('superheroes[1:3]: ', superheroes[1:3])\n",
    "print('superheroes[2:4]: ', superheroes[2:4])\n",
    "print('superheroes[2:]: ', superheroes[2:]) # print 2, 3 and 4\n",
    "print('superheroes[:4]: ', superheroes[:4]) # print 0, 1, 2 and 3\n",
    "print('superheroes[:]: ', superheroes[:])"
   ]
  },
  {
   "cell_type": "code",
   "execution_count": 152,
   "id": "0a865102",
   "metadata": {},
   "outputs": [
    {
     "data": {
      "text/plain": [
       "[5, 'xyz']"
      ]
     },
     "execution_count": 152,
     "metadata": {},
     "output_type": "execute_result"
    }
   ],
   "source": [
    "my_list = [5, \"xyz\"]\n",
    "my_list"
   ]
  },
  {
   "cell_type": "code",
   "execution_count": 154,
   "id": "88dc6695",
   "metadata": {},
   "outputs": [
    {
     "data": {
      "text/plain": [
       "['abc', 'xyz']"
      ]
     },
     "execution_count": 154,
     "metadata": {},
     "output_type": "execute_result"
    }
   ],
   "source": [
    "my_list[0] = \"abc\"\n",
    "my_list"
   ]
  },
  {
   "cell_type": "markdown",
   "id": "209b8921",
   "metadata": {},
   "source": [
    "## Dictionaries"
   ]
  },
  {
   "cell_type": "code",
   "execution_count": 121,
   "id": "819ef6d7",
   "metadata": {},
   "outputs": [],
   "source": [
    "# An unordered collection of key-value pairs"
   ]
  },
  {
   "cell_type": "code",
   "execution_count": 122,
   "id": "aab31bb0",
   "metadata": {},
   "outputs": [],
   "source": [
    "menu = {\n",
    "    \"Filet Mignon\": 29.99,\n",
    "    \"Big Mac\": 3.99,\n",
    "    \"Pizza\": 0.99,\n",
    "    \"Salmon\": 29.99\n",
    "}"
   ]
  },
  {
   "cell_type": "code",
   "execution_count": 123,
   "id": "fa578ce4",
   "metadata": {},
   "outputs": [
    {
     "data": {
      "text/plain": [
       "{'Filet Mignon': 29.99, 'Big Mac': 3.99, 'Pizza': 0.99, 'Salmon': 29.99}"
      ]
     },
     "execution_count": 123,
     "metadata": {},
     "output_type": "execute_result"
    }
   ],
   "source": [
    "menu"
   ]
  },
  {
   "cell_type": "code",
   "execution_count": 124,
   "id": "5d744d26",
   "metadata": {},
   "outputs": [
    {
     "data": {
      "text/plain": [
       "4"
      ]
     },
     "execution_count": 124,
     "metadata": {},
     "output_type": "execute_result"
    }
   ],
   "source": [
    "len(menu)"
   ]
  },
  {
   "cell_type": "code",
   "execution_count": 125,
   "id": "8d07faf6",
   "metadata": {},
   "outputs": [
    {
     "data": {
      "text/plain": [
       "3.99"
      ]
     },
     "execution_count": 125,
     "metadata": {},
     "output_type": "execute_result"
    }
   ],
   "source": [
    "menu[\"Big Mac\"]"
   ]
  },
  {
   "cell_type": "code",
   "execution_count": 126,
   "id": "10353e00",
   "metadata": {},
   "outputs": [
    {
     "data": {
      "text/plain": [
       "{'Filet Mignon': 29.99, 'Big Mac': 3.99, 'Pizza': 0.99, 'Salmon': 29.99}"
      ]
     },
     "execution_count": 126,
     "metadata": {},
     "output_type": "execute_result"
    }
   ],
   "source": [
    "menu"
   ]
  },
  {
   "cell_type": "code",
   "execution_count": 127,
   "id": "c3e7b55d",
   "metadata": {},
   "outputs": [],
   "source": [
    "menu[\"Burrito\"] = 13.99"
   ]
  },
  {
   "cell_type": "code",
   "execution_count": 128,
   "id": "f66d2ebc",
   "metadata": {},
   "outputs": [
    {
     "data": {
      "text/plain": [
       "{'Filet Mignon': 29.99,\n",
       " 'Big Mac': 3.99,\n",
       " 'Pizza': 0.99,\n",
       " 'Salmon': 29.99,\n",
       " 'Burrito': 13.99}"
      ]
     },
     "execution_count": 128,
     "metadata": {},
     "output_type": "execute_result"
    }
   ],
   "source": [
    "menu"
   ]
  },
  {
   "cell_type": "code",
   "execution_count": 129,
   "id": "ee434d57",
   "metadata": {},
   "outputs": [],
   "source": [
    "menu[\"Big Mac\"] = 5.99"
   ]
  },
  {
   "cell_type": "code",
   "execution_count": 130,
   "id": "e7d029e4",
   "metadata": {},
   "outputs": [
    {
     "data": {
      "text/plain": [
       "{'Filet Mignon': 29.99,\n",
       " 'Big Mac': 5.99,\n",
       " 'Pizza': 0.99,\n",
       " 'Salmon': 29.99,\n",
       " 'Burrito': 13.99}"
      ]
     },
     "execution_count": 130,
     "metadata": {},
     "output_type": "execute_result"
    }
   ],
   "source": [
    "menu"
   ]
  },
  {
   "cell_type": "code",
   "execution_count": 131,
   "id": "31fb0047",
   "metadata": {},
   "outputs": [
    {
     "data": {
      "text/plain": [
       "29.99"
      ]
     },
     "execution_count": 131,
     "metadata": {},
     "output_type": "execute_result"
    }
   ],
   "source": [
    "menu.pop(\"Filet Mignon\") # remove \"Filet Mignon\" of the dictionary"
   ]
  },
  {
   "cell_type": "code",
   "execution_count": 132,
   "id": "32c80a0d",
   "metadata": {},
   "outputs": [
    {
     "data": {
      "text/plain": [
       "0.99"
      ]
     },
     "execution_count": 132,
     "metadata": {},
     "output_type": "execute_result"
    }
   ],
   "source": [
    "menu.pop(\"Pizza\") # remove \"Pizza\" of the dictionary"
   ]
  },
  {
   "cell_type": "code",
   "execution_count": 133,
   "id": "ade2f0ad",
   "metadata": {},
   "outputs": [
    {
     "data": {
      "text/plain": [
       "{'Big Mac': 5.99, 'Salmon': 29.99, 'Burrito': 13.99}"
      ]
     },
     "execution_count": 133,
     "metadata": {},
     "output_type": "execute_result"
    }
   ],
   "source": [
    "menu"
   ]
  },
  {
   "cell_type": "code",
   "execution_count": 134,
   "id": "00ea4c36",
   "metadata": {},
   "outputs": [
    {
     "data": {
      "text/plain": [
       "False"
      ]
     },
     "execution_count": 134,
     "metadata": {},
     "output_type": "execute_result"
    }
   ],
   "source": [
    "\"Pizza\" in menu"
   ]
  },
  {
   "cell_type": "code",
   "execution_count": 135,
   "id": "46202aaa",
   "metadata": {},
   "outputs": [
    {
     "data": {
      "text/plain": [
       "False"
      ]
     },
     "execution_count": 135,
     "metadata": {},
     "output_type": "execute_result"
    }
   ],
   "source": [
    "\"Hot Pockets\" in menu"
   ]
  },
  {
   "cell_type": "code",
   "execution_count": 136,
   "id": "072e4f91",
   "metadata": {},
   "outputs": [
    {
     "data": {
      "text/plain": [
       "True"
      ]
     },
     "execution_count": 136,
     "metadata": {},
     "output_type": "execute_result"
    }
   ],
   "source": [
    "\"Bubble Gum\" not in menu"
   ]
  },
  {
   "cell_type": "code",
   "execution_count": 137,
   "id": "bd43a89f",
   "metadata": {},
   "outputs": [
    {
     "data": {
      "text/plain": [
       "False"
      ]
     },
     "execution_count": 137,
     "metadata": {},
     "output_type": "execute_result"
    }
   ],
   "source": [
    "\"Burrito\" not in menu"
   ]
  },
  {
   "cell_type": "code",
   "execution_count": 138,
   "id": "ed933aed",
   "metadata": {},
   "outputs": [
    {
     "data": {
      "text/plain": [
       "False"
      ]
     },
     "execution_count": 138,
     "metadata": {},
     "output_type": "execute_result"
    }
   ],
   "source": [
    "5.99 in menu"
   ]
  },
  {
   "cell_type": "code",
   "execution_count": 139,
   "id": "cec2a58e",
   "metadata": {},
   "outputs": [
    {
     "data": {
      "text/plain": [
       "dict_values([5.99, 29.99, 13.99])"
      ]
     },
     "execution_count": 139,
     "metadata": {},
     "output_type": "execute_result"
    }
   ],
   "source": [
    "menu.values()"
   ]
  },
  {
   "cell_type": "code",
   "execution_count": 140,
   "id": "613b24bd",
   "metadata": {},
   "outputs": [
    {
     "data": {
      "text/plain": [
       "True"
      ]
     },
     "execution_count": 140,
     "metadata": {},
     "output_type": "execute_result"
    }
   ],
   "source": [
    "5.99 in menu.values()"
   ]
  },
  {
   "cell_type": "code",
   "execution_count": 142,
   "id": "e58f7014",
   "metadata": {},
   "outputs": [
    {
     "data": {
      "text/plain": [
       "False"
      ]
     },
     "execution_count": 142,
     "metadata": {},
     "output_type": "execute_result"
    }
   ],
   "source": [
    "99.95 in menu.values()"
   ]
  },
  {
   "cell_type": "markdown",
   "id": "ff7c1094",
   "metadata": {},
   "source": [
    "## Tuples"
   ]
  },
  {
   "cell_type": "code",
   "execution_count": 147,
   "id": "fdaa6928",
   "metadata": {},
   "outputs": [],
   "source": [
    "# A tuple is a collection of data which is ordered and unchangeable."
   ]
  },
  {
   "cell_type": "code",
   "execution_count": 148,
   "id": "0046c0ca",
   "metadata": {},
   "outputs": [],
   "source": [
    "my_tuple = (1, \"abc\")"
   ]
  },
  {
   "cell_type": "code",
   "execution_count": 144,
   "id": "81ea047c",
   "metadata": {},
   "outputs": [
    {
     "name": "stdout",
     "output_type": "stream",
     "text": [
      "1\n"
     ]
    }
   ],
   "source": [
    "print(my_tuple[0])"
   ]
  },
  {
   "cell_type": "code",
   "execution_count": 146,
   "id": "5cf1c662",
   "metadata": {},
   "outputs": [
    {
     "name": "stdout",
     "output_type": "stream",
     "text": [
      "abc\n"
     ]
    }
   ],
   "source": [
    "print(my_tuple[1])"
   ]
  },
  {
   "cell_type": "code",
   "execution_count": 149,
   "id": "076b32ad",
   "metadata": {},
   "outputs": [
    {
     "ename": "TypeError",
     "evalue": "'tuple' object does not support item assignment",
     "output_type": "error",
     "traceback": [
      "\u001b[1;31m---------------------------------------------------------------------------\u001b[0m",
      "\u001b[1;31mTypeError\u001b[0m                                 Traceback (most recent call last)",
      "Input \u001b[1;32mIn [149]\u001b[0m, in \u001b[0;36m<cell line: 1>\u001b[1;34m()\u001b[0m\n\u001b[1;32m----> 1\u001b[0m my_tuple[\u001b[38;5;241m1\u001b[39m] \u001b[38;5;241m=\u001b[39m \u001b[38;5;124m'\u001b[39m\u001b[38;5;124mxyz\u001b[39m\u001b[38;5;124m'\u001b[39m\n",
      "\u001b[1;31mTypeError\u001b[0m: 'tuple' object does not support item assignment"
     ]
    }
   ],
   "source": [
    "my_tuple[1] = 'xyz' # try to modify a tuple and raises an error"
   ]
  },
  {
   "cell_type": "markdown",
   "id": "1ca87419",
   "metadata": {},
   "source": [
    "## Sets"
   ]
  },
  {
   "cell_type": "code",
   "execution_count": null,
   "id": "0db4894c",
   "metadata": {},
   "outputs": [],
   "source": [
    "# Sets are collections of elements without repetition"
   ]
  },
  {
   "cell_type": "code",
   "execution_count": 156,
   "id": "43624e68",
   "metadata": {},
   "outputs": [
    {
     "data": {
      "text/plain": [
       "{1, 2, 3, 4, 5}"
      ]
     },
     "execution_count": 156,
     "metadata": {},
     "output_type": "execute_result"
    }
   ],
   "source": [
    "my_set = {1, 1, 2, 3, 4, 5}\n",
    "my_set"
   ]
  },
  {
   "cell_type": "code",
   "execution_count": 166,
   "id": "cbb18881",
   "metadata": {},
   "outputs": [
    {
     "name": "stdout",
     "output_type": "stream",
     "text": [
      "my_list:  [1, 1, 2, 3, 4, 5, 5]\n",
      "my_set:  {1, 2, 3, 4, 5}\n"
     ]
    }
   ],
   "source": [
    "# Removing duplicates of a list\n",
    "my_list = [1, 1, 2, 3, 4, 5, 5]\n",
    "print('my_list: ', my_list)\n",
    "\n",
    "my_set = set(my_list)\n",
    "\n",
    "print('my_set: ', my_set)"
   ]
  },
  {
   "cell_type": "code",
   "execution_count": null,
   "id": "7b660d81",
   "metadata": {},
   "outputs": [],
   "source": []
  }
 ],
 "metadata": {
  "kernelspec": {
   "display_name": "Python 3 (ipykernel)",
   "language": "python",
   "name": "python3"
  },
  "language_info": {
   "codemirror_mode": {
    "name": "ipython",
    "version": 3
   },
   "file_extension": ".py",
   "mimetype": "text/x-python",
   "name": "python",
   "nbconvert_exporter": "python",
   "pygments_lexer": "ipython3",
   "version": "3.9.12"
  }
 },
 "nbformat": 4,
 "nbformat_minor": 5
}
